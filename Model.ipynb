{
 "cells": [
  {
   "cell_type": "code",
   "execution_count": 1,
   "metadata": {},
   "outputs": [],
   "source": [
    "import pandas as pd, numpy as np, matplotlib.pyplot as plt, matplotlib as mpl, seaborn as sns, warnings\n",
    "\n",
    "%matplotlib inline\n",
    "from matplotlib import font_manager, rc\n",
    "font_name = font_manager.FontProperties(fname=\"c:/Windows/Fonts/malgun.ttf\").get_name()\n",
    "plt.rc('font', family='NanumGothic')\n",
    "rc('font', family=font_name)\n",
    "mpl.rcParams['axes.unicode_minus'] = False\n",
    "\n",
    "plt.style.use('ggplot')\n",
    "color_pal = [\"#F8766D\", \"#D39200\", \"#93AA00\", \"#00BA38\", \"#00C19F\", \"#00B9E3\", \"#619CFF\", \"#DB72FB\"]\n",
    "\n",
    "warnings.filterwarnings(action='ignore')\n",
    "\n",
    "from sklearn.ensemble import RandomForestRegressor\n",
    "from sklearn.ensemble import StackingRegressor\n",
    "from sklearn.ensemble import GradientBoostingRegressor\n",
    "from sklearn.svm import LinearSVR, SVR\n",
    "from sklearn.model_selection import GridSearchCV\n",
    "from sklearn.preprocessing import MinMaxScaler, StandardScaler, LabelEncoder\n",
    "from sklearn.model_selection import train_test_split"
   ]
  },
  {
   "cell_type": "code",
   "execution_count": 2,
   "metadata": {},
   "outputs": [],
   "source": [
    "df_raw = pd.read_csv('./data/total_df.csv')"
   ]
  },
  {
   "cell_type": "code",
   "execution_count": 3,
   "metadata": {},
   "outputs": [
    {
     "data": {
      "text/html": [
       "<div>\n",
       "<style scoped>\n",
       "    .dataframe tbody tr th:only-of-type {\n",
       "        vertical-align: middle;\n",
       "    }\n",
       "\n",
       "    .dataframe tbody tr th {\n",
       "        vertical-align: top;\n",
       "    }\n",
       "\n",
       "    .dataframe thead th {\n",
       "        text-align: right;\n",
       "    }\n",
       "</style>\n",
       "<table border=\"1\" class=\"dataframe\">\n",
       "  <thead>\n",
       "    <tr style=\"text-align: right;\">\n",
       "      <th></th>\n",
       "      <th>CARD_SIDO_NM</th>\n",
       "      <th>CARD_CCG_NM</th>\n",
       "      <th>STD_CLSS_NM</th>\n",
       "      <th>AGE</th>\n",
       "      <th>SEX_CTGO_CD</th>\n",
       "      <th>FLC</th>\n",
       "      <th>REG_YYMM</th>\n",
       "      <th>CSTMR_CNT</th>\n",
       "      <th>AMT</th>\n",
       "      <th>CNT</th>\n",
       "      <th>CV</th>\n",
       "      <th>AVG_TEMP</th>\n",
       "      <th>AVG_MAX_TEMP</th>\n",
       "      <th>AVG_MIN_TEMP</th>\n",
       "      <th>MONTH_PRECIPITATION</th>\n",
       "    </tr>\n",
       "  </thead>\n",
       "  <tbody>\n",
       "    <tr>\n",
       "      <th>0</th>\n",
       "      <td>강원</td>\n",
       "      <td>강릉시</td>\n",
       "      <td>건강보조식품 소매업</td>\n",
       "      <td>20s</td>\n",
       "      <td>1</td>\n",
       "      <td>1</td>\n",
       "      <td>201901</td>\n",
       "      <td>4</td>\n",
       "      <td>311200</td>\n",
       "      <td>4</td>\n",
       "      <td>0</td>\n",
       "      <td>-1.1</td>\n",
       "      <td>5.25</td>\n",
       "      <td>-6.95</td>\n",
       "      <td>4.45</td>\n",
       "    </tr>\n",
       "    <tr>\n",
       "      <th>1</th>\n",
       "      <td>강원</td>\n",
       "      <td>강릉시</td>\n",
       "      <td>건강보조식품 소매업</td>\n",
       "      <td>30s</td>\n",
       "      <td>1</td>\n",
       "      <td>2</td>\n",
       "      <td>201901</td>\n",
       "      <td>7</td>\n",
       "      <td>1374500</td>\n",
       "      <td>8</td>\n",
       "      <td>0</td>\n",
       "      <td>-1.1</td>\n",
       "      <td>5.25</td>\n",
       "      <td>-6.95</td>\n",
       "      <td>4.45</td>\n",
       "    </tr>\n",
       "    <tr>\n",
       "      <th>2</th>\n",
       "      <td>강원</td>\n",
       "      <td>강릉시</td>\n",
       "      <td>건강보조식품 소매업</td>\n",
       "      <td>30s</td>\n",
       "      <td>2</td>\n",
       "      <td>2</td>\n",
       "      <td>201901</td>\n",
       "      <td>6</td>\n",
       "      <td>818700</td>\n",
       "      <td>6</td>\n",
       "      <td>0</td>\n",
       "      <td>-1.1</td>\n",
       "      <td>5.25</td>\n",
       "      <td>-6.95</td>\n",
       "      <td>4.45</td>\n",
       "    </tr>\n",
       "    <tr>\n",
       "      <th>3</th>\n",
       "      <td>강원</td>\n",
       "      <td>강릉시</td>\n",
       "      <td>건강보조식품 소매업</td>\n",
       "      <td>40s</td>\n",
       "      <td>1</td>\n",
       "      <td>3</td>\n",
       "      <td>201901</td>\n",
       "      <td>4</td>\n",
       "      <td>1717000</td>\n",
       "      <td>5</td>\n",
       "      <td>0</td>\n",
       "      <td>-1.1</td>\n",
       "      <td>5.25</td>\n",
       "      <td>-6.95</td>\n",
       "      <td>4.45</td>\n",
       "    </tr>\n",
       "    <tr>\n",
       "      <th>4</th>\n",
       "      <td>강원</td>\n",
       "      <td>강릉시</td>\n",
       "      <td>건강보조식품 소매업</td>\n",
       "      <td>40s</td>\n",
       "      <td>1</td>\n",
       "      <td>4</td>\n",
       "      <td>201901</td>\n",
       "      <td>3</td>\n",
       "      <td>1047300</td>\n",
       "      <td>3</td>\n",
       "      <td>0</td>\n",
       "      <td>-1.1</td>\n",
       "      <td>5.25</td>\n",
       "      <td>-6.95</td>\n",
       "      <td>4.45</td>\n",
       "    </tr>\n",
       "  </tbody>\n",
       "</table>\n",
       "</div>"
      ],
      "text/plain": [
       "  CARD_SIDO_NM CARD_CCG_NM STD_CLSS_NM  AGE  SEX_CTGO_CD  FLC  REG_YYMM  \\\n",
       "0           강원         강릉시  건강보조식품 소매업  20s            1    1    201901   \n",
       "1           강원         강릉시  건강보조식품 소매업  30s            1    2    201901   \n",
       "2           강원         강릉시  건강보조식품 소매업  30s            2    2    201901   \n",
       "3           강원         강릉시  건강보조식품 소매업  40s            1    3    201901   \n",
       "4           강원         강릉시  건강보조식품 소매업  40s            1    4    201901   \n",
       "\n",
       "   CSTMR_CNT      AMT  CNT  CV  AVG_TEMP  AVG_MAX_TEMP  AVG_MIN_TEMP  \\\n",
       "0          4   311200    4   0      -1.1          5.25         -6.95   \n",
       "1          7  1374500    8   0      -1.1          5.25         -6.95   \n",
       "2          6   818700    6   0      -1.1          5.25         -6.95   \n",
       "3          4  1717000    5   0      -1.1          5.25         -6.95   \n",
       "4          3  1047300    3   0      -1.1          5.25         -6.95   \n",
       "\n",
       "   MONTH_PRECIPITATION  \n",
       "0                 4.45  \n",
       "1                 4.45  \n",
       "2                 4.45  \n",
       "3                 4.45  \n",
       "4                 4.45  "
      ]
     },
     "execution_count": 3,
     "metadata": {},
     "output_type": "execute_result"
    }
   ],
   "source": [
    "df = df_raw\n",
    "df.head()"
   ]
  },
  {
   "cell_type": "markdown",
   "metadata": {},
   "source": [
    "# Label Encoding"
   ]
  },
  {
   "cell_type": "code",
   "execution_count": 4,
   "metadata": {},
   "outputs": [],
   "source": [
    "le = LabelEncoder()\n",
    "# le = le.fit(df['CARD_SIDO_NM'])\n",
    "# df['CARD_SIDO_NM'] = le.transform(df['CARD_SIDO_NM'])"
   ]
  },
  {
   "cell_type": "code",
   "execution_count": 5,
   "metadata": {},
   "outputs": [
    {
     "data": {
      "text/plain": [
       "Index(['CARD_SIDO_NM', 'CARD_CCG_NM', 'STD_CLSS_NM', 'AGE', 'SEX_CTGO_CD',\n",
       "       'FLC', 'REG_YYMM', 'CSTMR_CNT', 'AMT', 'CNT', 'CV', 'AVG_TEMP',\n",
       "       'AVG_MAX_TEMP', 'AVG_MIN_TEMP', 'MONTH_PRECIPITATION'],\n",
       "      dtype='object')"
      ]
     },
     "execution_count": 5,
     "metadata": {},
     "output_type": "execute_result"
    }
   ],
   "source": [
    "df.columns"
   ]
  },
  {
   "cell_type": "code",
   "execution_count": 6,
   "metadata": {},
   "outputs": [],
   "source": [
    "categorical_cols = ['CARD_SIDO_NM', 'CARD_CCG_NM', 'STD_CLSS_NM', 'AGE']"
   ]
  },
  {
   "cell_type": "code",
   "execution_count": 7,
   "metadata": {},
   "outputs": [],
   "source": [
    "for col in categorical_cols:\n",
    "    le = le.fit(df['{}'.format(col)])\n",
    "    df['{}'.format(col)] = le.transform( df['{}'.format(col)])"
   ]
  },
  {
   "cell_type": "code",
   "execution_count": 8,
   "metadata": {},
   "outputs": [
    {
     "name": "stdout",
     "output_type": "stream",
     "text": [
      "<class 'pandas.core.frame.DataFrame'>\n",
      "RangeIndex: 1225754 entries, 0 to 1225753\n",
      "Data columns (total 15 columns):\n",
      " #   Column               Non-Null Count    Dtype  \n",
      "---  ------               --------------    -----  \n",
      " 0   CARD_SIDO_NM         1225754 non-null  int32  \n",
      " 1   CARD_CCG_NM          1225754 non-null  int32  \n",
      " 2   STD_CLSS_NM          1225754 non-null  int32  \n",
      " 3   AGE                  1225754 non-null  int32  \n",
      " 4   SEX_CTGO_CD          1225754 non-null  int64  \n",
      " 5   FLC                  1225754 non-null  int64  \n",
      " 6   REG_YYMM             1225754 non-null  int64  \n",
      " 7   CSTMR_CNT            1225754 non-null  int64  \n",
      " 8   AMT                  1225754 non-null  int64  \n",
      " 9   CNT                  1225754 non-null  int64  \n",
      " 10  CV                   1225754 non-null  int64  \n",
      " 11  AVG_TEMP             1225754 non-null  float64\n",
      " 12  AVG_MAX_TEMP         1225754 non-null  float64\n",
      " 13  AVG_MIN_TEMP         1225754 non-null  float64\n",
      " 14  MONTH_PRECIPITATION  1225754 non-null  float64\n",
      "dtypes: float64(4), int32(4), int64(7)\n",
      "memory usage: 121.6 MB\n"
     ]
    }
   ],
   "source": [
    "df.info()"
   ]
  },
  {
   "cell_type": "markdown",
   "metadata": {},
   "source": [
    "# Preprocessing"
   ]
  },
  {
   "cell_type": "code",
   "execution_count": 9,
   "metadata": {},
   "outputs": [],
   "source": [
    "# 변수명 지정\n",
    "X_cols = list(df.columns)\n",
    "X_cols.remove('AMT')"
   ]
  },
  {
   "cell_type": "code",
   "execution_count": 10,
   "metadata": {},
   "outputs": [],
   "source": [
    "X = df[X_cols]\n",
    "y = df['AMT']"
   ]
  },
  {
   "cell_type": "code",
   "execution_count": 11,
   "metadata": {},
   "outputs": [],
   "source": [
    "# X 변수 Scale 적용\n",
    "# scaler = StandardScaler()\n",
    "# X = scaler.fit_transform(X)"
   ]
  },
  {
   "cell_type": "code",
   "execution_count": 12,
   "metadata": {},
   "outputs": [],
   "source": [
    "X_train, X_test, y_train, y_test = train_test_split(X, y, test_size=0.3, shuffle=True)"
   ]
  },
  {
   "cell_type": "markdown",
   "metadata": {},
   "source": [
    "# Random Forest"
   ]
  },
  {
   "cell_type": "code",
   "execution_count": 35,
   "metadata": {},
   "outputs": [
    {
     "data": {
      "text/plain": [
       "RandomForestRegressor()"
      ]
     },
     "execution_count": 35,
     "metadata": {},
     "output_type": "execute_result"
    }
   ],
   "source": [
    "rf_uncustomized = RandomForestRegressor()\n",
    "rf_uncustomized.fit(X_train, y_train)"
   ]
  },
  {
   "cell_type": "code",
   "execution_count": 36,
   "metadata": {},
   "outputs": [
    {
     "name": "stdout",
     "output_type": "stream",
     "text": [
      "Score on training set : 0.999\n",
      "Score on test set : 0.991\n"
     ]
    }
   ],
   "source": [
    "# Train 데이터 설명력\n",
    "print(\"Score on training set : {:.3f}\".format(rf_uncustomized.score(X_train,y_train)))\n",
    "print(\"Score on test set : {:.3f}\".format(rf_uncustomized.score(X_test,y_test)))"
   ]
  },
  {
   "cell_type": "markdown",
   "metadata": {},
   "source": [
    "# SVM Regressor"
   ]
  },
  {
   "cell_type": "code",
   "execution_count": null,
   "metadata": {},
   "outputs": [],
   "source": [
    "svm_uncustomized = SVR()\n",
    "svm_uncustomized.fit(X_train, y_train)\n",
    "# Train 데이터 설명력"
   ]
  },
  {
   "cell_type": "code",
   "execution_count": null,
   "metadata": {},
   "outputs": [],
   "source": [
    "print(\"Score on training set : {:.3f}\".format(svm_uncustomized.score(X_train,y_train)))\n",
    "print(\"Score on test set : {:.3f}\".format(svm_uncustomized.score(X_test,y_test)))"
   ]
  },
  {
   "cell_type": "code",
   "execution_count": null,
   "metadata": {},
   "outputs": [],
   "source": []
  }
 ],
 "metadata": {
  "kernelspec": {
   "display_name": "Python 3",
   "language": "python",
   "name": "python3"
  },
  "language_info": {
   "codemirror_mode": {
    "name": "ipython",
    "version": 3
   },
   "file_extension": ".py",
   "mimetype": "text/x-python",
   "name": "python",
   "nbconvert_exporter": "python",
   "pygments_lexer": "ipython3",
   "version": "3.7.3"
  }
 },
 "nbformat": 4,
 "nbformat_minor": 4
}
