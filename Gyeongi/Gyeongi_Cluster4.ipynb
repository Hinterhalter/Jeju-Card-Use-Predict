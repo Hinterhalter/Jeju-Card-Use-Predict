{
 "cells": [
  {
   "cell_type": "code",
   "execution_count": 63,
   "metadata": {},
   "outputs": [],
   "source": [
    "import pandas as pd, numpy as np, matplotlib.pyplot as plt, matplotlib as mpl, seaborn as sns, warnings\n",
    "\n",
    "%matplotlib inline\n",
    "from matplotlib import font_manager, rc\n",
    "font_name = font_manager.FontProperties(fname=\"c:/Windows/Fonts/malgun.ttf\").get_name()\n",
    "plt.rc('font', family='NanumGothic')\n",
    "rc('font', family=font_name)\n",
    "mpl.rcParams['axes.unicode_minus'] = False\n",
    "\n",
    "plt.style.use('ggplot')\n",
    "color_pal = [\"#F8766D\", \"#D39200\", \"#93AA00\", \"#00BA38\", \"#00C19F\", \"#00B9E3\", \"#619CFF\", \"#DB72FB\"]\n",
    "\n",
    "warnings.filterwarnings(action='ignore')\n",
    "\n",
    "from sklearn.ensemble import RandomForestRegressor\n",
    "from sklearn.ensemble import StackingRegressor\n",
    "from sklearn.ensemble import GradientBoostingRegressor\n",
    "from sklearn.neighbors import KNeighborsRegressor\n",
    "from sklearn.svm import LinearSVR, SVR\n",
    "from scipy.cluster.hierarchy import linkage, dendrogram, fcluster\n",
    "from sklearn.cluster import KMeans, DBSCAN\n",
    "from sklearn.metrics import mean_squared_error, mean_squared_log_error\n",
    "from sklearn.model_selection import GridSearchCV\n",
    "from sklearn.preprocessing import MinMaxScaler, StandardScaler, LabelEncoder\n",
    "from sklearn.model_selection import train_test_split\n",
    "import lightgbm as lgb"
   ]
  },
  {
   "cell_type": "code",
   "execution_count": 85,
   "metadata": {},
   "outputs": [],
   "source": [
    "df_raw = pd.read_csv('cl4.csv')"
   ]
  },
  {
   "cell_type": "code",
   "execution_count": 134,
   "metadata": {},
   "outputs": [],
   "source": [
    "# df = df_raw[df_raw['REG_YYMM'].isin([202001, 202002, 202003])]\n",
    "# df.head()"
   ]
  },
  {
   "cell_type": "code",
   "execution_count": 135,
   "metadata": {},
   "outputs": [
    {
     "data": {
      "text/html": [
       "<div>\n",
       "<style scoped>\n",
       "    .dataframe tbody tr th:only-of-type {\n",
       "        vertical-align: middle;\n",
       "    }\n",
       "\n",
       "    .dataframe tbody tr th {\n",
       "        vertical-align: top;\n",
       "    }\n",
       "\n",
       "    .dataframe thead th {\n",
       "        text-align: right;\n",
       "    }\n",
       "</style>\n",
       "<table border=\"1\" class=\"dataframe\">\n",
       "  <thead>\n",
       "    <tr style=\"text-align: right;\">\n",
       "      <th></th>\n",
       "      <th>REG_YYMM</th>\n",
       "      <th>CARD_SIDO_NM</th>\n",
       "      <th>STD_CLSS_NM</th>\n",
       "      <th>AGE</th>\n",
       "      <th>SEX_CTGO_CD</th>\n",
       "      <th>FLC</th>\n",
       "      <th>CSTMR_CNT</th>\n",
       "      <th>AMT</th>\n",
       "      <th>CNT</th>\n",
       "      <th>CV</th>\n",
       "    </tr>\n",
       "  </thead>\n",
       "  <tbody>\n",
       "    <tr>\n",
       "      <th>0</th>\n",
       "      <td>201901</td>\n",
       "      <td>경기</td>\n",
       "      <td>건강보조식품 소매업</td>\n",
       "      <td>10s</td>\n",
       "      <td>1</td>\n",
       "      <td>1</td>\n",
       "      <td>4</td>\n",
       "      <td>12450</td>\n",
       "      <td>4</td>\n",
       "      <td>0</td>\n",
       "    </tr>\n",
       "    <tr>\n",
       "      <th>1</th>\n",
       "      <td>201901</td>\n",
       "      <td>경기</td>\n",
       "      <td>건강보조식품 소매업</td>\n",
       "      <td>10s</td>\n",
       "      <td>2</td>\n",
       "      <td>1</td>\n",
       "      <td>4</td>\n",
       "      <td>18600</td>\n",
       "      <td>5</td>\n",
       "      <td>0</td>\n",
       "    </tr>\n",
       "    <tr>\n",
       "      <th>2</th>\n",
       "      <td>201901</td>\n",
       "      <td>경기</td>\n",
       "      <td>건강보조식품 소매업</td>\n",
       "      <td>20s</td>\n",
       "      <td>1</td>\n",
       "      <td>1</td>\n",
       "      <td>65</td>\n",
       "      <td>4192670</td>\n",
       "      <td>81</td>\n",
       "      <td>0</td>\n",
       "    </tr>\n",
       "    <tr>\n",
       "      <th>3</th>\n",
       "      <td>201901</td>\n",
       "      <td>경기</td>\n",
       "      <td>건강보조식품 소매업</td>\n",
       "      <td>20s</td>\n",
       "      <td>1</td>\n",
       "      <td>2</td>\n",
       "      <td>6</td>\n",
       "      <td>298800</td>\n",
       "      <td>6</td>\n",
       "      <td>0</td>\n",
       "    </tr>\n",
       "    <tr>\n",
       "      <th>4</th>\n",
       "      <td>201901</td>\n",
       "      <td>경기</td>\n",
       "      <td>건강보조식품 소매업</td>\n",
       "      <td>20s</td>\n",
       "      <td>2</td>\n",
       "      <td>1</td>\n",
       "      <td>122</td>\n",
       "      <td>6822350</td>\n",
       "      <td>134</td>\n",
       "      <td>0</td>\n",
       "    </tr>\n",
       "  </tbody>\n",
       "</table>\n",
       "</div>"
      ],
      "text/plain": [
       "   REG_YYMM CARD_SIDO_NM STD_CLSS_NM  AGE  SEX_CTGO_CD  FLC  CSTMR_CNT  \\\n",
       "0    201901           경기  건강보조식품 소매업  10s            1    1          4   \n",
       "1    201901           경기  건강보조식품 소매업  10s            2    1          4   \n",
       "2    201901           경기  건강보조식품 소매업  20s            1    1         65   \n",
       "3    201901           경기  건강보조식품 소매업  20s            1    2          6   \n",
       "4    201901           경기  건강보조식품 소매업  20s            2    1        122   \n",
       "\n",
       "       AMT  CNT  CV  \n",
       "0    12450    4   0  \n",
       "1    18600    5   0  \n",
       "2  4192670   81   0  \n",
       "3   298800    6   0  \n",
       "4  6822350  134   0  "
      ]
     },
     "execution_count": 135,
     "metadata": {},
     "output_type": "execute_result"
    }
   ],
   "source": [
    "df = df_raw\n",
    "df.head()"
   ]
  },
  {
   "cell_type": "markdown",
   "metadata": {},
   "source": [
    "# Data Preprocessing"
   ]
  },
  {
   "cell_type": "code",
   "execution_count": 136,
   "metadata": {},
   "outputs": [],
   "source": [
    "def grap_year(data):\n",
    "    data = str(data)\n",
    "    return int(data[:4])\n",
    "\n",
    "def grap_month(data):\n",
    "    data = str(data)\n",
    "    return int(data[4:])"
   ]
  },
  {
   "cell_type": "code",
   "execution_count": 137,
   "metadata": {},
   "outputs": [],
   "source": [
    "df['year'] = df['REG_YYMM'].apply(lambda x: grap_year(x))\n",
    "df['month'] = df['REG_YYMM'].apply(lambda x: grap_month(x))\n",
    "df = df.drop(['REG_YYMM'], axis=1)"
   ]
  },
  {
   "cell_type": "code",
   "execution_count": 138,
   "metadata": {},
   "outputs": [],
   "source": [
    "def make_season(data):\n",
    "    if data in [12, 1, 2]:\n",
    "        return 'Winter'\n",
    "    elif data in [3, 4, 5]:\n",
    "        return 'Spring'\n",
    "    elif data in [6, 7, 8]:\n",
    "        return 'Summer'\n",
    "    else:\n",
    "        return 'Autumn'"
   ]
  },
  {
   "cell_type": "code",
   "execution_count": 139,
   "metadata": {},
   "outputs": [],
   "source": [
    "df['Season'] = df['month'].apply(lambda x: make_season(x))"
   ]
  },
  {
   "cell_type": "code",
   "execution_count": 140,
   "metadata": {},
   "outputs": [
    {
     "data": {
      "text/html": [
       "<div>\n",
       "<style scoped>\n",
       "    .dataframe tbody tr th:only-of-type {\n",
       "        vertical-align: middle;\n",
       "    }\n",
       "\n",
       "    .dataframe tbody tr th {\n",
       "        vertical-align: top;\n",
       "    }\n",
       "\n",
       "    .dataframe thead th {\n",
       "        text-align: right;\n",
       "    }\n",
       "</style>\n",
       "<table border=\"1\" class=\"dataframe\">\n",
       "  <thead>\n",
       "    <tr style=\"text-align: right;\">\n",
       "      <th></th>\n",
       "      <th>CARD_SIDO_NM</th>\n",
       "      <th>STD_CLSS_NM</th>\n",
       "      <th>AGE</th>\n",
       "      <th>SEX_CTGO_CD</th>\n",
       "      <th>FLC</th>\n",
       "      <th>CSTMR_CNT</th>\n",
       "      <th>AMT</th>\n",
       "      <th>CNT</th>\n",
       "      <th>CV</th>\n",
       "      <th>year</th>\n",
       "      <th>month</th>\n",
       "      <th>Season</th>\n",
       "    </tr>\n",
       "  </thead>\n",
       "  <tbody>\n",
       "    <tr>\n",
       "      <th>0</th>\n",
       "      <td>경기</td>\n",
       "      <td>건강보조식품 소매업</td>\n",
       "      <td>10s</td>\n",
       "      <td>1</td>\n",
       "      <td>1</td>\n",
       "      <td>4</td>\n",
       "      <td>12450</td>\n",
       "      <td>4</td>\n",
       "      <td>0</td>\n",
       "      <td>2019</td>\n",
       "      <td>1</td>\n",
       "      <td>Winter</td>\n",
       "    </tr>\n",
       "    <tr>\n",
       "      <th>1</th>\n",
       "      <td>경기</td>\n",
       "      <td>건강보조식품 소매업</td>\n",
       "      <td>10s</td>\n",
       "      <td>2</td>\n",
       "      <td>1</td>\n",
       "      <td>4</td>\n",
       "      <td>18600</td>\n",
       "      <td>5</td>\n",
       "      <td>0</td>\n",
       "      <td>2019</td>\n",
       "      <td>1</td>\n",
       "      <td>Winter</td>\n",
       "    </tr>\n",
       "    <tr>\n",
       "      <th>2</th>\n",
       "      <td>경기</td>\n",
       "      <td>건강보조식품 소매업</td>\n",
       "      <td>20s</td>\n",
       "      <td>1</td>\n",
       "      <td>1</td>\n",
       "      <td>65</td>\n",
       "      <td>4192670</td>\n",
       "      <td>81</td>\n",
       "      <td>0</td>\n",
       "      <td>2019</td>\n",
       "      <td>1</td>\n",
       "      <td>Winter</td>\n",
       "    </tr>\n",
       "    <tr>\n",
       "      <th>3</th>\n",
       "      <td>경기</td>\n",
       "      <td>건강보조식품 소매업</td>\n",
       "      <td>20s</td>\n",
       "      <td>1</td>\n",
       "      <td>2</td>\n",
       "      <td>6</td>\n",
       "      <td>298800</td>\n",
       "      <td>6</td>\n",
       "      <td>0</td>\n",
       "      <td>2019</td>\n",
       "      <td>1</td>\n",
       "      <td>Winter</td>\n",
       "    </tr>\n",
       "    <tr>\n",
       "      <th>4</th>\n",
       "      <td>경기</td>\n",
       "      <td>건강보조식품 소매업</td>\n",
       "      <td>20s</td>\n",
       "      <td>2</td>\n",
       "      <td>1</td>\n",
       "      <td>122</td>\n",
       "      <td>6822350</td>\n",
       "      <td>134</td>\n",
       "      <td>0</td>\n",
       "      <td>2019</td>\n",
       "      <td>1</td>\n",
       "      <td>Winter</td>\n",
       "    </tr>\n",
       "  </tbody>\n",
       "</table>\n",
       "</div>"
      ],
      "text/plain": [
       "  CARD_SIDO_NM STD_CLSS_NM  AGE  SEX_CTGO_CD  FLC  CSTMR_CNT      AMT  CNT  \\\n",
       "0           경기  건강보조식품 소매업  10s            1    1          4    12450    4   \n",
       "1           경기  건강보조식품 소매업  10s            2    1          4    18600    5   \n",
       "2           경기  건강보조식품 소매업  20s            1    1         65  4192670   81   \n",
       "3           경기  건강보조식품 소매업  20s            1    2          6   298800    6   \n",
       "4           경기  건강보조식품 소매업  20s            2    1        122  6822350  134   \n",
       "\n",
       "   CV  year  month  Season  \n",
       "0   0  2019      1  Winter  \n",
       "1   0  2019      1  Winter  \n",
       "2   0  2019      1  Winter  \n",
       "3   0  2019      1  Winter  \n",
       "4   0  2019      1  Winter  "
      ]
     },
     "execution_count": 140,
     "metadata": {},
     "output_type": "execute_result"
    }
   ],
   "source": [
    "df.head()"
   ]
  },
  {
   "cell_type": "code",
   "execution_count": 141,
   "metadata": {},
   "outputs": [
    {
     "data": {
      "text/plain": [
       "<matplotlib.axes._subplots.AxesSubplot at 0x2c98cccee80>"
      ]
     },
     "execution_count": 141,
     "metadata": {},
     "output_type": "execute_result"
    },
    {
     "data": {
      "image/png": "[encoded data removed]",
      "text/plain": [
       "<Figure size 432x288 with 2 Axes>"
      ]
     },
     "metadata": {},
     "output_type": "display_data"
    }
   ],
   "source": [
    "sns.heatmap(df.corr(),cmap='YlGnBu',fmt='.1g')"
   ]
  },
  {
   "cell_type": "markdown",
   "metadata": {},
   "source": [
    "# Label Encoding"
   ]
  },
  {
   "cell_type": "code",
   "execution_count": 142,
   "metadata": {},
   "outputs": [],
   "source": [
    "# 인코딩\n",
    "dtypes = df.dtypes\n",
    "encoders = {}\n",
    "for column in df.columns:\n",
    "    if str(dtypes[column]) == 'object':\n",
    "        encoder = LabelEncoder()\n",
    "        encoder.fit(df[column])\n",
    "        encoders[column] = encoder\n",
    "        \n",
    "df = df.copy()        \n",
    "for column in encoders.keys():\n",
    "    encoder = encoders[column]\n",
    "    df[column] = encoder.transform(df[column])"
   ]
  },
  {
   "cell_type": "code",
   "execution_count": 143,
   "metadata": {},
   "outputs": [
    {
     "name": "stdout",
     "output_type": "stream",
     "text": [
      "<class 'pandas.core.frame.DataFrame'>\n",
      "RangeIndex: 4630 entries, 0 to 4629\n",
      "Data columns (total 12 columns):\n",
      " #   Column        Non-Null Count  Dtype\n",
      "---  ------        --------------  -----\n",
      " 0   CARD_SIDO_NM  4630 non-null   int32\n",
      " 1   STD_CLSS_NM   4630 non-null   int32\n",
      " 2   AGE           4630 non-null   int32\n",
      " 3   SEX_CTGO_CD   4630 non-null   int64\n",
      " 4   FLC           4630 non-null   int64\n",
      " 5   CSTMR_CNT     4630 non-null   int64\n",
      " 6   AMT           4630 non-null   int64\n",
      " 7   CNT           4630 non-null   int64\n",
      " 8   CV            4630 non-null   int64\n",
      " 9   year          4630 non-null   int64\n",
      " 10  month         4630 non-null   int64\n",
      " 11  Season        4630 non-null   int32\n",
      "dtypes: int32(4), int64(8)\n",
      "memory usage: 361.8 KB\n"
     ]
    }
   ],
   "source": [
    "df.info()"
   ]
  },
  {
   "cell_type": "code",
   "execution_count": 144,
   "metadata": {},
   "outputs": [
    {
     "data": {
      "text/plain": [
       "array([ 0,  1,  2,  3,  4,  5,  6,  7,  8,  9, 10, 11])"
      ]
     },
     "execution_count": 144,
     "metadata": {},
     "output_type": "execute_result"
    }
   ],
   "source": [
    "df.STD_CLSS_NM.unique()"
   ]
  },
  {
   "cell_type": "code",
   "execution_count": 145,
   "metadata": {},
   "outputs": [
    {
     "data": {
      "text/plain": [
       "array([ 1,  2,  3,  4,  5,  6,  7,  8,  9, 10, 11, 12], dtype=int64)"
      ]
     },
     "execution_count": 145,
     "metadata": {},
     "output_type": "execute_result"
    }
   ],
   "source": [
    "df['month'].unique()"
   ]
  },
  {
   "cell_type": "markdown",
   "metadata": {},
   "source": [
    "# Preprocessing"
   ]
  },
  {
   "cell_type": "code",
   "execution_count": 146,
   "metadata": {},
   "outputs": [],
   "source": [
    "# 변수명 지정\n",
    "X_cols = list(df.columns)\n",
    "X_cols.remove('AMT')"
   ]
  },
  {
   "cell_type": "code",
   "execution_count": 147,
   "metadata": {},
   "outputs": [],
   "source": [
    "X = df.drop(['AMT'], axis=1)\n",
    "y = np.log1p(df['AMT'])\n",
    "X_train, X_test, y_train, y_test = train_test_split(X, y, test_size=0.3, shuffle=True)"
   ]
  },
  {
   "cell_type": "code",
   "execution_count": 148,
   "metadata": {},
   "outputs": [],
   "source": [
    "X = df.drop(['AMT'], axis=1)\n",
    "y = df[['month', 'AMT']]\n",
    "y['AMT'] = np.log1p(df['AMT'])\n",
    "X_train, X_test, y_train, y_test = X[X['month'].isin([1,2])], X[X['month']==3], y[y['month'].isin([1,2])]['AMT'], y[y['month']==3]['AMT']"
   ]
  },
  {
   "cell_type": "markdown",
   "metadata": {},
   "source": [
    "# Light Gradient Boosting Machine"
   ]
  },
  {
   "cell_type": "code",
   "execution_count": 149,
   "metadata": {},
   "outputs": [],
   "source": [
    "import lightgbm as lgb"
   ]
  },
  {
   "cell_type": "code",
   "execution_count": 150,
   "metadata": {},
   "outputs": [],
   "source": [
    "train_ds = lgb.Dataset(X_train, label=y_train)\n",
    "val_ds = lgb.Dataset(X_test, label=y_test)"
   ]
  },
  {
   "cell_type": "code",
   "execution_count": 151,
   "metadata": {},
   "outputs": [],
   "source": [
    "params = {\n",
    "            'learning_rate' : 0.1,\n",
    "            'boosting_type': 'gbdt',\n",
    "            'objective': 'tweedie',\n",
    "            'tweedie_variance_power': 1.1,\n",
    "            'metric': 'rmse',\n",
    "            'sub_row' : 0.75,\n",
    "            'lambda_l2' : 0.1        }"
   ]
  },
  {
   "cell_type": "code",
   "execution_count": 152,
   "metadata": {},
   "outputs": [
    {
     "name": "stdout",
     "output_type": "stream",
     "text": [
      "Training until validation scores don't improve for 100 rounds\n",
      "[100]\tvalid_0's rmse: 0.29885\n",
      "[200]\tvalid_0's rmse: 0.294587\n",
      "[300]\tvalid_0's rmse: 0.294219\n",
      "[400]\tvalid_0's rmse: 0.293772\n",
      "[500]\tvalid_0's rmse: 0.295672\n",
      "Early stopping, best iteration is:\n",
      "[400]\tvalid_0's rmse: 0.293772\n"
     ]
    }
   ],
   "source": [
    "model = lgb.train(params,\n",
    "                  train_ds,\n",
    "                  5000,\n",
    "                  val_ds,\n",
    "                  verbose_eval = 100,\n",
    "                  early_stopping_rounds = 100\n",
    "                 )"
   ]
  },
  {
   "cell_type": "markdown",
   "metadata": {},
   "source": [
    "# Template"
   ]
  },
  {
   "cell_type": "code",
   "execution_count": 153,
   "metadata": {},
   "outputs": [
    {
     "data": {
      "text/plain": [
       "Index(['CARD_SIDO_NM', 'STD_CLSS_NM', 'AGE', 'SEX_CTGO_CD', 'FLC', 'CSTMR_CNT',\n",
       "       'CNT', 'CV', 'year', 'month', 'Season'],\n",
       "      dtype='object')"
      ]
     },
     "execution_count": 153,
     "metadata": {},
     "output_type": "execute_result"
    }
   ],
   "source": [
    "X.columns"
   ]
  },
  {
   "cell_type": "code",
   "execution_count": 154,
   "metadata": {},
   "outputs": [],
   "source": [
    "# 예측 템플릿 만들기\n",
    "CARD_SIDO_NMs = df['CARD_SIDO_NM'].unique()\n",
    "STD_CLSS_NMs  = df['STD_CLSS_NM'].unique()\n",
    "AGEs          = df['AGE'].unique()\n",
    "SEX_CTGO_CDs  = df['SEX_CTGO_CD'].unique()\n",
    "FLCs          = df['FLC'].unique()\n",
    "Seasons = df['Season'].unique()\n",
    "years         = [2020]\n",
    "months        = [4, 7]\n",
    "\n",
    "temp = []\n",
    "for CARD_SIDO_NM in CARD_SIDO_NMs:\n",
    "    for STD_CLSS_NM in STD_CLSS_NMs:\n",
    "        for AGE in AGEs:\n",
    "            for SEX_CTGO_CD in SEX_CTGO_CDs:\n",
    "                for FLC in FLCs:\n",
    "                    for year in years:\n",
    "                        for month in months:\n",
    "                            for Season in Seasons:\n",
    "                                temp.append([CARD_SIDO_NM, STD_CLSS_NM, AGE, SEX_CTGO_CD, FLC, year, month, Season])\n",
    "temp = np.array(temp)\n",
    "temp = pd.DataFrame(data=temp, columns=['CARD_SIDO_NM', 'STD_CLSS_NM', 'AGE', 'SEX_CTGO_CD', 'FLC', 'year', 'month', 'Season'])"
   ]
  },
  {
   "cell_type": "code",
   "execution_count": 155,
   "metadata": {},
   "outputs": [
    {
     "data": {
      "text/html": [
       "<div>\n",
       "<style scoped>\n",
       "    .dataframe tbody tr th:only-of-type {\n",
       "        vertical-align: middle;\n",
       "    }\n",
       "\n",
       "    .dataframe tbody tr th {\n",
       "        vertical-align: top;\n",
       "    }\n",
       "\n",
       "    .dataframe thead th {\n",
       "        text-align: right;\n",
       "    }\n",
       "</style>\n",
       "<table border=\"1\" class=\"dataframe\">\n",
       "  <thead>\n",
       "    <tr style=\"text-align: right;\">\n",
       "      <th></th>\n",
       "      <th>CARD_SIDO_NM</th>\n",
       "      <th>STD_CLSS_NM</th>\n",
       "      <th>AGE</th>\n",
       "      <th>SEX_CTGO_CD</th>\n",
       "      <th>FLC</th>\n",
       "      <th>year</th>\n",
       "      <th>month</th>\n",
       "      <th>Season</th>\n",
       "    </tr>\n",
       "  </thead>\n",
       "  <tbody>\n",
       "    <tr>\n",
       "      <th>0</th>\n",
       "      <td>0</td>\n",
       "      <td>0</td>\n",
       "      <td>0</td>\n",
       "      <td>1</td>\n",
       "      <td>1</td>\n",
       "      <td>2020</td>\n",
       "      <td>4</td>\n",
       "      <td>3</td>\n",
       "    </tr>\n",
       "    <tr>\n",
       "      <th>1</th>\n",
       "      <td>0</td>\n",
       "      <td>0</td>\n",
       "      <td>0</td>\n",
       "      <td>1</td>\n",
       "      <td>1</td>\n",
       "      <td>2020</td>\n",
       "      <td>4</td>\n",
       "      <td>1</td>\n",
       "    </tr>\n",
       "    <tr>\n",
       "      <th>2</th>\n",
       "      <td>0</td>\n",
       "      <td>0</td>\n",
       "      <td>0</td>\n",
       "      <td>1</td>\n",
       "      <td>1</td>\n",
       "      <td>2020</td>\n",
       "      <td>4</td>\n",
       "      <td>2</td>\n",
       "    </tr>\n",
       "    <tr>\n",
       "      <th>3</th>\n",
       "      <td>0</td>\n",
       "      <td>0</td>\n",
       "      <td>0</td>\n",
       "      <td>1</td>\n",
       "      <td>1</td>\n",
       "      <td>2020</td>\n",
       "      <td>4</td>\n",
       "      <td>0</td>\n",
       "    </tr>\n",
       "    <tr>\n",
       "      <th>4</th>\n",
       "      <td>0</td>\n",
       "      <td>0</td>\n",
       "      <td>0</td>\n",
       "      <td>1</td>\n",
       "      <td>1</td>\n",
       "      <td>2020</td>\n",
       "      <td>7</td>\n",
       "      <td>3</td>\n",
       "    </tr>\n",
       "    <tr>\n",
       "      <th>...</th>\n",
       "      <td>...</td>\n",
       "      <td>...</td>\n",
       "      <td>...</td>\n",
       "      <td>...</td>\n",
       "      <td>...</td>\n",
       "      <td>...</td>\n",
       "      <td>...</td>\n",
       "      <td>...</td>\n",
       "    </tr>\n",
       "    <tr>\n",
       "      <th>6715</th>\n",
       "      <td>0</td>\n",
       "      <td>11</td>\n",
       "      <td>6</td>\n",
       "      <td>2</td>\n",
       "      <td>5</td>\n",
       "      <td>2020</td>\n",
       "      <td>4</td>\n",
       "      <td>0</td>\n",
       "    </tr>\n",
       "    <tr>\n",
       "      <th>6716</th>\n",
       "      <td>0</td>\n",
       "      <td>11</td>\n",
       "      <td>6</td>\n",
       "      <td>2</td>\n",
       "      <td>5</td>\n",
       "      <td>2020</td>\n",
       "      <td>7</td>\n",
       "      <td>3</td>\n",
       "    </tr>\n",
       "    <tr>\n",
       "      <th>6717</th>\n",
       "      <td>0</td>\n",
       "      <td>11</td>\n",
       "      <td>6</td>\n",
       "      <td>2</td>\n",
       "      <td>5</td>\n",
       "      <td>2020</td>\n",
       "      <td>7</td>\n",
       "      <td>1</td>\n",
       "    </tr>\n",
       "    <tr>\n",
       "      <th>6718</th>\n",
       "      <td>0</td>\n",
       "      <td>11</td>\n",
       "      <td>6</td>\n",
       "      <td>2</td>\n",
       "      <td>5</td>\n",
       "      <td>2020</td>\n",
       "      <td>7</td>\n",
       "      <td>2</td>\n",
       "    </tr>\n",
       "    <tr>\n",
       "      <th>6719</th>\n",
       "      <td>0</td>\n",
       "      <td>11</td>\n",
       "      <td>6</td>\n",
       "      <td>2</td>\n",
       "      <td>5</td>\n",
       "      <td>2020</td>\n",
       "      <td>7</td>\n",
       "      <td>0</td>\n",
       "    </tr>\n",
       "  </tbody>\n",
       "</table>\n",
       "<p>6720 rows × 8 columns</p>\n",
       "</div>"
      ],
      "text/plain": [
       "      CARD_SIDO_NM  STD_CLSS_NM  AGE  SEX_CTGO_CD  FLC  year  month  Season\n",
       "0                0            0    0            1    1  2020      4       3\n",
       "1                0            0    0            1    1  2020      4       1\n",
       "2                0            0    0            1    1  2020      4       2\n",
       "3                0            0    0            1    1  2020      4       0\n",
       "4                0            0    0            1    1  2020      7       3\n",
       "...            ...          ...  ...          ...  ...   ...    ...     ...\n",
       "6715             0           11    6            2    5  2020      4       0\n",
       "6716             0           11    6            2    5  2020      7       3\n",
       "6717             0           11    6            2    5  2020      7       1\n",
       "6718             0           11    6            2    5  2020      7       2\n",
       "6719             0           11    6            2    5  2020      7       0\n",
       "\n",
       "[6720 rows x 8 columns]"
      ]
     },
     "execution_count": 155,
     "metadata": {},
     "output_type": "execute_result"
    }
   ],
   "source": [
    "temp"
   ]
  },
  {
   "cell_type": "code",
   "execution_count": 156,
   "metadata": {},
   "outputs": [],
   "source": [
    "df2 = df[(df['year']==2020) & (df['month']==2)]\n",
    "df3 = df[(df['year']==2020) & (df['month']==3)]\n",
    "df4 = pd.concat([df2, df3], axis=0)"
   ]
  },
  {
   "cell_type": "code",
   "execution_count": 157,
   "metadata": {},
   "outputs": [],
   "source": [
    "df4.drop(['AMT', 'year', 'month', 'Season'], axis=1, inplace=True)"
   ]
  },
  {
   "cell_type": "code",
   "execution_count": 158,
   "metadata": {},
   "outputs": [],
   "source": [
    "temp = pd.merge(temp, df4, on=['CARD_SIDO_NM','STD_CLSS_NM','AGE','SEX_CTGO_CD','FLC'])"
   ]
  },
  {
   "cell_type": "code",
   "execution_count": 159,
   "metadata": {},
   "outputs": [],
   "source": [
    "# 예측\n",
    "pred = model.predict(temp)\n",
    "pred = np.expm1(pred)"
   ]
  },
  {
   "cell_type": "code",
   "execution_count": 160,
   "metadata": {},
   "outputs": [],
   "source": [
    "temp['AMT'] = np.round(pred, 0)\n",
    "temp['REG_YYMM'] = temp['year']*100 + temp['month']\n",
    "temp = temp[['REG_YYMM', 'CARD_SIDO_NM', 'STD_CLSS_NM', 'AMT']]\n",
    "temp = temp.groupby(['REG_YYMM', 'CARD_SIDO_NM', 'STD_CLSS_NM']).sum().reset_index(drop=False)"
   ]
  },
  {
   "cell_type": "code",
   "execution_count": 161,
   "metadata": {},
   "outputs": [],
   "source": [
    "# 디코딩 \n",
    "temp['CARD_SIDO_NM'] = encoders['CARD_SIDO_NM'].inverse_transform(temp['CARD_SIDO_NM'])\n",
    "temp['STD_CLSS_NM'] = encoders['STD_CLSS_NM'].inverse_transform(temp['STD_CLSS_NM'])"
   ]
  },
  {
   "cell_type": "code",
   "execution_count": 162,
   "metadata": {},
   "outputs": [
    {
     "data": {
      "text/html": [
       "<div>\n",
       "<style scoped>\n",
       "    .dataframe tbody tr th:only-of-type {\n",
       "        vertical-align: middle;\n",
       "    }\n",
       "\n",
       "    .dataframe tbody tr th {\n",
       "        vertical-align: top;\n",
       "    }\n",
       "\n",
       "    .dataframe thead th {\n",
       "        text-align: right;\n",
       "    }\n",
       "</style>\n",
       "<table border=\"1\" class=\"dataframe\">\n",
       "  <thead>\n",
       "    <tr style=\"text-align: right;\">\n",
       "      <th></th>\n",
       "      <th>STD_CLSS_NM</th>\n",
       "      <th>4월</th>\n",
       "      <th>3월</th>\n",
       "      <th>3월 대비 증감률</th>\n",
       "    </tr>\n",
       "  </thead>\n",
       "  <tbody>\n",
       "    <tr>\n",
       "      <th>0</th>\n",
       "      <td>건강보조식품 소매업</td>\n",
       "      <td>1.979646e+10</td>\n",
       "      <td>1284597187</td>\n",
       "      <td>1441.063940</td>\n",
       "    </tr>\n",
       "    <tr>\n",
       "      <th>1</th>\n",
       "      <td>골프장 운영업</td>\n",
       "      <td>1.906444e+10</td>\n",
       "      <td>14282870436</td>\n",
       "      <td>33.477654</td>\n",
       "    </tr>\n",
       "    <tr>\n",
       "      <th>2</th>\n",
       "      <td>과실 및 채소 소매업</td>\n",
       "      <td>6.273611e+09</td>\n",
       "      <td>8114936000</td>\n",
       "      <td>-22.690571</td>\n",
       "    </tr>\n",
       "    <tr>\n",
       "      <th>3</th>\n",
       "      <td>그외 기타 종합 소매업</td>\n",
       "      <td>1.140198e+10</td>\n",
       "      <td>9593389882</td>\n",
       "      <td>18.852503</td>\n",
       "    </tr>\n",
       "    <tr>\n",
       "      <th>4</th>\n",
       "      <td>기타 수상오락 서비스업</td>\n",
       "      <td>5.301558e+09</td>\n",
       "      <td>46137060</td>\n",
       "      <td>11390.887196</td>\n",
       "    </tr>\n",
       "    <tr>\n",
       "      <th>5</th>\n",
       "      <td>기타음식료품위주종합소매업</td>\n",
       "      <td>1.054602e+10</td>\n",
       "      <td>21624337619</td>\n",
       "      <td>-51.230766</td>\n",
       "    </tr>\n",
       "    <tr>\n",
       "      <th>6</th>\n",
       "      <td>빵 및 과자류 소매업</td>\n",
       "      <td>6.407446e+09</td>\n",
       "      <td>14820214723</td>\n",
       "      <td>-56.765498</td>\n",
       "    </tr>\n",
       "    <tr>\n",
       "      <th>7</th>\n",
       "      <td>수산물 소매업</td>\n",
       "      <td>9.297794e+09</td>\n",
       "      <td>4093272663</td>\n",
       "      <td>127.148164</td>\n",
       "    </tr>\n",
       "    <tr>\n",
       "      <th>8</th>\n",
       "      <td>슈퍼마켓</td>\n",
       "      <td>1.044524e+10</td>\n",
       "      <td>143081115973</td>\n",
       "      <td>-92.699777</td>\n",
       "    </tr>\n",
       "    <tr>\n",
       "      <th>9</th>\n",
       "      <td>스포츠 및 레크레이션 용품 임대업</td>\n",
       "      <td>2.774879e+10</td>\n",
       "      <td>11219658475</td>\n",
       "      <td>147.322942</td>\n",
       "    </tr>\n",
       "    <tr>\n",
       "      <th>10</th>\n",
       "      <td>육류 소매업</td>\n",
       "      <td>1.146776e+10</td>\n",
       "      <td>19534218342</td>\n",
       "      <td>-41.293989</td>\n",
       "    </tr>\n",
       "    <tr>\n",
       "      <th>11</th>\n",
       "      <td>전시 및 행사 대행업</td>\n",
       "      <td>1.054780e+10</td>\n",
       "      <td>902853970</td>\n",
       "      <td>1068.272604</td>\n",
       "    </tr>\n",
       "  </tbody>\n",
       "</table>\n",
       "</div>"
      ],
      "text/plain": [
       "           STD_CLSS_NM            4월            3월     3월 대비 증감률\n",
       "0           건강보조식품 소매업  1.979646e+10    1284597187   1441.063940\n",
       "1              골프장 운영업  1.906444e+10   14282870436     33.477654\n",
       "2          과실 및 채소 소매업  6.273611e+09    8114936000    -22.690571\n",
       "3         그외 기타 종합 소매업  1.140198e+10    9593389882     18.852503\n",
       "4         기타 수상오락 서비스업  5.301558e+09      46137060  11390.887196\n",
       "5        기타음식료품위주종합소매업  1.054602e+10   21624337619    -51.230766\n",
       "6          빵 및 과자류 소매업  6.407446e+09   14820214723    -56.765498\n",
       "7              수산물 소매업  9.297794e+09    4093272663    127.148164\n",
       "8                 슈퍼마켓  1.044524e+10  143081115973    -92.699777\n",
       "9   스포츠 및 레크레이션 용품 임대업  2.774879e+10   11219658475    147.322942\n",
       "10              육류 소매업  1.146776e+10   19534218342    -41.293989\n",
       "11         전시 및 행사 대행업  1.054780e+10     902853970   1068.272604"
      ]
     },
     "execution_count": 162,
     "metadata": {},
     "output_type": "execute_result"
    }
   ],
   "source": [
    "v = pd.merge(temp[temp['REG_YYMM']==202004],df_raw[df_raw['REG_YYMM']==202003].groupby(['STD_CLSS_NM'])[['AMT']].sum().reset_index(), on=['STD_CLSS_NM'])\n",
    "v = v.drop(['REG_YYMM', 'CARD_SIDO_NM'], axis=1)\n",
    "v = v.rename(columns={'AMT_x' : '4월', 'AMT_y' : '3월'})\n",
    "v['3월 대비 증감률'] = (v['4월'] - v['3월']) / v['3월'] * 100\n",
    "v"
   ]
  },
  {
   "cell_type": "code",
   "execution_count": 163,
   "metadata": {},
   "outputs": [],
   "source": [
    "temp.to_csv('./template4.csv',index=False, encoding='utf-8-sig')"
   ]
  },
  {
   "cell_type": "code",
   "execution_count": null,
   "metadata": {},
   "outputs": [],
   "source": []
  }
 ],
 "metadata": {
  "kernelspec": {
   "display_name": "Python 3",
   "language": "python",
   "name": "python3"
  },
  "language_info": {
   "codemirror_mode": {
    "name": "ipython",
    "version": 3
   },
   "file_extension": ".py",
   "mimetype": "text/x-python",
   "name": "python",
   "nbconvert_exporter": "python",
   "pygments_lexer": "ipython3",
   "version": "3.7.3"
  }
 },
 "nbformat": 4,
 "nbformat_minor": 4
}
