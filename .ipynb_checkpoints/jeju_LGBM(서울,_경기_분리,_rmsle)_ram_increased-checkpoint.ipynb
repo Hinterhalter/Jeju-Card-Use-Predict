{
 "cells": [
  {
   "cell_type": "markdown",
   "metadata": {
    "colab_type": "text",
    "id": "_7njHapcBFm0"
   },
   "source": [
    "## 1. 라이브러리 가져오기\n",
    "## Import Library"
   ]
  },
  {
   "cell_type": "code",
   "execution_count": 1,
   "metadata": {
    "colab": {},
    "colab_type": "code",
    "id": "Vj7O39c1BFm1"
   },
   "outputs": [],
   "source": [
    "import pandas as pd\n",
    "import numpy as np\n",
    "import sklearn\n",
    "from sklearn.ensemble import RandomForestRegressor\n",
    "from sklearn.preprocessing import LabelEncoder\n",
    "from sklearn.model_selection import KFold"
   ]
  },
  {
   "cell_type": "code",
   "execution_count": 2,
   "metadata": {
    "colab": {},
    "colab_type": "code",
    "id": "4w8NkDhjUhza"
   },
   "outputs": [],
   "source": [
    "np.random.seed(1234)"
   ]
  },
  {
   "cell_type": "markdown",
   "metadata": {
    "colab_type": "text",
    "id": "uBUuaE87BFm8"
   },
   "source": [
    "## 2. 데이터 전처리\n",
    "## Data Cleansing & Pre-Processing  "
   ]
  },
  {
   "cell_type": "code",
   "execution_count": 3,
   "metadata": {
    "colab": {},
    "colab_type": "code",
    "id": "CjCSeLiOBFm8"
   },
   "outputs": [],
   "source": [
    "def grab_year(data):\n",
    "    data = str(data)\n",
    "    return int(data[:4])\n",
    "\n",
    "def grab_month(data):\n",
    "    data = str(data)\n",
    "    return int(data[4:6])"
   ]
  },
  {
   "cell_type": "code",
   "execution_count": 5,
   "metadata": {
    "colab": {},
    "colab_type": "code",
    "id": "qs1F-NmfDZWV"
   },
   "outputs": [],
   "source": [
    "data = pd.read_csv('./data/jeju_data_ver1/201901-202003.csv')"
   ]
  },
  {
   "cell_type": "code",
   "execution_count": 6,
   "metadata": {
    "colab": {},
    "colab_type": "code",
    "id": "BXS8R4o0gKdo"
   },
   "outputs": [],
   "source": [
    "data = data.fillna('세종')"
   ]
  },
  {
   "cell_type": "code",
   "execution_count": 7,
   "metadata": {
    "colab": {},
    "colab_type": "code",
    "id": "dqgW7VMRBFm-"
   },
   "outputs": [],
   "source": [
    "# 날짜 처리\n",
    "data['year'] = data['REG_YYMM'].apply(lambda x: grab_year(x))\n",
    "data['month'] = data['REG_YYMM'].apply(lambda x: grab_month(x))\n",
    "data = data.drop(['REG_YYMM'], axis=1)"
   ]
  },
  {
   "cell_type": "code",
   "execution_count": 8,
   "metadata": {
    "colab": {},
    "colab_type": "code",
    "id": "eAuSekOCVZyk"
   },
   "outputs": [],
   "source": [
    "df = data.copy()\n",
    "df = df.drop(['CARD_CCG_NM', 'HOM_CCG_NM', 'AGE', 'SEX_CTGO_CD'], axis=1)"
   ]
  },
  {
   "cell_type": "code",
   "execution_count": null,
   "metadata": {
    "colab": {},
    "colab_type": "code",
    "id": "XTYF2jfLXi_3"
   },
   "outputs": [],
   "source": [
    "# 일부 데이터만 사용\n",
    "# df = df[((df['year'] == 2019) & (df['month'].isin([4, 7]))) | (df['year'] == 2020)]\n",
    "# df = df[df['year'] == 2020]"
   ]
  },
  {
   "cell_type": "code",
   "execution_count": 9,
   "metadata": {
    "colab": {},
    "colab_type": "code",
    "id": "ipVBFVE8PAX6"
   },
   "outputs": [],
   "source": [
    "# 업종 카운트 데이터\n",
    "tmp = df.groupby(['CARD_SIDO_NM', 'STD_CLSS_NM', 'FLC', 'year', 'month']).count()\n",
    "tmp = tmp[['CNT']].rename(columns={'CNT':'std_cnt'})"
   ]
  },
  {
   "cell_type": "code",
   "execution_count": 10,
   "metadata": {
    "colab": {
     "base_uri": "https://localhost:8080/",
     "height": 204
    },
    "colab_type": "code",
    "id": "LfkogUnjBFnB",
    "outputId": "4cdcb2ef-9695-4062-84f1-aeda86b1d244"
   },
   "outputs": [
    {
     "data": {
      "text/html": [
       "<div>\n",
       "<style scoped>\n",
       "    .dataframe tbody tr th:only-of-type {\n",
       "        vertical-align: middle;\n",
       "    }\n",
       "\n",
       "    .dataframe tbody tr th {\n",
       "        vertical-align: top;\n",
       "    }\n",
       "\n",
       "    .dataframe thead th {\n",
       "        text-align: right;\n",
       "    }\n",
       "</style>\n",
       "<table border=\"1\" class=\"dataframe\">\n",
       "  <thead>\n",
       "    <tr style=\"text-align: right;\">\n",
       "      <th></th>\n",
       "      <th>CARD_SIDO_NM</th>\n",
       "      <th>STD_CLSS_NM</th>\n",
       "      <th>FLC</th>\n",
       "      <th>year</th>\n",
       "      <th>month</th>\n",
       "      <th>CSTMR_CNT</th>\n",
       "      <th>AMT</th>\n",
       "      <th>CNT</th>\n",
       "      <th>std_cnt</th>\n",
       "    </tr>\n",
       "  </thead>\n",
       "  <tbody>\n",
       "    <tr>\n",
       "      <th>0</th>\n",
       "      <td>강원</td>\n",
       "      <td>건강보조식품 소매업</td>\n",
       "      <td>1</td>\n",
       "      <td>2019</td>\n",
       "      <td>1</td>\n",
       "      <td>4</td>\n",
       "      <td>311200</td>\n",
       "      <td>4</td>\n",
       "      <td>1</td>\n",
       "    </tr>\n",
       "    <tr>\n",
       "      <th>1</th>\n",
       "      <td>강원</td>\n",
       "      <td>건강보조식품 소매업</td>\n",
       "      <td>1</td>\n",
       "      <td>2019</td>\n",
       "      <td>2</td>\n",
       "      <td>7</td>\n",
       "      <td>1517000</td>\n",
       "      <td>8</td>\n",
       "      <td>2</td>\n",
       "    </tr>\n",
       "    <tr>\n",
       "      <th>2</th>\n",
       "      <td>강원</td>\n",
       "      <td>건강보조식품 소매업</td>\n",
       "      <td>1</td>\n",
       "      <td>2019</td>\n",
       "      <td>3</td>\n",
       "      <td>16</td>\n",
       "      <td>982750</td>\n",
       "      <td>17</td>\n",
       "      <td>3</td>\n",
       "    </tr>\n",
       "    <tr>\n",
       "      <th>3</th>\n",
       "      <td>강원</td>\n",
       "      <td>건강보조식품 소매업</td>\n",
       "      <td>1</td>\n",
       "      <td>2019</td>\n",
       "      <td>4</td>\n",
       "      <td>4</td>\n",
       "      <td>266000</td>\n",
       "      <td>4</td>\n",
       "      <td>1</td>\n",
       "    </tr>\n",
       "    <tr>\n",
       "      <th>4</th>\n",
       "      <td>강원</td>\n",
       "      <td>건강보조식품 소매업</td>\n",
       "      <td>1</td>\n",
       "      <td>2019</td>\n",
       "      <td>5</td>\n",
       "      <td>13</td>\n",
       "      <td>1057200</td>\n",
       "      <td>15</td>\n",
       "      <td>3</td>\n",
       "    </tr>\n",
       "  </tbody>\n",
       "</table>\n",
       "</div>"
      ],
      "text/plain": [
       "  CARD_SIDO_NM STD_CLSS_NM  FLC  year  month  CSTMR_CNT      AMT  CNT  std_cnt\n",
       "0           강원  건강보조식품 소매업    1  2019      1          4   311200    4        1\n",
       "1           강원  건강보조식품 소매업    1  2019      2          7  1517000    8        2\n",
       "2           강원  건강보조식품 소매업    1  2019      3         16   982750   17        3\n",
       "3           강원  건강보조식품 소매업    1  2019      4          4   266000    4        1\n",
       "4           강원  건강보조식품 소매업    1  2019      5         13  1057200   15        3"
      ]
     },
     "execution_count": 10,
     "metadata": {},
     "output_type": "execute_result"
    }
   ],
   "source": [
    "# 데이터 정제\n",
    "columns = ['CARD_SIDO_NM', 'STD_CLSS_NM', 'FLC', 'year', 'month']\n",
    "# df.drop('FLC', axis=1, inplace=True)\n",
    "df = df.groupby(columns).sum().reset_index(drop=False)\n",
    "df = df.merge(tmp, how='left', on=columns)\n",
    "# df = df.merge(flcs, how='left', on=columns)\n",
    "df.head()"
   ]
  },
  {
   "cell_type": "code",
   "execution_count": 11,
   "metadata": {
    "colab": {},
    "colab_type": "code",
    "id": "G5g4clFBBrDE"
   },
   "outputs": [],
   "source": [
    "# 단골 지수\n",
    "def regular(x, y):\n",
    "  if x == 0:\n",
    "    x += 1\n",
    "  return y / x\n",
    "\n",
    "df['regular_power'] = df.apply(lambda x: regular(x['CSTMR_CNT'], x['CNT']), axis=1)"
   ]
  },
  {
   "cell_type": "code",
   "execution_count": null,
   "metadata": {
    "colab": {},
    "colab_type": "code",
    "id": "n8_lY2l4BEed"
   },
   "outputs": [],
   "source": [
    "# df.groupby(['CARD_SIDO_NM', 'STD_CLSS_NM'])[['AMT']].sum()"
   ]
  },
  {
   "cell_type": "code",
   "execution_count": null,
   "metadata": {
    "colab": {},
    "colab_type": "code",
    "id": "68gRwSdN6wXq"
   },
   "outputs": [],
   "source": [
    "# df[df['AMT'] > 100000000].STD_CLSS_NM.unique()"
   ]
  },
  {
   "cell_type": "code",
   "execution_count": null,
   "metadata": {
    "colab": {},
    "colab_type": "code",
    "id": "Xt4eomn6JiIh"
   },
   "outputs": [],
   "source": [
    "# np.log(df['AMT']).hist(bins=40)"
   ]
  },
  {
   "cell_type": "code",
   "execution_count": 12,
   "metadata": {
    "colab": {},
    "colab_type": "code",
    "id": "IA5ClzbHdnAe"
   },
   "outputs": [],
   "source": [
    "df['FLC'] = df['FLC'].astype('object')\n",
    "df['month'] = df['month'].astype('object')"
   ]
  },
  {
   "cell_type": "code",
   "execution_count": 54,
   "metadata": {},
   "outputs": [
    {
     "data": {
      "text/html": [
       "<div>\n",
       "<style scoped>\n",
       "    .dataframe tbody tr th:only-of-type {\n",
       "        vertical-align: middle;\n",
       "    }\n",
       "\n",
       "    .dataframe tbody tr th {\n",
       "        vertical-align: top;\n",
       "    }\n",
       "\n",
       "    .dataframe thead th {\n",
       "        text-align: right;\n",
       "    }\n",
       "</style>\n",
       "<table border=\"1\" class=\"dataframe\">\n",
       "  <thead>\n",
       "    <tr style=\"text-align: right;\">\n",
       "      <th></th>\n",
       "      <th>CARD_SIDO_NM</th>\n",
       "      <th>STD_CLSS_NM</th>\n",
       "      <th>FLC</th>\n",
       "      <th>year</th>\n",
       "      <th>month</th>\n",
       "      <th>CSTMR_CNT</th>\n",
       "      <th>AMT</th>\n",
       "      <th>CNT</th>\n",
       "      <th>std_cnt</th>\n",
       "      <th>regular_power</th>\n",
       "    </tr>\n",
       "  </thead>\n",
       "  <tbody>\n",
       "    <tr>\n",
       "      <th>0</th>\n",
       "      <td>강원</td>\n",
       "      <td>건강보조식품 소매업</td>\n",
       "      <td>1</td>\n",
       "      <td>2019</td>\n",
       "      <td>1</td>\n",
       "      <td>4</td>\n",
       "      <td>311200</td>\n",
       "      <td>4</td>\n",
       "      <td>1</td>\n",
       "      <td>1.000000</td>\n",
       "    </tr>\n",
       "    <tr>\n",
       "      <th>1</th>\n",
       "      <td>강원</td>\n",
       "      <td>건강보조식품 소매업</td>\n",
       "      <td>1</td>\n",
       "      <td>2019</td>\n",
       "      <td>2</td>\n",
       "      <td>7</td>\n",
       "      <td>1517000</td>\n",
       "      <td>8</td>\n",
       "      <td>2</td>\n",
       "      <td>1.142857</td>\n",
       "    </tr>\n",
       "    <tr>\n",
       "      <th>2</th>\n",
       "      <td>강원</td>\n",
       "      <td>건강보조식품 소매업</td>\n",
       "      <td>1</td>\n",
       "      <td>2019</td>\n",
       "      <td>3</td>\n",
       "      <td>16</td>\n",
       "      <td>982750</td>\n",
       "      <td>17</td>\n",
       "      <td>3</td>\n",
       "      <td>1.062500</td>\n",
       "    </tr>\n",
       "    <tr>\n",
       "      <th>3</th>\n",
       "      <td>강원</td>\n",
       "      <td>건강보조식품 소매업</td>\n",
       "      <td>1</td>\n",
       "      <td>2019</td>\n",
       "      <td>4</td>\n",
       "      <td>4</td>\n",
       "      <td>266000</td>\n",
       "      <td>4</td>\n",
       "      <td>1</td>\n",
       "      <td>1.000000</td>\n",
       "    </tr>\n",
       "    <tr>\n",
       "      <th>4</th>\n",
       "      <td>강원</td>\n",
       "      <td>건강보조식품 소매업</td>\n",
       "      <td>1</td>\n",
       "      <td>2019</td>\n",
       "      <td>5</td>\n",
       "      <td>13</td>\n",
       "      <td>1057200</td>\n",
       "      <td>15</td>\n",
       "      <td>3</td>\n",
       "      <td>1.153846</td>\n",
       "    </tr>\n",
       "    <tr>\n",
       "      <th>...</th>\n",
       "      <td>...</td>\n",
       "      <td>...</td>\n",
       "      <td>...</td>\n",
       "      <td>...</td>\n",
       "      <td>...</td>\n",
       "      <td>...</td>\n",
       "      <td>...</td>\n",
       "      <td>...</td>\n",
       "      <td>...</td>\n",
       "      <td>...</td>\n",
       "    </tr>\n",
       "    <tr>\n",
       "      <th>44977</th>\n",
       "      <td>충북</td>\n",
       "      <td>휴양콘도 운영업</td>\n",
       "      <td>5</td>\n",
       "      <td>2019</td>\n",
       "      <td>11</td>\n",
       "      <td>167</td>\n",
       "      <td>18735900</td>\n",
       "      <td>246</td>\n",
       "      <td>28</td>\n",
       "      <td>1.473054</td>\n",
       "    </tr>\n",
       "    <tr>\n",
       "      <th>44978</th>\n",
       "      <td>충북</td>\n",
       "      <td>휴양콘도 운영업</td>\n",
       "      <td>5</td>\n",
       "      <td>2019</td>\n",
       "      <td>12</td>\n",
       "      <td>128</td>\n",
       "      <td>9446100</td>\n",
       "      <td>190</td>\n",
       "      <td>21</td>\n",
       "      <td>1.484375</td>\n",
       "    </tr>\n",
       "    <tr>\n",
       "      <th>44979</th>\n",
       "      <td>충북</td>\n",
       "      <td>휴양콘도 운영업</td>\n",
       "      <td>5</td>\n",
       "      <td>2020</td>\n",
       "      <td>1</td>\n",
       "      <td>149</td>\n",
       "      <td>12968610</td>\n",
       "      <td>233</td>\n",
       "      <td>21</td>\n",
       "      <td>1.563758</td>\n",
       "    </tr>\n",
       "    <tr>\n",
       "      <th>44980</th>\n",
       "      <td>충북</td>\n",
       "      <td>휴양콘도 운영업</td>\n",
       "      <td>5</td>\n",
       "      <td>2020</td>\n",
       "      <td>2</td>\n",
       "      <td>61</td>\n",
       "      <td>3895100</td>\n",
       "      <td>97</td>\n",
       "      <td>7</td>\n",
       "      <td>1.590164</td>\n",
       "    </tr>\n",
       "    <tr>\n",
       "      <th>44981</th>\n",
       "      <td>충북</td>\n",
       "      <td>휴양콘도 운영업</td>\n",
       "      <td>5</td>\n",
       "      <td>2020</td>\n",
       "      <td>3</td>\n",
       "      <td>15</td>\n",
       "      <td>1347800</td>\n",
       "      <td>19</td>\n",
       "      <td>5</td>\n",
       "      <td>1.266667</td>\n",
       "    </tr>\n",
       "  </tbody>\n",
       "</table>\n",
       "<p>44982 rows × 10 columns</p>\n",
       "</div>"
      ],
      "text/plain": [
       "      CARD_SIDO_NM STD_CLSS_NM FLC  year month  CSTMR_CNT       AMT  CNT  \\\n",
       "0               강원  건강보조식품 소매업   1  2019     1          4    311200    4   \n",
       "1               강원  건강보조식품 소매업   1  2019     2          7   1517000    8   \n",
       "2               강원  건강보조식품 소매업   1  2019     3         16    982750   17   \n",
       "3               강원  건강보조식품 소매업   1  2019     4          4    266000    4   \n",
       "4               강원  건강보조식품 소매업   1  2019     5         13   1057200   15   \n",
       "...            ...         ...  ..   ...   ...        ...       ...  ...   \n",
       "44977           충북    휴양콘도 운영업   5  2019    11        167  18735900  246   \n",
       "44978           충북    휴양콘도 운영업   5  2019    12        128   9446100  190   \n",
       "44979           충북    휴양콘도 운영업   5  2020     1        149  12968610  233   \n",
       "44980           충북    휴양콘도 운영업   5  2020     2         61   3895100   97   \n",
       "44981           충북    휴양콘도 운영업   5  2020     3         15   1347800   19   \n",
       "\n",
       "       std_cnt  regular_power  \n",
       "0            1       1.000000  \n",
       "1            2       1.142857  \n",
       "2            3       1.062500  \n",
       "3            1       1.000000  \n",
       "4            3       1.153846  \n",
       "...        ...            ...  \n",
       "44977       28       1.473054  \n",
       "44978       21       1.484375  \n",
       "44979       21       1.563758  \n",
       "44980        7       1.590164  \n",
       "44981        5       1.266667  \n",
       "\n",
       "[44982 rows x 10 columns]"
      ]
     },
     "execution_count": 54,
     "metadata": {},
     "output_type": "execute_result"
    }
   ],
   "source": [
    "df"
   ]
  },
  {
   "cell_type": "code",
   "execution_count": 48,
   "metadata": {
    "colab": {},
    "colab_type": "code",
    "id": "Nw-e2PUlBFnE"
   },
   "outputs": [],
   "source": [
    "# 인코딩\n",
    "dtypes = df.dtypes\n",
    "encoders = {}\n",
    "for column in df.columns:\n",
    "    if str(dtypes[column]) == 'object':\n",
    "        encoder = LabelEncoder()\n",
    "        encoder.fit(df[column])\n",
    "        encoders[column] = encoder\n",
    "        \n",
    "df_num = df.copy()        \n",
    "for column in encoders.keys():\n",
    "    encoder = encoders[column]\n",
    "    df_num[column] = encoder.transform(df[column])"
   ]
  },
  {
   "cell_type": "code",
   "execution_count": 51,
   "metadata": {},
   "outputs": [
    {
     "name": "stdout",
     "output_type": "stream",
     "text": [
      "<class 'pandas.core.frame.DataFrame'>\n",
      "Int64Index: 44982 entries, 0 to 44981\n",
      "Data columns (total 10 columns):\n",
      " #   Column         Non-Null Count  Dtype  \n",
      "---  ------         --------------  -----  \n",
      " 0   CARD_SIDO_NM   44982 non-null  int32  \n",
      " 1   STD_CLSS_NM    44982 non-null  int32  \n",
      " 2   FLC            44982 non-null  int32  \n",
      " 3   year           44982 non-null  int64  \n",
      " 4   month          44982 non-null  int32  \n",
      " 5   CSTMR_CNT      44982 non-null  int64  \n",
      " 6   AMT            44982 non-null  int64  \n",
      " 7   CNT            44982 non-null  int64  \n",
      " 8   std_cnt        44982 non-null  int64  \n",
      " 9   regular_power  44982 non-null  float64\n",
      "dtypes: float64(1), int32(4), int64(5)\n",
      "memory usage: 3.1 MB\n"
     ]
    }
   ],
   "source": [
    "df_num.info()"
   ]
  },
  {
   "cell_type": "code",
   "execution_count": 52,
   "metadata": {},
   "outputs": [
    {
     "data": {
      "text/html": [
       "<div>\n",
       "<style scoped>\n",
       "    .dataframe tbody tr th:only-of-type {\n",
       "        vertical-align: middle;\n",
       "    }\n",
       "\n",
       "    .dataframe tbody tr th {\n",
       "        vertical-align: top;\n",
       "    }\n",
       "\n",
       "    .dataframe thead th {\n",
       "        text-align: right;\n",
       "    }\n",
       "</style>\n",
       "<table border=\"1\" class=\"dataframe\">\n",
       "  <thead>\n",
       "    <tr style=\"text-align: right;\">\n",
       "      <th></th>\n",
       "      <th>CARD_SIDO_NM</th>\n",
       "      <th>STD_CLSS_NM</th>\n",
       "      <th>FLC</th>\n",
       "      <th>year</th>\n",
       "      <th>month</th>\n",
       "      <th>CSTMR_CNT</th>\n",
       "      <th>AMT</th>\n",
       "      <th>CNT</th>\n",
       "      <th>std_cnt</th>\n",
       "      <th>regular_power</th>\n",
       "    </tr>\n",
       "  </thead>\n",
       "  <tbody>\n",
       "    <tr>\n",
       "      <th>0</th>\n",
       "      <td>0</td>\n",
       "      <td>0</td>\n",
       "      <td>0</td>\n",
       "      <td>2019</td>\n",
       "      <td>0</td>\n",
       "      <td>4</td>\n",
       "      <td>311200</td>\n",
       "      <td>4</td>\n",
       "      <td>1</td>\n",
       "      <td>1.000000</td>\n",
       "    </tr>\n",
       "    <tr>\n",
       "      <th>1</th>\n",
       "      <td>0</td>\n",
       "      <td>0</td>\n",
       "      <td>0</td>\n",
       "      <td>2019</td>\n",
       "      <td>1</td>\n",
       "      <td>7</td>\n",
       "      <td>1517000</td>\n",
       "      <td>8</td>\n",
       "      <td>2</td>\n",
       "      <td>1.142857</td>\n",
       "    </tr>\n",
       "    <tr>\n",
       "      <th>2</th>\n",
       "      <td>0</td>\n",
       "      <td>0</td>\n",
       "      <td>0</td>\n",
       "      <td>2019</td>\n",
       "      <td>2</td>\n",
       "      <td>16</td>\n",
       "      <td>982750</td>\n",
       "      <td>17</td>\n",
       "      <td>3</td>\n",
       "      <td>1.062500</td>\n",
       "    </tr>\n",
       "    <tr>\n",
       "      <th>3</th>\n",
       "      <td>0</td>\n",
       "      <td>0</td>\n",
       "      <td>0</td>\n",
       "      <td>2019</td>\n",
       "      <td>3</td>\n",
       "      <td>4</td>\n",
       "      <td>266000</td>\n",
       "      <td>4</td>\n",
       "      <td>1</td>\n",
       "      <td>1.000000</td>\n",
       "    </tr>\n",
       "    <tr>\n",
       "      <th>4</th>\n",
       "      <td>0</td>\n",
       "      <td>0</td>\n",
       "      <td>0</td>\n",
       "      <td>2019</td>\n",
       "      <td>4</td>\n",
       "      <td>13</td>\n",
       "      <td>1057200</td>\n",
       "      <td>15</td>\n",
       "      <td>3</td>\n",
       "      <td>1.153846</td>\n",
       "    </tr>\n",
       "    <tr>\n",
       "      <th>...</th>\n",
       "      <td>...</td>\n",
       "      <td>...</td>\n",
       "      <td>...</td>\n",
       "      <td>...</td>\n",
       "      <td>...</td>\n",
       "      <td>...</td>\n",
       "      <td>...</td>\n",
       "      <td>...</td>\n",
       "      <td>...</td>\n",
       "      <td>...</td>\n",
       "    </tr>\n",
       "    <tr>\n",
       "      <th>44977</th>\n",
       "      <td>16</td>\n",
       "      <td>40</td>\n",
       "      <td>4</td>\n",
       "      <td>2019</td>\n",
       "      <td>10</td>\n",
       "      <td>167</td>\n",
       "      <td>18735900</td>\n",
       "      <td>246</td>\n",
       "      <td>28</td>\n",
       "      <td>1.473054</td>\n",
       "    </tr>\n",
       "    <tr>\n",
       "      <th>44978</th>\n",
       "      <td>16</td>\n",
       "      <td>40</td>\n",
       "      <td>4</td>\n",
       "      <td>2019</td>\n",
       "      <td>11</td>\n",
       "      <td>128</td>\n",
       "      <td>9446100</td>\n",
       "      <td>190</td>\n",
       "      <td>21</td>\n",
       "      <td>1.484375</td>\n",
       "    </tr>\n",
       "    <tr>\n",
       "      <th>44979</th>\n",
       "      <td>16</td>\n",
       "      <td>40</td>\n",
       "      <td>4</td>\n",
       "      <td>2020</td>\n",
       "      <td>0</td>\n",
       "      <td>149</td>\n",
       "      <td>12968610</td>\n",
       "      <td>233</td>\n",
       "      <td>21</td>\n",
       "      <td>1.563758</td>\n",
       "    </tr>\n",
       "    <tr>\n",
       "      <th>44980</th>\n",
       "      <td>16</td>\n",
       "      <td>40</td>\n",
       "      <td>4</td>\n",
       "      <td>2020</td>\n",
       "      <td>1</td>\n",
       "      <td>61</td>\n",
       "      <td>3895100</td>\n",
       "      <td>97</td>\n",
       "      <td>7</td>\n",
       "      <td>1.590164</td>\n",
       "    </tr>\n",
       "    <tr>\n",
       "      <th>44981</th>\n",
       "      <td>16</td>\n",
       "      <td>40</td>\n",
       "      <td>4</td>\n",
       "      <td>2020</td>\n",
       "      <td>2</td>\n",
       "      <td>15</td>\n",
       "      <td>1347800</td>\n",
       "      <td>19</td>\n",
       "      <td>5</td>\n",
       "      <td>1.266667</td>\n",
       "    </tr>\n",
       "  </tbody>\n",
       "</table>\n",
       "<p>44982 rows × 10 columns</p>\n",
       "</div>"
      ],
      "text/plain": [
       "       CARD_SIDO_NM  STD_CLSS_NM  FLC  year  month  CSTMR_CNT       AMT  CNT  \\\n",
       "0                 0            0    0  2019      0          4    311200    4   \n",
       "1                 0            0    0  2019      1          7   1517000    8   \n",
       "2                 0            0    0  2019      2         16    982750   17   \n",
       "3                 0            0    0  2019      3          4    266000    4   \n",
       "4                 0            0    0  2019      4         13   1057200   15   \n",
       "...             ...          ...  ...   ...    ...        ...       ...  ...   \n",
       "44977            16           40    4  2019     10        167  18735900  246   \n",
       "44978            16           40    4  2019     11        128   9446100  190   \n",
       "44979            16           40    4  2020      0        149  12968610  233   \n",
       "44980            16           40    4  2020      1         61   3895100   97   \n",
       "44981            16           40    4  2020      2         15   1347800   19   \n",
       "\n",
       "       std_cnt  regular_power  \n",
       "0            1       1.000000  \n",
       "1            2       1.142857  \n",
       "2            3       1.062500  \n",
       "3            1       1.000000  \n",
       "4            3       1.153846  \n",
       "...        ...            ...  \n",
       "44977       28       1.473054  \n",
       "44978       21       1.484375  \n",
       "44979       21       1.563758  \n",
       "44980        7       1.590164  \n",
       "44981        5       1.266667  \n",
       "\n",
       "[44982 rows x 10 columns]"
      ]
     },
     "execution_count": 52,
     "metadata": {},
     "output_type": "execute_result"
    }
   ],
   "source": [
    "df_num"
   ]
  },
  {
   "cell_type": "markdown",
   "metadata": {
    "colab_type": "text",
    "id": "djNdu3cNBFnJ"
   },
   "source": [
    "## 4. 변수 선택 및 모델 구축\n",
    "## Feature Engineering & Initial Modeling  "
   ]
  },
  {
   "cell_type": "code",
   "execution_count": 16,
   "metadata": {
    "colab": {},
    "colab_type": "code",
    "id": "ZSwGyj_3BFnK"
   },
   "outputs": [],
   "source": [
    "# feature, target 설정\n",
    "x = df_num.drop(['CSTMR_CNT', 'AMT', 'CNT'], axis=1)\n",
    "y = np.log1p(df_num['AMT'])"
   ]
  },
  {
   "cell_type": "code",
   "execution_count": 4,
   "metadata": {
    "colab": {},
    "colab_type": "code",
    "id": "ZioDUrb_uJg9"
   },
   "outputs": [],
   "source": [
    "# folds = KFold(n_splits=5, shuffle=True, random_state=1234)\n",
    "# oof_preds = np.zeros(x.shape[0])\n",
    "# sub_preds = np.zeros(temp.shape[0])\n",
    "# categorical_features = list(df.dtypes[df.dtypes=='object'].index)"
   ]
  },
  {
   "cell_type": "code",
   "execution_count": 17,
   "metadata": {
    "colab": {},
    "colab_type": "code",
    "id": "LnFJ1rOyJrUf"
   },
   "outputs": [],
   "source": [
    "# 서울, 경기, 그외 지역으로 분리\n",
    "s_train_ind = df_num[~((df_num['year'] == 2020) & (df_num['month'] == 2)) & (df_num['CARD_SIDO_NM'] == 8)].index\n",
    "s_valid_ind = df_num[(df_num['year'] == 2020) & (df_num['month'] == 2) & (df_num['CARD_SIDO_NM'] == 8)].index\n",
    "\n",
    "k_train_ind = df_num[~((df_num['year'] == 2020) & (df_num['month'] == 2)) & (df_num['CARD_SIDO_NM'] == 1)].index\n",
    "k_valid_ind = df_num[(df_num['year'] == 2020) & (df_num['month'] == 2) & (df_num['CARD_SIDO_NM'] == 1)].index\n",
    "\n",
    "other_train_ind = df_num[~((df_num['year'] == 2020) & (df_num['month'] == 2)) & ~(df_num['CARD_SIDO_NM'].isin([1, 8]))].index\n",
    "other_valid_ind = df_num[~df_num['CARD_SIDO_NM'].isin([1, 8]) & (df_num['year'] == 2020) & (df_num['month'] == 2)].index"
   ]
  },
  {
   "cell_type": "code",
   "execution_count": 34,
   "metadata": {
    "colab": {},
    "colab_type": "code",
    "id": "4cnn2NDsBFnO"
   },
   "outputs": [],
   "source": [
    "x_s_train = x.iloc[s_train_ind]\n",
    "x_s_val = x.iloc[s_valid_ind]\n",
    "y_s_train = y.iloc[s_train_ind]\n",
    "y_s_val = y.iloc[s_valid_ind]\n",
    "\n",
    "x_k_train = x.iloc[k_train_ind]\n",
    "x_k_val = x.iloc[k_valid_ind]\n",
    "y_k_train = y.iloc[k_train_ind]\n",
    "y_k_val = y.iloc[k_valid_ind]\n",
    "\n",
    "x_oth_train = x.iloc[other_train_ind]\n",
    "x_oth_val = x.iloc[other_valid_ind]\n",
    "y_oth_train = y.iloc[other_train_ind]\n",
    "y_oth_val = y.iloc[other_valid_ind]"
   ]
  },
  {
   "cell_type": "code",
   "execution_count": 23,
   "metadata": {
    "colab": {
     "base_uri": "https://localhost:8080/",
     "height": 89
    },
    "colab_type": "code",
    "id": "ZIJCMRvcSlAg",
    "outputId": "bba0656f-f50a-4b62-8566-8e4e58fd0000"
   },
   "outputs": [
    {
     "name": "stdout",
     "output_type": "stream",
     "text": [
      "2710\n",
      "2710\n",
      "192\n",
      "192\n"
     ]
    }
   ],
   "source": [
    "print(len(x_s_train))\n",
    "print(len(y_s_train))\n",
    "print(len(x_s_val))\n",
    "print(len(y_s_val))"
   ]
  },
  {
   "cell_type": "markdown",
   "metadata": {
    "colab_type": "text",
    "id": "i65pA5uEBFnQ"
   },
   "source": [
    "  ## 5. 모델 학습 및 검증\n",
    "## Model Tuning & Evaluation"
   ]
  },
  {
   "cell_type": "code",
   "execution_count": 24,
   "metadata": {
    "colab": {},
    "colab_type": "code",
    "id": "uSZF4S-OBFnR"
   },
   "outputs": [],
   "source": [
    "import lightgbm as lgb"
   ]
  },
  {
   "cell_type": "code",
   "execution_count": 25,
   "metadata": {
    "colab": {},
    "colab_type": "code",
    "id": "7sCu1VwgATU_"
   },
   "outputs": [],
   "source": [
    "def rmsle_lgbm(y_pred, data):\n",
    "  y_true = np.array(data.get_label())\n",
    "  score = np.sqrt(np.mean(np.power(np.log1p(y_pred) - np.log1p(y_true), 2)))\n",
    "  \n",
    "  return 'rmsle', score, False"
   ]
  },
  {
   "cell_type": "code",
   "execution_count": 26,
   "metadata": {
    "colab": {},
    "colab_type": "code",
    "id": "A3G6bo7JBFnT"
   },
   "outputs": [],
   "source": [
    "# 서울\n",
    "categorical_features = list(df.dtypes[df.dtypes=='object'].index)\n",
    "train_s = lgb.Dataset(x_s_train, label=y_s_train, categorical_feature=categorical_features)\n",
    "val_s = lgb.Dataset(x_s_val, label=y_s_val)"
   ]
  },
  {
   "cell_type": "code",
   "execution_count": 27,
   "metadata": {
    "colab": {},
    "colab_type": "code",
    "id": "wqO3fBioLJC-"
   },
   "outputs": [],
   "source": [
    "params = {\n",
    "            'learning_rate' : 0.05,\n",
    "            'boosting_type': 'gbdt',\n",
    "            'objective': 'tweedie',\n",
    "            'tweedie_variance_power': 1.1,\n",
    "            'metric': 'custom',\n",
    "            'sub_row' : 0.75,\n",
    "          # 'lambda_l1' : 0.1,\n",
    "            'lambda_l2' : 0.1,\n",
    "          # 'max_depth' : -1,\n",
    "          # 'bagging_freq' : 5,\n",
    "          # 'max_bin': 128\n",
    "        }"
   ]
  },
  {
   "cell_type": "code",
   "execution_count": 28,
   "metadata": {
    "colab": {
     "base_uri": "https://localhost:8080/",
     "height": 341
    },
    "colab_type": "code",
    "id": "sj6XZfenBFna",
    "outputId": "58c3e625-a294-443e-f5ac-5053bbf1abf6",
    "scrolled": true
   },
   "outputs": [
    {
     "name": "stderr",
     "output_type": "stream",
     "text": [
      "C:\\Users\\Joshua\\Anaconda3\\lib\\site-packages\\lightgbm\\basic.py:1243: UserWarning: Using categorical_feature in Dataset.\n",
      "  warnings.warn('Using categorical_feature in Dataset.')\n",
      "C:\\Users\\Joshua\\Anaconda3\\lib\\site-packages\\lightgbm\\basic.py:1247: UserWarning: categorical_feature in Dataset is overridden.\n",
      "New categorical_feature is ['CARD_SIDO_NM', 'FLC', 'STD_CLSS_NM', 'month']\n",
      "  'New categorical_feature is {}'.format(sorted(list(categorical_feature))))\n"
     ]
    },
    {
     "name": "stdout",
     "output_type": "stream",
     "text": [
      "Training until validation scores don't improve for 100 rounds\n",
      "[100]\tvalid_0's rmsle: 0.0313482\n",
      "[200]\tvalid_0's rmsle: 0.0296659\n",
      "[300]\tvalid_0's rmsle: 0.0293572\n",
      "[400]\tvalid_0's rmsle: 0.0290892\n",
      "[500]\tvalid_0's rmsle: 0.0289958\n",
      "[600]\tvalid_0's rmsle: 0.0289845\n",
      "[700]\tvalid_0's rmsle: 0.0290163\n",
      "Early stopping, best iteration is:\n",
      "[642]\tvalid_0's rmsle: 0.0289689\n"
     ]
    }
   ],
   "source": [
    "model_s = lgb.train(params,\n",
    "                  train_s,\n",
    "                  20000,\n",
    "                  val_s,\n",
    "                  verbose_eval = 100,\n",
    "                  early_stopping_rounds = 100,\n",
    "                  feval=rmsle_lgbm\n",
    "                 )"
   ]
  },
  {
   "cell_type": "code",
   "execution_count": 29,
   "metadata": {
    "colab": {},
    "colab_type": "code",
    "id": "SGzfUH19S6PQ"
   },
   "outputs": [],
   "source": [
    "# 경기\n",
    "categorical_features = list(df.dtypes[df.dtypes=='object'].index)\n",
    "train_k = lgb.Dataset(x_k_train, label=y_k_train, categorical_feature=categorical_features)\n",
    "val_k = lgb.Dataset(x_k_val, label=y_k_val)"
   ]
  },
  {
   "cell_type": "code",
   "execution_count": 31,
   "metadata": {
    "colab": {
     "base_uri": "https://localhost:8080/",
     "height": 215
    },
    "colab_type": "code",
    "id": "JNRogIRwS6Pk",
    "outputId": "654ae82f-4ac4-4ed8-8903-05747f558898",
    "scrolled": true
   },
   "outputs": [
    {
     "name": "stdout",
     "output_type": "stream",
     "text": [
      "Training until validation scores don't improve for 100 rounds\n",
      "[100]\tvalid_0's rmsle: 0.0213722\n",
      "[200]\tvalid_0's rmsle: 0.0208884\n",
      "Early stopping, best iteration is:\n",
      "[133]\tvalid_0's rmsle: 0.0207108\n"
     ]
    }
   ],
   "source": [
    "model_k = lgb.train(params,\n",
    "                  train_k,\n",
    "                  20000,\n",
    "                  val_k,\n",
    "                  verbose_eval = 100,\n",
    "                  early_stopping_rounds = 100,\n",
    "                  feval=rmsle_lgbm\n",
    "                 )"
   ]
  },
  {
   "cell_type": "code",
   "execution_count": 35,
   "metadata": {
    "colab": {},
    "colab_type": "code",
    "id": "go7tXwhil_tu"
   },
   "outputs": [],
   "source": [
    "# 그 외 지역\n",
    "categorical_features = list(df.dtypes[df.dtypes=='object'].index)\n",
    "train_oth = lgb.Dataset(x_oth_train, label=y_oth_train, categorical_feature=categorical_features)\n",
    "val_oth = lgb.Dataset(x_oth_val, label=y_oth_val)"
   ]
  },
  {
   "cell_type": "code",
   "execution_count": 36,
   "metadata": {
    "colab": {},
    "colab_type": "code",
    "id": "mTj2Ldefl_t1"
   },
   "outputs": [],
   "source": [
    "# params = {\n",
    "#             'learning_rate' : 0.05,\n",
    "#             'boosting_type': 'gbdt',\n",
    "#             'objective': 'tweedie',\n",
    "#             'tweedie_variance_power': 1.1,\n",
    "#             'metric': 'rmse',\n",
    "#             'sub_row' : 0.75,\n",
    "#             'lambda_l2' : 0.1,\n",
    "#           # 'device' : 'gpu'\n",
    "#         }"
   ]
  },
  {
   "cell_type": "code",
   "execution_count": 37,
   "metadata": {
    "colab": {
     "base_uri": "https://localhost:8080/",
     "height": 269
    },
    "colab_type": "code",
    "id": "-1GekflSl_t6",
    "outputId": "759d4e3d-db56-4a25-af6d-bc4ba329e832",
    "scrolled": true
   },
   "outputs": [
    {
     "name": "stdout",
     "output_type": "stream",
     "text": [
      "Training until validation scores don't improve for 100 rounds\n",
      "[100]\tvalid_0's rmsle: 0.0264684\n",
      "[200]\tvalid_0's rmsle: 0.0247928\n",
      "[300]\tvalid_0's rmsle: 0.0241045\n",
      "[400]\tvalid_0's rmsle: 0.0237347\n",
      "[500]\tvalid_0's rmsle: 0.0233833\n",
      "[600]\tvalid_0's rmsle: 0.0233642\n",
      "[700]\tvalid_0's rmsle: 0.0233041\n",
      "[800]\tvalid_0's rmsle: 0.0232741\n",
      "Early stopping, best iteration is:\n",
      "[739]\tvalid_0's rmsle: 0.023252\n"
     ]
    }
   ],
   "source": [
    "model_oth = lgb.train(params,\n",
    "                  train_oth,\n",
    "                  20000,\n",
    "                  val_oth,\n",
    "                  verbose_eval = 100,\n",
    "                  early_stopping_rounds = 100,\n",
    "                  feval=rmsle_lgbm\n",
    "                 )"
   ]
  },
  {
   "cell_type": "code",
   "execution_count": null,
   "metadata": {
    "colab": {},
    "colab_type": "code",
    "id": "6n3IjStPDS19"
   },
   "outputs": [],
   "source": [
    "xgb_pars = {'min_child_weight': 1, 'eta': 0.5, 'colsample_bytree': 0.9, \n",
    "            'max_depth': 12,\n",
    "'subsample': 0.9, 'lambda': 1., 'nthread': -1, 'booster' : 'gbtree', 'silent': 1,\n",
    "'eval_metric': 'rmse', 'objective': 'reg:linear'}\n",
    "model = xgb.train(xgb_pars, dtrain, 10, watchlist, early_stopping_rounds=2,\n",
    "      maximize=False, verbose_eval=1)\n",
    "print('Modeling RMSLE %.5f' % model.best_score)"
   ]
  },
  {
   "cell_type": "markdown",
   "metadata": {
    "colab_type": "text",
    "id": "UZyQNRrEBFnd"
   },
   "source": [
    "## 6. 결과 및 결언\n",
    "## Conclusion & Discussion"
   ]
  },
  {
   "cell_type": "code",
   "execution_count": 58,
   "metadata": {
    "colab": {
     "base_uri": "https://localhost:8080/",
     "height": 71
    },
    "colab_type": "code",
    "id": "PA5YbRf0BEKA",
    "outputId": "ff45557a-19e9-41fb-cc43-8263416eac03"
   },
   "outputs": [
    {
     "data": {
      "text/plain": [
       "Index(['CARD_SIDO_NM', 'STD_CLSS_NM', 'FLC', 'year', 'month', 'std_cnt',\n",
       "       'regular_power'],\n",
       "      dtype='object')"
      ]
     },
     "execution_count": 58,
     "metadata": {},
     "output_type": "execute_result"
    }
   ],
   "source": [
    "x.columns"
   ]
  },
  {
   "cell_type": "code",
   "execution_count": 60,
   "metadata": {
    "colab": {},
    "colab_type": "code",
    "id": "BQD-71hMUBVV"
   },
   "outputs": [],
   "source": [
    "# 예측 템플릿 만들기\n",
    "CARD_SIDO_NMs = df_num['CARD_SIDO_NM'].unique()\n",
    "STD_CLSS_NMs  = df_num['STD_CLSS_NM'].unique()\n",
    "# HOM_SIDO_NMs  = df_num['HOM_SIDO_NM'].unique()\n",
    "FLCs          = df_num['FLC'].unique()\n",
    "years         = [2020]\n",
    "months        = [3, 6]\n",
    "\n",
    "temp = []\n",
    "from itertools import product\n",
    "comb_list = [CARD_SIDO_NMs, STD_CLSS_NMs, FLCs, years, months]\n",
    "temp = np.array(list(product(*comb_list)))\n",
    "temp = pd.DataFrame(data=temp, columns=x.columns[:5])"
   ]
  },
  {
   "cell_type": "code",
   "execution_count": 56,
   "metadata": {},
   "outputs": [
    {
     "data": {
      "text/html": [
       "<div>\n",
       "<style scoped>\n",
       "    .dataframe tbody tr th:only-of-type {\n",
       "        vertical-align: middle;\n",
       "    }\n",
       "\n",
       "    .dataframe tbody tr th {\n",
       "        vertical-align: top;\n",
       "    }\n",
       "\n",
       "    .dataframe thead th {\n",
       "        text-align: right;\n",
       "    }\n",
       "</style>\n",
       "<table border=\"1\" class=\"dataframe\">\n",
       "  <thead>\n",
       "    <tr style=\"text-align: right;\">\n",
       "      <th></th>\n",
       "      <th>CARD_SIDO_NM</th>\n",
       "      <th>STD_CLSS_NM</th>\n",
       "      <th>FLC</th>\n",
       "      <th>year</th>\n",
       "      <th>month</th>\n",
       "    </tr>\n",
       "  </thead>\n",
       "  <tbody>\n",
       "    <tr>\n",
       "      <th>0</th>\n",
       "      <td>0</td>\n",
       "      <td>0</td>\n",
       "      <td>0</td>\n",
       "      <td>2020</td>\n",
       "      <td>3</td>\n",
       "    </tr>\n",
       "    <tr>\n",
       "      <th>1</th>\n",
       "      <td>0</td>\n",
       "      <td>0</td>\n",
       "      <td>0</td>\n",
       "      <td>2020</td>\n",
       "      <td>6</td>\n",
       "    </tr>\n",
       "    <tr>\n",
       "      <th>2</th>\n",
       "      <td>0</td>\n",
       "      <td>0</td>\n",
       "      <td>1</td>\n",
       "      <td>2020</td>\n",
       "      <td>3</td>\n",
       "    </tr>\n",
       "    <tr>\n",
       "      <th>3</th>\n",
       "      <td>0</td>\n",
       "      <td>0</td>\n",
       "      <td>1</td>\n",
       "      <td>2020</td>\n",
       "      <td>6</td>\n",
       "    </tr>\n",
       "    <tr>\n",
       "      <th>4</th>\n",
       "      <td>0</td>\n",
       "      <td>0</td>\n",
       "      <td>2</td>\n",
       "      <td>2020</td>\n",
       "      <td>3</td>\n",
       "    </tr>\n",
       "    <tr>\n",
       "      <th>...</th>\n",
       "      <td>...</td>\n",
       "      <td>...</td>\n",
       "      <td>...</td>\n",
       "      <td>...</td>\n",
       "      <td>...</td>\n",
       "    </tr>\n",
       "    <tr>\n",
       "      <th>6965</th>\n",
       "      <td>16</td>\n",
       "      <td>30</td>\n",
       "      <td>2</td>\n",
       "      <td>2020</td>\n",
       "      <td>6</td>\n",
       "    </tr>\n",
       "    <tr>\n",
       "      <th>6966</th>\n",
       "      <td>16</td>\n",
       "      <td>30</td>\n",
       "      <td>3</td>\n",
       "      <td>2020</td>\n",
       "      <td>3</td>\n",
       "    </tr>\n",
       "    <tr>\n",
       "      <th>6967</th>\n",
       "      <td>16</td>\n",
       "      <td>30</td>\n",
       "      <td>3</td>\n",
       "      <td>2020</td>\n",
       "      <td>6</td>\n",
       "    </tr>\n",
       "    <tr>\n",
       "      <th>6968</th>\n",
       "      <td>16</td>\n",
       "      <td>30</td>\n",
       "      <td>4</td>\n",
       "      <td>2020</td>\n",
       "      <td>3</td>\n",
       "    </tr>\n",
       "    <tr>\n",
       "      <th>6969</th>\n",
       "      <td>16</td>\n",
       "      <td>30</td>\n",
       "      <td>4</td>\n",
       "      <td>2020</td>\n",
       "      <td>6</td>\n",
       "    </tr>\n",
       "  </tbody>\n",
       "</table>\n",
       "<p>6970 rows × 5 columns</p>\n",
       "</div>"
      ],
      "text/plain": [
       "      CARD_SIDO_NM  STD_CLSS_NM  FLC  year  month\n",
       "0                0            0    0  2020      3\n",
       "1                0            0    0  2020      6\n",
       "2                0            0    1  2020      3\n",
       "3                0            0    1  2020      6\n",
       "4                0            0    2  2020      3\n",
       "...            ...          ...  ...   ...    ...\n",
       "6965            16           30    2  2020      6\n",
       "6966            16           30    3  2020      3\n",
       "6967            16           30    3  2020      6\n",
       "6968            16           30    4  2020      3\n",
       "6969            16           30    4  2020      6\n",
       "\n",
       "[6970 rows x 5 columns]"
      ]
     },
     "execution_count": 56,
     "metadata": {},
     "output_type": "execute_result"
    }
   ],
   "source": [
    "temp"
   ]
  },
  {
   "cell_type": "code",
   "execution_count": 40,
   "metadata": {
    "colab": {
     "base_uri": "https://localhost:8080/",
     "height": 204
    },
    "colab_type": "code",
    "id": "kmvlwCDb5fnE",
    "outputId": "5ec834be-7544-469d-928d-2a48a88b0a96"
   },
   "outputs": [
    {
     "data": {
      "text/html": [
       "<div>\n",
       "<style scoped>\n",
       "    .dataframe tbody tr th:only-of-type {\n",
       "        vertical-align: middle;\n",
       "    }\n",
       "\n",
       "    .dataframe tbody tr th {\n",
       "        vertical-align: top;\n",
       "    }\n",
       "\n",
       "    .dataframe thead th {\n",
       "        text-align: right;\n",
       "    }\n",
       "</style>\n",
       "<table border=\"1\" class=\"dataframe\">\n",
       "  <thead>\n",
       "    <tr style=\"text-align: right;\">\n",
       "      <th></th>\n",
       "      <th>CARD_SIDO_NM</th>\n",
       "      <th>STD_CLSS_NM</th>\n",
       "      <th>FLC</th>\n",
       "      <th>month</th>\n",
       "      <th>std_cnt</th>\n",
       "      <th>regular_power</th>\n",
       "    </tr>\n",
       "  </thead>\n",
       "  <tbody>\n",
       "    <tr>\n",
       "      <th>0</th>\n",
       "      <td>0</td>\n",
       "      <td>0</td>\n",
       "      <td>0</td>\n",
       "      <td>3</td>\n",
       "      <td>1</td>\n",
       "      <td>1</td>\n",
       "    </tr>\n",
       "    <tr>\n",
       "      <th>1</th>\n",
       "      <td>0</td>\n",
       "      <td>0</td>\n",
       "      <td>0</td>\n",
       "      <td>6</td>\n",
       "      <td>3</td>\n",
       "      <td>1</td>\n",
       "    </tr>\n",
       "    <tr>\n",
       "      <th>2</th>\n",
       "      <td>0</td>\n",
       "      <td>0</td>\n",
       "      <td>1</td>\n",
       "      <td>3</td>\n",
       "      <td>9</td>\n",
       "      <td>1</td>\n",
       "    </tr>\n",
       "    <tr>\n",
       "      <th>3</th>\n",
       "      <td>0</td>\n",
       "      <td>0</td>\n",
       "      <td>1</td>\n",
       "      <td>6</td>\n",
       "      <td>8</td>\n",
       "      <td>1</td>\n",
       "    </tr>\n",
       "    <tr>\n",
       "      <th>4</th>\n",
       "      <td>0</td>\n",
       "      <td>0</td>\n",
       "      <td>2</td>\n",
       "      <td>3</td>\n",
       "      <td>8</td>\n",
       "      <td>1</td>\n",
       "    </tr>\n",
       "  </tbody>\n",
       "</table>\n",
       "</div>"
      ],
      "text/plain": [
       "   CARD_SIDO_NM  STD_CLSS_NM  FLC  month  std_cnt  regular_power\n",
       "0             0            0    0      3        1              1\n",
       "1             0            0    0      6        3              1\n",
       "2             0            0    1      3        9              1\n",
       "3             0            0    1      6        8              1\n",
       "4             0            0    2      3        8              1"
      ]
     },
     "execution_count": 40,
     "metadata": {},
     "output_type": "execute_result"
    }
   ],
   "source": [
    "# 7월은 // 2하면 안됨. 수정 필요\n",
    "import math\n",
    "\n",
    "tmp = df_num.groupby(['CARD_SIDO_NM', 'STD_CLSS_NM', 'FLC', 'month'])[['CSTMR_CNT', 'CNT', 'std_cnt']].sum().reset_index(drop=False)\n",
    "tmp['regular_power'] = tmp.apply(lambda x : math.ceil(regular(x['CSTMR_CNT'], x['CNT'])/2), axis=1)\n",
    "tmp['std_cnt'] = tmp['std_cnt'] // 2 + 1\n",
    "tmp = tmp[tmp['month'].isin(months)].reset_index(drop=True)\n",
    "tmp.drop(['CSTMR_CNT', 'CNT'], axis=1, inplace=True)\n",
    "tmp.head()"
   ]
  },
  {
   "cell_type": "code",
   "execution_count": 41,
   "metadata": {
    "colab": {},
    "colab_type": "code",
    "id": "GC6878HDVMzc"
   },
   "outputs": [],
   "source": [
    "temp = temp.merge(tmp, on=['CARD_SIDO_NM', 'STD_CLSS_NM', 'FLC', 'month'], how='left')\n",
    "temp.fillna(1.0, inplace=True)"
   ]
  },
  {
   "cell_type": "code",
   "execution_count": 62,
   "metadata": {
    "colab": {
     "base_uri": "https://localhost:8080/",
     "height": 204
    },
    "colab_type": "code",
    "id": "-H49O82X__4F",
    "outputId": "22e794bf-2c29-4b90-a46e-3baea30312a4"
   },
   "outputs": [
    {
     "data": {
      "text/html": [
       "<div>\n",
       "<style scoped>\n",
       "    .dataframe tbody tr th:only-of-type {\n",
       "        vertical-align: middle;\n",
       "    }\n",
       "\n",
       "    .dataframe tbody tr th {\n",
       "        vertical-align: top;\n",
       "    }\n",
       "\n",
       "    .dataframe thead th {\n",
       "        text-align: right;\n",
       "    }\n",
       "</style>\n",
       "<table border=\"1\" class=\"dataframe\">\n",
       "  <thead>\n",
       "    <tr style=\"text-align: right;\">\n",
       "      <th></th>\n",
       "      <th>CARD_SIDO_NM</th>\n",
       "      <th>STD_CLSS_NM</th>\n",
       "      <th>FLC</th>\n",
       "      <th>year</th>\n",
       "      <th>month</th>\n",
       "    </tr>\n",
       "  </thead>\n",
       "  <tbody>\n",
       "    <tr>\n",
       "      <th>0</th>\n",
       "      <td>0</td>\n",
       "      <td>0</td>\n",
       "      <td>0</td>\n",
       "      <td>2020</td>\n",
       "      <td>3</td>\n",
       "    </tr>\n",
       "    <tr>\n",
       "      <th>1</th>\n",
       "      <td>0</td>\n",
       "      <td>0</td>\n",
       "      <td>0</td>\n",
       "      <td>2020</td>\n",
       "      <td>6</td>\n",
       "    </tr>\n",
       "    <tr>\n",
       "      <th>2</th>\n",
       "      <td>0</td>\n",
       "      <td>0</td>\n",
       "      <td>1</td>\n",
       "      <td>2020</td>\n",
       "      <td>3</td>\n",
       "    </tr>\n",
       "    <tr>\n",
       "      <th>3</th>\n",
       "      <td>0</td>\n",
       "      <td>0</td>\n",
       "      <td>1</td>\n",
       "      <td>2020</td>\n",
       "      <td>6</td>\n",
       "    </tr>\n",
       "    <tr>\n",
       "      <th>4</th>\n",
       "      <td>0</td>\n",
       "      <td>0</td>\n",
       "      <td>2</td>\n",
       "      <td>2020</td>\n",
       "      <td>3</td>\n",
       "    </tr>\n",
       "    <tr>\n",
       "      <th>...</th>\n",
       "      <td>...</td>\n",
       "      <td>...</td>\n",
       "      <td>...</td>\n",
       "      <td>...</td>\n",
       "      <td>...</td>\n",
       "    </tr>\n",
       "    <tr>\n",
       "      <th>6965</th>\n",
       "      <td>16</td>\n",
       "      <td>30</td>\n",
       "      <td>2</td>\n",
       "      <td>2020</td>\n",
       "      <td>6</td>\n",
       "    </tr>\n",
       "    <tr>\n",
       "      <th>6966</th>\n",
       "      <td>16</td>\n",
       "      <td>30</td>\n",
       "      <td>3</td>\n",
       "      <td>2020</td>\n",
       "      <td>3</td>\n",
       "    </tr>\n",
       "    <tr>\n",
       "      <th>6967</th>\n",
       "      <td>16</td>\n",
       "      <td>30</td>\n",
       "      <td>3</td>\n",
       "      <td>2020</td>\n",
       "      <td>6</td>\n",
       "    </tr>\n",
       "    <tr>\n",
       "      <th>6968</th>\n",
       "      <td>16</td>\n",
       "      <td>30</td>\n",
       "      <td>4</td>\n",
       "      <td>2020</td>\n",
       "      <td>3</td>\n",
       "    </tr>\n",
       "    <tr>\n",
       "      <th>6969</th>\n",
       "      <td>16</td>\n",
       "      <td>30</td>\n",
       "      <td>4</td>\n",
       "      <td>2020</td>\n",
       "      <td>6</td>\n",
       "    </tr>\n",
       "  </tbody>\n",
       "</table>\n",
       "<p>6970 rows × 5 columns</p>\n",
       "</div>"
      ],
      "text/plain": [
       "      CARD_SIDO_NM  STD_CLSS_NM  FLC  year  month\n",
       "0                0            0    0  2020      3\n",
       "1                0            0    0  2020      6\n",
       "2                0            0    1  2020      3\n",
       "3                0            0    1  2020      6\n",
       "4                0            0    2  2020      3\n",
       "...            ...          ...  ...   ...    ...\n",
       "6965            16           30    2  2020      6\n",
       "6966            16           30    3  2020      3\n",
       "6967            16           30    3  2020      6\n",
       "6968            16           30    4  2020      3\n",
       "6969            16           30    4  2020      6\n",
       "\n",
       "[6970 rows x 5 columns]"
      ]
     },
     "execution_count": 62,
     "metadata": {},
     "output_type": "execute_result"
    }
   ],
   "source": [
    "temp"
   ]
  },
  {
   "cell_type": "code",
   "execution_count": 1,
   "metadata": {
    "colab": {},
    "colab_type": "code",
    "id": "riiddsXv24Lc"
   },
   "outputs": [],
   "source": [
    "# tmp = df_num.groupby(['CARD_SIDO_NM', 'STD_CLSS_NM', 'month'])[['FLC_1', 'FLC_2', 'FLC_3', 'FLC_4', 'FLC_5']].sum().reset_index(drop=False)\n",
    "# temp = temp.merge(tmp, on=['CARD_SIDO_NM', 'STD_CLSS_NM', 'month'], how='left')\n",
    "# temp.fillna(0, inplace=True)\n",
    "# temp.loc[temp['month']==2, ['FLC_1', 'FLC_2', 'FLC_3', 'FLC_4', 'FLC_5']] = temp.loc[temp['month']==2, ['FLC_1', 'FLC_2', 'FLC_3', 'FLC_4', 'FLC_5']] * 0.4"
   ]
  },
  {
   "cell_type": "code",
   "execution_count": 43,
   "metadata": {
    "colab": {},
    "colab_type": "code",
    "id": "QK2IAL8IBFng"
   },
   "outputs": [],
   "source": [
    "# 예측\n",
    "pred_s = model_s.predict(temp[temp['CARD_SIDO_NM'] == 8])\n",
    "pred_s = np.expm1(pred_s)\n",
    "\n",
    "pred_k = model_k.predict(temp[temp['CARD_SIDO_NM'] == 1])\n",
    "pred_k = np.expm1(pred_k)\n",
    "\n",
    "pred_oth = model_oth.predict(temp[~temp['CARD_SIDO_NM'].isin([1,8])])\n",
    "pred_oth = np.expm1(pred_oth)"
   ]
  },
  {
   "cell_type": "code",
   "execution_count": 44,
   "metadata": {
    "colab": {},
    "colab_type": "code",
    "id": "1O84KlGNBFni"
   },
   "outputs": [],
   "source": [
    "# 디코딩\n",
    "temp.loc[temp['CARD_SIDO_NM'] == 8, 'AMT'] = np.round(pred_s, 0)\n",
    "temp.loc[temp['CARD_SIDO_NM'] == 1, 'AMT'] = np.round(pred_k, 0)\n",
    "temp.loc[~temp['CARD_SIDO_NM'].isin([1,8]), 'AMT'] = np.round(pred_oth, 0)\n",
    "\n",
    "temp['REG_YYMM'] = temp['year']*100 + temp['month'] + 1\n",
    "# # temp = temp[['REG_YYMM', 'CARD_SIDO_NM', 'STD_CLSS_NM', 'AMT']]\n",
    "temp = temp.groupby(['REG_YYMM', 'CARD_SIDO_NM', 'STD_CLSS_NM']).AMT.sum().reset_index(drop=False)\n",
    "temp['CARD_SIDO_NM'] = encoders['CARD_SIDO_NM'].inverse_transform(temp['CARD_SIDO_NM'])\n",
    "temp['STD_CLSS_NM'] = encoders['STD_CLSS_NM'].inverse_transform(temp['STD_CLSS_NM'])"
   ]
  },
  {
   "cell_type": "code",
   "execution_count": 45,
   "metadata": {
    "colab": {},
    "colab_type": "code",
    "id": "cnKqdWRbq_UI"
   },
   "outputs": [],
   "source": [
    "# 2020년 3월 기준 특정 업종이 없는 지역\n",
    "sido = df['CARD_SIDO_NM'].unique()\n",
    "std = df['STD_CLSS_NM'].unique()\n",
    "\n",
    "tmp = df[(df['month'] == 3) & (df['year'] == 2020)]\n",
    "tmp = tmp[['CARD_SIDO_NM', 'STD_CLSS_NM']]\n",
    "tmp = tmp.drop_duplicates(['CARD_SIDO_NM', 'STD_CLSS_NM'], keep='first').reset_index(drop=True)\n",
    "\n",
    "d = {}\n",
    "\n",
    "for s in sido:\n",
    "  d[s] = []\n",
    "  for c in std:\n",
    "    d[s].append(c)\n",
    "\n",
    "for i in tmp.index:\n",
    "  d[tmp.loc[i, 'CARD_SIDO_NM']].remove(tmp.loc[i, 'STD_CLSS_NM'])"
   ]
  },
  {
   "cell_type": "code",
   "execution_count": 46,
   "metadata": {
    "colab": {},
    "colab_type": "code",
    "id": "cp_ERjWCrBNx"
   },
   "outputs": [],
   "source": [
    "for i in temp.index:\n",
    "  for k, v in d.items():\n",
    "    if k == temp.loc[i, 'CARD_SIDO_NM']:\n",
    "      if temp.loc[i, 'STD_CLSS_NM'] in v:\n",
    "        temp.loc[i, 'AMT'] = 0"
   ]
  },
  {
   "cell_type": "code",
   "execution_count": null,
   "metadata": {
    "colab": {},
    "colab_type": "code",
    "id": "JIiuVKucBFnk"
   },
   "outputs": [],
   "source": [
    "# 제출 파일 만들기\n",
    "submission = pd.read_csv('./submission.csv', index_col=0)\n",
    "submission = submission.drop(['AMT'], axis=1)\n",
    "submission = submission.merge(temp, left_on=['REG_YYMM', 'CARD_SIDO_NM', 'STD_CLSS_NM'], right_on=['REG_YYMM', 'CARD_SIDO_NM', 'STD_CLSS_NM'], how='left')\n",
    "submission.index.name = 'id'\n",
    "\n",
    "# for i in range(len(submission)):\n",
    "#   for j in range(len(sido)):\n",
    "#     if (submission.loc[i, 'CARD_SIDO_NM'] == sido[j]) and (submission.loc[i, 'STD_CLSS_NM'] == std[j]):\n",
    "#       submission.loc[i, 'AMT'] = 0"
   ]
  },
  {
   "cell_type": "code",
   "execution_count": null,
   "metadata": {
    "colab": {
     "base_uri": "https://localhost:8080/",
     "height": 235
    },
    "colab_type": "code",
    "id": "DkivFfUz78Bm",
    "outputId": "b82454bb-d0fa-4244-9714-65938e3667ef"
   },
   "outputs": [
    {
     "data": {
      "text/html": [
       "<div>\n",
       "<style scoped>\n",
       "    .dataframe tbody tr th:only-of-type {\n",
       "        vertical-align: middle;\n",
       "    }\n",
       "\n",
       "    .dataframe tbody tr th {\n",
       "        vertical-align: top;\n",
       "    }\n",
       "\n",
       "    .dataframe thead th {\n",
       "        text-align: right;\n",
       "    }\n",
       "</style>\n",
       "<table border=\"1\" class=\"dataframe\">\n",
       "  <thead>\n",
       "    <tr style=\"text-align: right;\">\n",
       "      <th></th>\n",
       "      <th>REG_YYMM</th>\n",
       "      <th>CARD_SIDO_NM</th>\n",
       "      <th>STD_CLSS_NM</th>\n",
       "      <th>AMT</th>\n",
       "    </tr>\n",
       "    <tr>\n",
       "      <th>id</th>\n",
       "      <th></th>\n",
       "      <th></th>\n",
       "      <th></th>\n",
       "      <th></th>\n",
       "    </tr>\n",
       "  </thead>\n",
       "  <tbody>\n",
       "    <tr>\n",
       "      <th>0</th>\n",
       "      <td>202004</td>\n",
       "      <td>강원</td>\n",
       "      <td>건강보조식품 소매업</td>\n",
       "      <td>1.135866e+08</td>\n",
       "    </tr>\n",
       "    <tr>\n",
       "      <th>1</th>\n",
       "      <td>202004</td>\n",
       "      <td>강원</td>\n",
       "      <td>골프장 운영업</td>\n",
       "      <td>2.054297e+09</td>\n",
       "    </tr>\n",
       "    <tr>\n",
       "      <th>2</th>\n",
       "      <td>202004</td>\n",
       "      <td>강원</td>\n",
       "      <td>과실 및 채소 소매업</td>\n",
       "      <td>8.667350e+08</td>\n",
       "    </tr>\n",
       "    <tr>\n",
       "      <th>3</th>\n",
       "      <td>202004</td>\n",
       "      <td>강원</td>\n",
       "      <td>관광 민예품 및 선물용품 소매업</td>\n",
       "      <td>1.702574e+07</td>\n",
       "    </tr>\n",
       "    <tr>\n",
       "      <th>4</th>\n",
       "      <td>202004</td>\n",
       "      <td>강원</td>\n",
       "      <td>그외 기타 분류안된 오락관련 서비스업</td>\n",
       "      <td>0.000000e+00</td>\n",
       "    </tr>\n",
       "  </tbody>\n",
       "</table>\n",
       "</div>"
      ],
      "text/plain": [
       "    REG_YYMM CARD_SIDO_NM           STD_CLSS_NM           AMT\n",
       "id                                                           \n",
       "0     202004           강원            건강보조식품 소매업  1.135866e+08\n",
       "1     202004           강원               골프장 운영업  2.054297e+09\n",
       "2     202004           강원           과실 및 채소 소매업  8.667350e+08\n",
       "3     202004           강원     관광 민예품 및 선물용품 소매업  1.702574e+07\n",
       "4     202004           강원  그외 기타 분류안된 오락관련 서비스업  0.000000e+00"
      ]
     },
     "execution_count": 99,
     "metadata": {
      "tags": []
     },
     "output_type": "execute_result"
    }
   ],
   "source": [
    "submission.to_csv('submission.csv', encoding='utf-8-sig')\n",
    "submission.head()"
   ]
  },
  {
   "cell_type": "code",
   "execution_count": null,
   "metadata": {
    "colab": {},
    "colab_type": "code",
    "id": "_MOs7qQvs1NH"
   },
   "outputs": [],
   "source": [
    "# 1.920"
   ]
  },
  {
   "cell_type": "code",
   "execution_count": null,
   "metadata": {
    "colab": {},
    "colab_type": "code",
    "id": "em6XNIYh_xVr"
   },
   "outputs": [],
   "source": []
  }
 ],
 "metadata": {
  "colab": {
   "collapsed_sections": [],
   "machine_shape": "hm",
   "name": "jeju_LGBM(서울, 경기 분리, rmsle)_ram_increased.ipynb",
   "provenance": []
  },
  "kernelspec": {
   "display_name": "Python 3",
   "language": "python",
   "name": "python3"
  },
  "language_info": {
   "codemirror_mode": {
    "name": "ipython",
    "version": 3
   },
   "file_extension": ".py",
   "mimetype": "text/x-python",
   "name": "python",
   "nbconvert_exporter": "python",
   "pygments_lexer": "ipython3",
   "version": "3.7.3"
  }
 },
 "nbformat": 4,
 "nbformat_minor": 4
}
