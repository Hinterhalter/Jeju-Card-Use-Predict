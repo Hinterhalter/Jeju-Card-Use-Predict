{
 "cells": [
  {
   "cell_type": "code",
   "execution_count": 1,
   "metadata": {},
   "outputs": [],
   "source": [
    "import pandas as pd, numpy as np, matplotlib.pyplot as plt, matplotlib as mpl, seaborn as sns, warnings\n",
    "\n",
    "%matplotlib inline\n",
    "from matplotlib import font_manager, rc\n",
    "font_name = font_manager.FontProperties(fname=\"c:/Windows/Fonts/malgun.ttf\").get_name()\n",
    "plt.rc('font', family='NanumGothic')\n",
    "rc('font', family=font_name)\n",
    "mpl.rcParams['axes.unicode_minus'] = False\n",
    "\n",
    "plt.style.use('ggplot')\n",
    "color_pal = [\"#F8766D\", \"#D39200\", \"#93AA00\", \"#00BA38\", \"#00C19F\", \"#00B9E3\", \"#619CFF\", \"#DB72FB\"]\n",
    "\n",
    "warnings.filterwarnings(action='ignore')\n",
    "\n",
    "from sklearn.ensemble import RandomForestRegressor\n",
    "from sklearn.ensemble import StackingRegressor\n",
    "from sklearn.ensemble import GradientBoostingRegressor\n",
    "from sklearn.neighbors import KNeighborsRegressor\n",
    "from sklearn.svm import LinearSVR, SVR\n",
    "from scipy.cluster.hierarchy import linkage, dendrogram, fcluster\n",
    "from sklearn.cluster import KMeans, DBSCAN\n",
    "from sklearn.metrics import mean_squared_error, mean_squared_log_error\n",
    "from sklearn.model_selection import GridSearchCV\n",
    "from sklearn.preprocessing import MinMaxScaler, StandardScaler, LabelEncoder\n",
    "from sklearn.model_selection import train_test_split\n",
    "import lightgbm as lgb\n",
    "from xgboost import XGBRegressor"
   ]
  },
  {
   "cell_type": "code",
   "execution_count": 4,
   "metadata": {},
   "outputs": [],
   "source": [
    "df_raw = pd.read_csv('./data/jeju_data_ver1/201901-202003.csv')"
   ]
  },
  {
   "cell_type": "code",
   "execution_count": 5,
   "metadata": {},
   "outputs": [
    {
     "data": {
      "text/html": [
       "<div>\n",
       "<style scoped>\n",
       "    .dataframe tbody tr th:only-of-type {\n",
       "        vertical-align: middle;\n",
       "    }\n",
       "\n",
       "    .dataframe tbody tr th {\n",
       "        vertical-align: top;\n",
       "    }\n",
       "\n",
       "    .dataframe thead th {\n",
       "        text-align: right;\n",
       "    }\n",
       "</style>\n",
       "<table border=\"1\" class=\"dataframe\">\n",
       "  <thead>\n",
       "    <tr style=\"text-align: right;\">\n",
       "      <th></th>\n",
       "      <th>REG_YYMM</th>\n",
       "      <th>CARD_SIDO_NM</th>\n",
       "      <th>CARD_CCG_NM</th>\n",
       "      <th>STD_CLSS_NM</th>\n",
       "      <th>HOM_SIDO_NM</th>\n",
       "      <th>HOM_CCG_NM</th>\n",
       "      <th>AGE</th>\n",
       "      <th>SEX_CTGO_CD</th>\n",
       "      <th>FLC</th>\n",
       "      <th>CSTMR_CNT</th>\n",
       "      <th>AMT</th>\n",
       "      <th>CNT</th>\n",
       "    </tr>\n",
       "  </thead>\n",
       "  <tbody>\n",
       "    <tr>\n",
       "      <th>0</th>\n",
       "      <td>201901</td>\n",
       "      <td>강원</td>\n",
       "      <td>강릉시</td>\n",
       "      <td>건강보조식품 소매업</td>\n",
       "      <td>강원</td>\n",
       "      <td>강릉시</td>\n",
       "      <td>20s</td>\n",
       "      <td>1</td>\n",
       "      <td>1</td>\n",
       "      <td>4</td>\n",
       "      <td>311200</td>\n",
       "      <td>4</td>\n",
       "    </tr>\n",
       "    <tr>\n",
       "      <th>1</th>\n",
       "      <td>201901</td>\n",
       "      <td>강원</td>\n",
       "      <td>강릉시</td>\n",
       "      <td>건강보조식품 소매업</td>\n",
       "      <td>강원</td>\n",
       "      <td>강릉시</td>\n",
       "      <td>30s</td>\n",
       "      <td>1</td>\n",
       "      <td>2</td>\n",
       "      <td>7</td>\n",
       "      <td>1374500</td>\n",
       "      <td>8</td>\n",
       "    </tr>\n",
       "    <tr>\n",
       "      <th>2</th>\n",
       "      <td>201901</td>\n",
       "      <td>강원</td>\n",
       "      <td>강릉시</td>\n",
       "      <td>건강보조식품 소매업</td>\n",
       "      <td>강원</td>\n",
       "      <td>강릉시</td>\n",
       "      <td>30s</td>\n",
       "      <td>2</td>\n",
       "      <td>2</td>\n",
       "      <td>6</td>\n",
       "      <td>818700</td>\n",
       "      <td>6</td>\n",
       "    </tr>\n",
       "    <tr>\n",
       "      <th>3</th>\n",
       "      <td>201901</td>\n",
       "      <td>강원</td>\n",
       "      <td>강릉시</td>\n",
       "      <td>건강보조식품 소매업</td>\n",
       "      <td>강원</td>\n",
       "      <td>강릉시</td>\n",
       "      <td>40s</td>\n",
       "      <td>1</td>\n",
       "      <td>3</td>\n",
       "      <td>4</td>\n",
       "      <td>1717000</td>\n",
       "      <td>5</td>\n",
       "    </tr>\n",
       "    <tr>\n",
       "      <th>4</th>\n",
       "      <td>201901</td>\n",
       "      <td>강원</td>\n",
       "      <td>강릉시</td>\n",
       "      <td>건강보조식품 소매업</td>\n",
       "      <td>강원</td>\n",
       "      <td>강릉시</td>\n",
       "      <td>40s</td>\n",
       "      <td>1</td>\n",
       "      <td>4</td>\n",
       "      <td>3</td>\n",
       "      <td>1047300</td>\n",
       "      <td>3</td>\n",
       "    </tr>\n",
       "  </tbody>\n",
       "</table>\n",
       "</div>"
      ],
      "text/plain": [
       "   REG_YYMM CARD_SIDO_NM CARD_CCG_NM STD_CLSS_NM HOM_SIDO_NM HOM_CCG_NM  AGE  \\\n",
       "0    201901           강원         강릉시  건강보조식품 소매업          강원        강릉시  20s   \n",
       "1    201901           강원         강릉시  건강보조식품 소매업          강원        강릉시  30s   \n",
       "2    201901           강원         강릉시  건강보조식품 소매업          강원        강릉시  30s   \n",
       "3    201901           강원         강릉시  건강보조식품 소매업          강원        강릉시  40s   \n",
       "4    201901           강원         강릉시  건강보조식품 소매업          강원        강릉시  40s   \n",
       "\n",
       "   SEX_CTGO_CD  FLC  CSTMR_CNT      AMT  CNT  \n",
       "0            1    1          4   311200    4  \n",
       "1            1    2          7  1374500    8  \n",
       "2            2    2          6   818700    6  \n",
       "3            1    3          4  1717000    5  \n",
       "4            1    4          3  1047300    3  "
      ]
     },
     "execution_count": 5,
     "metadata": {},
     "output_type": "execute_result"
    }
   ],
   "source": [
    "df_raw.head()"
   ]
  },
  {
   "cell_type": "markdown",
   "metadata": {},
   "source": [
    "# Data Preprocessing"
   ]
  },
  {
   "cell_type": "code",
   "execution_count": 6,
   "metadata": {},
   "outputs": [],
   "source": [
    "df = df_raw"
   ]
  },
  {
   "cell_type": "code",
   "execution_count": 7,
   "metadata": {},
   "outputs": [],
   "source": [
    "df.fillna('세종시', inplace=True)"
   ]
  },
  {
   "cell_type": "code",
   "execution_count": 8,
   "metadata": {},
   "outputs": [
    {
     "data": {
      "text/plain": [
       "Index(['REG_YYMM', 'CARD_SIDO_NM', 'CARD_CCG_NM', 'STD_CLSS_NM', 'HOM_SIDO_NM',\n",
       "       'HOM_CCG_NM', 'AGE', 'SEX_CTGO_CD', 'FLC', 'CSTMR_CNT', 'AMT', 'CNT'],\n",
       "      dtype='object')"
      ]
     },
     "execution_count": 8,
     "metadata": {},
     "output_type": "execute_result"
    }
   ],
   "source": [
    "df.columns"
   ]
  },
  {
   "cell_type": "code",
   "execution_count": 9,
   "metadata": {},
   "outputs": [],
   "source": [
    "def grap_year(data):\n",
    "    data = str(data)\n",
    "    return int(data[:4])\n",
    "\n",
    "def grap_month(data):\n",
    "    data = str(data)\n",
    "    return int(data[4:])"
   ]
  },
  {
   "cell_type": "code",
   "execution_count": 10,
   "metadata": {},
   "outputs": [],
   "source": [
    "df['year'] = df['REG_YYMM'].apply(lambda x: grap_year(x))\n",
    "df['month'] = df['REG_YYMM'].apply(lambda x: grap_month(x))\n",
    "df = df.drop(['REG_YYMM'], axis=1)"
   ]
  },
  {
   "cell_type": "code",
   "execution_count": 11,
   "metadata": {},
   "outputs": [],
   "source": [
    "df.drop(['CARD_CCG_NM', 'HOM_CCG_NM', 'AGE', 'SEX_CTGO_CD'], axis=1, inplace=True)"
   ]
  },
  {
   "cell_type": "markdown",
   "metadata": {},
   "source": [
    "# 업종 카운트 데이터 생성"
   ]
  },
  {
   "cell_type": "code",
   "execution_count": 12,
   "metadata": {},
   "outputs": [],
   "source": [
    "# 업종 카운트 데이터\n",
    "tmp = df.groupby(['CARD_SIDO_NM', 'STD_CLSS_NM', 'FLC', 'year', 'month']).count()\n",
    "tmp = tmp[['CNT']].rename(columns={'CNT':'std_cnt'})"
   ]
  },
  {
   "cell_type": "code",
   "execution_count": 13,
   "metadata": {},
   "outputs": [
    {
     "data": {
      "text/html": [
       "<div>\n",
       "<style scoped>\n",
       "    .dataframe tbody tr th:only-of-type {\n",
       "        vertical-align: middle;\n",
       "    }\n",
       "\n",
       "    .dataframe tbody tr th {\n",
       "        vertical-align: top;\n",
       "    }\n",
       "\n",
       "    .dataframe thead th {\n",
       "        text-align: right;\n",
       "    }\n",
       "</style>\n",
       "<table border=\"1\" class=\"dataframe\">\n",
       "  <thead>\n",
       "    <tr style=\"text-align: right;\">\n",
       "      <th></th>\n",
       "      <th>CARD_SIDO_NM</th>\n",
       "      <th>STD_CLSS_NM</th>\n",
       "      <th>FLC</th>\n",
       "      <th>year</th>\n",
       "      <th>month</th>\n",
       "      <th>CSTMR_CNT</th>\n",
       "      <th>AMT</th>\n",
       "      <th>CNT</th>\n",
       "      <th>std_cnt</th>\n",
       "    </tr>\n",
       "  </thead>\n",
       "  <tbody>\n",
       "    <tr>\n",
       "      <th>0</th>\n",
       "      <td>강원</td>\n",
       "      <td>건강보조식품 소매업</td>\n",
       "      <td>1</td>\n",
       "      <td>2019</td>\n",
       "      <td>1</td>\n",
       "      <td>4</td>\n",
       "      <td>311200</td>\n",
       "      <td>4</td>\n",
       "      <td>1</td>\n",
       "    </tr>\n",
       "    <tr>\n",
       "      <th>1</th>\n",
       "      <td>강원</td>\n",
       "      <td>건강보조식품 소매업</td>\n",
       "      <td>1</td>\n",
       "      <td>2019</td>\n",
       "      <td>2</td>\n",
       "      <td>7</td>\n",
       "      <td>1517000</td>\n",
       "      <td>8</td>\n",
       "      <td>2</td>\n",
       "    </tr>\n",
       "    <tr>\n",
       "      <th>2</th>\n",
       "      <td>강원</td>\n",
       "      <td>건강보조식품 소매업</td>\n",
       "      <td>1</td>\n",
       "      <td>2019</td>\n",
       "      <td>3</td>\n",
       "      <td>16</td>\n",
       "      <td>982750</td>\n",
       "      <td>17</td>\n",
       "      <td>3</td>\n",
       "    </tr>\n",
       "    <tr>\n",
       "      <th>3</th>\n",
       "      <td>강원</td>\n",
       "      <td>건강보조식품 소매업</td>\n",
       "      <td>1</td>\n",
       "      <td>2019</td>\n",
       "      <td>4</td>\n",
       "      <td>4</td>\n",
       "      <td>266000</td>\n",
       "      <td>4</td>\n",
       "      <td>1</td>\n",
       "    </tr>\n",
       "    <tr>\n",
       "      <th>4</th>\n",
       "      <td>강원</td>\n",
       "      <td>건강보조식품 소매업</td>\n",
       "      <td>1</td>\n",
       "      <td>2019</td>\n",
       "      <td>5</td>\n",
       "      <td>13</td>\n",
       "      <td>1057200</td>\n",
       "      <td>15</td>\n",
       "      <td>3</td>\n",
       "    </tr>\n",
       "  </tbody>\n",
       "</table>\n",
       "</div>"
      ],
      "text/plain": [
       "  CARD_SIDO_NM STD_CLSS_NM  FLC  year  month  CSTMR_CNT      AMT  CNT  std_cnt\n",
       "0           강원  건강보조식품 소매업    1  2019      1          4   311200    4        1\n",
       "1           강원  건강보조식품 소매업    1  2019      2          7  1517000    8        2\n",
       "2           강원  건강보조식품 소매업    1  2019      3         16   982750   17        3\n",
       "3           강원  건강보조식품 소매업    1  2019      4          4   266000    4        1\n",
       "4           강원  건강보조식품 소매업    1  2019      5         13  1057200   15        3"
      ]
     },
     "execution_count": 13,
     "metadata": {},
     "output_type": "execute_result"
    }
   ],
   "source": [
    "# 데이터 정제\n",
    "columns = ['CARD_SIDO_NM', 'STD_CLSS_NM', 'FLC', 'year', 'month']\n",
    "\n",
    "df = df.groupby(columns).sum().reset_index(drop=False)\n",
    "df = df.merge(tmp, how='left', on=columns)\n",
    "# df = df.merge(flcs, how='left', on=columns)\n",
    "df.head()"
   ]
  },
  {
   "cell_type": "code",
   "execution_count": 14,
   "metadata": {},
   "outputs": [],
   "source": [
    "# 단골 지수\n",
    "def regular(x, y):\n",
    "    if x == 0:\n",
    "        x += 1\n",
    "    return y / x\n",
    "\n",
    "df['regular_power'] = df.apply(lambda x: regular(x['CSTMR_CNT'], x['CNT']), axis=1)"
   ]
  },
  {
   "cell_type": "code",
   "execution_count": 15,
   "metadata": {},
   "outputs": [],
   "source": [
    "def make_season(data):\n",
    "    if data in [12, 1, 2]:\n",
    "        return 'Winter'\n",
    "    elif data in [3, 4, 5]:\n",
    "        return 'Spring'\n",
    "    elif data in [6, 7, 8]:\n",
    "        return 'Summer'\n",
    "    else:\n",
    "        return 'Autumn'"
   ]
  },
  {
   "cell_type": "code",
   "execution_count": 16,
   "metadata": {},
   "outputs": [],
   "source": [
    "df['Season'] = df['month'].apply(lambda x: make_season(x))"
   ]
  },
  {
   "cell_type": "code",
   "execution_count": 17,
   "metadata": {},
   "outputs": [],
   "source": [
    "df['CV'] = 0\n",
    "df.loc[(df['year']==2020) & (df['month']==1), 'CV'] = 1\n",
    "df.loc[(df['year']==2020) & (df['month']==2), 'CV'] = 2\n",
    "df.loc[(df['year']==2020) & (df['month']==3), 'CV'] = 3"
   ]
  },
  {
   "cell_type": "code",
   "execution_count": 18,
   "metadata": {},
   "outputs": [],
   "source": [
    "df['FLC'] = df['FLC'].astype('object')\n",
    "df['month'] = df['month'].astype('object')"
   ]
  },
  {
   "cell_type": "code",
   "execution_count": 19,
   "metadata": {},
   "outputs": [
    {
     "data": {
      "text/html": [
       "<div>\n",
       "<style scoped>\n",
       "    .dataframe tbody tr th:only-of-type {\n",
       "        vertical-align: middle;\n",
       "    }\n",
       "\n",
       "    .dataframe tbody tr th {\n",
       "        vertical-align: top;\n",
       "    }\n",
       "\n",
       "    .dataframe thead th {\n",
       "        text-align: right;\n",
       "    }\n",
       "</style>\n",
       "<table border=\"1\" class=\"dataframe\">\n",
       "  <thead>\n",
       "    <tr style=\"text-align: right;\">\n",
       "      <th></th>\n",
       "      <th>CARD_SIDO_NM</th>\n",
       "      <th>STD_CLSS_NM</th>\n",
       "      <th>FLC</th>\n",
       "      <th>year</th>\n",
       "      <th>month</th>\n",
       "      <th>CSTMR_CNT</th>\n",
       "      <th>AMT</th>\n",
       "      <th>CNT</th>\n",
       "      <th>std_cnt</th>\n",
       "      <th>regular_power</th>\n",
       "      <th>Season</th>\n",
       "      <th>CV</th>\n",
       "    </tr>\n",
       "  </thead>\n",
       "  <tbody>\n",
       "    <tr>\n",
       "      <th>0</th>\n",
       "      <td>강원</td>\n",
       "      <td>건강보조식품 소매업</td>\n",
       "      <td>1</td>\n",
       "      <td>2019</td>\n",
       "      <td>1</td>\n",
       "      <td>4</td>\n",
       "      <td>311200</td>\n",
       "      <td>4</td>\n",
       "      <td>1</td>\n",
       "      <td>1.000000</td>\n",
       "      <td>Winter</td>\n",
       "      <td>0</td>\n",
       "    </tr>\n",
       "    <tr>\n",
       "      <th>1</th>\n",
       "      <td>강원</td>\n",
       "      <td>건강보조식품 소매업</td>\n",
       "      <td>1</td>\n",
       "      <td>2019</td>\n",
       "      <td>2</td>\n",
       "      <td>7</td>\n",
       "      <td>1517000</td>\n",
       "      <td>8</td>\n",
       "      <td>2</td>\n",
       "      <td>1.142857</td>\n",
       "      <td>Winter</td>\n",
       "      <td>0</td>\n",
       "    </tr>\n",
       "    <tr>\n",
       "      <th>2</th>\n",
       "      <td>강원</td>\n",
       "      <td>건강보조식품 소매업</td>\n",
       "      <td>1</td>\n",
       "      <td>2019</td>\n",
       "      <td>3</td>\n",
       "      <td>16</td>\n",
       "      <td>982750</td>\n",
       "      <td>17</td>\n",
       "      <td>3</td>\n",
       "      <td>1.062500</td>\n",
       "      <td>Spring</td>\n",
       "      <td>0</td>\n",
       "    </tr>\n",
       "    <tr>\n",
       "      <th>3</th>\n",
       "      <td>강원</td>\n",
       "      <td>건강보조식품 소매업</td>\n",
       "      <td>1</td>\n",
       "      <td>2019</td>\n",
       "      <td>4</td>\n",
       "      <td>4</td>\n",
       "      <td>266000</td>\n",
       "      <td>4</td>\n",
       "      <td>1</td>\n",
       "      <td>1.000000</td>\n",
       "      <td>Spring</td>\n",
       "      <td>0</td>\n",
       "    </tr>\n",
       "    <tr>\n",
       "      <th>4</th>\n",
       "      <td>강원</td>\n",
       "      <td>건강보조식품 소매업</td>\n",
       "      <td>1</td>\n",
       "      <td>2019</td>\n",
       "      <td>5</td>\n",
       "      <td>13</td>\n",
       "      <td>1057200</td>\n",
       "      <td>15</td>\n",
       "      <td>3</td>\n",
       "      <td>1.153846</td>\n",
       "      <td>Spring</td>\n",
       "      <td>0</td>\n",
       "    </tr>\n",
       "    <tr>\n",
       "      <th>...</th>\n",
       "      <td>...</td>\n",
       "      <td>...</td>\n",
       "      <td>...</td>\n",
       "      <td>...</td>\n",
       "      <td>...</td>\n",
       "      <td>...</td>\n",
       "      <td>...</td>\n",
       "      <td>...</td>\n",
       "      <td>...</td>\n",
       "      <td>...</td>\n",
       "      <td>...</td>\n",
       "      <td>...</td>\n",
       "    </tr>\n",
       "    <tr>\n",
       "      <th>44977</th>\n",
       "      <td>충북</td>\n",
       "      <td>휴양콘도 운영업</td>\n",
       "      <td>5</td>\n",
       "      <td>2019</td>\n",
       "      <td>11</td>\n",
       "      <td>167</td>\n",
       "      <td>18735900</td>\n",
       "      <td>246</td>\n",
       "      <td>28</td>\n",
       "      <td>1.473054</td>\n",
       "      <td>Autumn</td>\n",
       "      <td>0</td>\n",
       "    </tr>\n",
       "    <tr>\n",
       "      <th>44978</th>\n",
       "      <td>충북</td>\n",
       "      <td>휴양콘도 운영업</td>\n",
       "      <td>5</td>\n",
       "      <td>2019</td>\n",
       "      <td>12</td>\n",
       "      <td>128</td>\n",
       "      <td>9446100</td>\n",
       "      <td>190</td>\n",
       "      <td>21</td>\n",
       "      <td>1.484375</td>\n",
       "      <td>Winter</td>\n",
       "      <td>0</td>\n",
       "    </tr>\n",
       "    <tr>\n",
       "      <th>44979</th>\n",
       "      <td>충북</td>\n",
       "      <td>휴양콘도 운영업</td>\n",
       "      <td>5</td>\n",
       "      <td>2020</td>\n",
       "      <td>1</td>\n",
       "      <td>149</td>\n",
       "      <td>12968610</td>\n",
       "      <td>233</td>\n",
       "      <td>21</td>\n",
       "      <td>1.563758</td>\n",
       "      <td>Winter</td>\n",
       "      <td>1</td>\n",
       "    </tr>\n",
       "    <tr>\n",
       "      <th>44980</th>\n",
       "      <td>충북</td>\n",
       "      <td>휴양콘도 운영업</td>\n",
       "      <td>5</td>\n",
       "      <td>2020</td>\n",
       "      <td>2</td>\n",
       "      <td>61</td>\n",
       "      <td>3895100</td>\n",
       "      <td>97</td>\n",
       "      <td>7</td>\n",
       "      <td>1.590164</td>\n",
       "      <td>Winter</td>\n",
       "      <td>2</td>\n",
       "    </tr>\n",
       "    <tr>\n",
       "      <th>44981</th>\n",
       "      <td>충북</td>\n",
       "      <td>휴양콘도 운영업</td>\n",
       "      <td>5</td>\n",
       "      <td>2020</td>\n",
       "      <td>3</td>\n",
       "      <td>15</td>\n",
       "      <td>1347800</td>\n",
       "      <td>19</td>\n",
       "      <td>5</td>\n",
       "      <td>1.266667</td>\n",
       "      <td>Spring</td>\n",
       "      <td>3</td>\n",
       "    </tr>\n",
       "  </tbody>\n",
       "</table>\n",
       "<p>44982 rows × 12 columns</p>\n",
       "</div>"
      ],
      "text/plain": [
       "      CARD_SIDO_NM STD_CLSS_NM FLC  year month  CSTMR_CNT       AMT  CNT  \\\n",
       "0               강원  건강보조식품 소매업   1  2019     1          4    311200    4   \n",
       "1               강원  건강보조식품 소매업   1  2019     2          7   1517000    8   \n",
       "2               강원  건강보조식품 소매업   1  2019     3         16    982750   17   \n",
       "3               강원  건강보조식품 소매업   1  2019     4          4    266000    4   \n",
       "4               강원  건강보조식품 소매업   1  2019     5         13   1057200   15   \n",
       "...            ...         ...  ..   ...   ...        ...       ...  ...   \n",
       "44977           충북    휴양콘도 운영업   5  2019    11        167  18735900  246   \n",
       "44978           충북    휴양콘도 운영업   5  2019    12        128   9446100  190   \n",
       "44979           충북    휴양콘도 운영업   5  2020     1        149  12968610  233   \n",
       "44980           충북    휴양콘도 운영업   5  2020     2         61   3895100   97   \n",
       "44981           충북    휴양콘도 운영업   5  2020     3         15   1347800   19   \n",
       "\n",
       "       std_cnt  regular_power  Season  CV  \n",
       "0            1       1.000000  Winter   0  \n",
       "1            2       1.142857  Winter   0  \n",
       "2            3       1.062500  Spring   0  \n",
       "3            1       1.000000  Spring   0  \n",
       "4            3       1.153846  Spring   0  \n",
       "...        ...            ...     ...  ..  \n",
       "44977       28       1.473054  Autumn   0  \n",
       "44978       21       1.484375  Winter   0  \n",
       "44979       21       1.563758  Winter   1  \n",
       "44980        7       1.590164  Winter   2  \n",
       "44981        5       1.266667  Spring   3  \n",
       "\n",
       "[44982 rows x 12 columns]"
      ]
     },
     "execution_count": 19,
     "metadata": {},
     "output_type": "execute_result"
    }
   ],
   "source": [
    "df"
   ]
  },
  {
   "cell_type": "code",
   "execution_count": 20,
   "metadata": {},
   "outputs": [],
   "source": [
    "df['FLC'] = df['FLC'].astype('object')\n",
    "df['month'] = df['month'].astype('object')"
   ]
  },
  {
   "cell_type": "code",
   "execution_count": 21,
   "metadata": {},
   "outputs": [],
   "source": [
    "# 인코딩\n",
    "dtypes = df.dtypes\n",
    "encoders = {}\n",
    "for column in df.columns:\n",
    "    if str(dtypes[column]) == 'object':\n",
    "        encoder = LabelEncoder()\n",
    "        encoder.fit(df[column])\n",
    "        encoders[column] = encoder\n",
    "        \n",
    "df_num = df.copy()        \n",
    "for column in encoders.keys():\n",
    "    encoder = encoders[column]\n",
    "    df_num[column] = encoder.transform(df[column])"
   ]
  },
  {
   "cell_type": "code",
   "execution_count": 22,
   "metadata": {},
   "outputs": [
    {
     "name": "stdout",
     "output_type": "stream",
     "text": [
      "<class 'pandas.core.frame.DataFrame'>\n",
      "Int64Index: 44982 entries, 0 to 44981\n",
      "Data columns (total 12 columns):\n",
      " #   Column         Non-Null Count  Dtype  \n",
      "---  ------         --------------  -----  \n",
      " 0   CARD_SIDO_NM   44982 non-null  int32  \n",
      " 1   STD_CLSS_NM    44982 non-null  int32  \n",
      " 2   FLC            44982 non-null  int32  \n",
      " 3   year           44982 non-null  int64  \n",
      " 4   month          44982 non-null  int32  \n",
      " 5   CSTMR_CNT      44982 non-null  int64  \n",
      " 6   AMT            44982 non-null  int64  \n",
      " 7   CNT            44982 non-null  int64  \n",
      " 8   std_cnt        44982 non-null  int64  \n",
      " 9   regular_power  44982 non-null  float64\n",
      " 10  Season         44982 non-null  int32  \n",
      " 11  CV             44982 non-null  int64  \n",
      "dtypes: float64(1), int32(5), int64(6)\n",
      "memory usage: 3.6 MB\n"
     ]
    }
   ],
   "source": [
    "df_num.info()"
   ]
  },
  {
   "cell_type": "code",
   "execution_count": 23,
   "metadata": {},
   "outputs": [
    {
     "data": {
      "text/plain": [
       "array(['강원', '경기', '경남', '경북', '광주', '대구', '대전', '부산', '서울', '세종', '울산',\n",
       "       '인천', '전남', '전북', '제주', '충남', '충북'], dtype=object)"
      ]
     },
     "execution_count": 23,
     "metadata": {},
     "output_type": "execute_result"
    }
   ],
   "source": [
    "df.CARD_SIDO_NM.unique()"
   ]
  },
  {
   "cell_type": "markdown",
   "metadata": {
    "colab_type": "text",
    "id": "djNdu3cNBFnJ"
   },
   "source": [
    "## 4. 변수 선택 및 모델 구축\n",
    "## Feature Engineering & Initial Modeling  "
   ]
  },
  {
   "cell_type": "code",
   "execution_count": 26,
   "metadata": {},
   "outputs": [],
   "source": [
    "# feature, target 설정\n",
    "x = df_num.drop(['CSTMR_CNT', 'AMT', 'CNT'], axis=1)\n",
    "y = np.log1p(df_num['AMT'])"
   ]
  },
  {
   "cell_type": "code",
   "execution_count": 27,
   "metadata": {},
   "outputs": [],
   "source": [
    "s_train_ind = s_train_ind = df[~((df['year']==2020) & (df['month']==3)) & (df['CARD_SIDO_NM']=='서울')].index"
   ]
  },
  {
   "cell_type": "code",
   "execution_count": 28,
   "metadata": {},
   "outputs": [],
   "source": [
    "# 서울, 경기, 그외 지역으로 분리\n",
    "s_train_ind = df[~((df['year']==2020) & (df['month']==3)) & (df['CARD_SIDO_NM']=='서울')].index\n",
    "s_valid_ind = df[(df['year']==2020) & (df['month']==3) & (df['CARD_SIDO_NM']=='서울')].index\n",
    "\n",
    "k_train_ind = df[~((df['year']==2020) & (df['month']==3)) & (df['CARD_SIDO_NM']=='경기')].index\n",
    "k_valid_ind = df[(df['year']==2020) & (df['month']==3) & (df['CARD_SIDO_NM']=='경기')].index\n",
    "\n",
    "j_train_ind = df[~((df['year']==2020) & (df['month']==3)) & (df['CARD_SIDO_NM']=='제주')].index\n",
    "j_valid_ind = df[(df['year']==2020) & (df['month']==3) & (df['CARD_SIDO_NM']=='제주')].index\n",
    "\n",
    "other_train_ind = df[~((df['year'] == 2020) & (df['month'] == 3)) & ~(df['CARD_SIDO_NM'].isin(['서울', '경기', '제주']))].index\n",
    "other_valid_ind = df[~df['CARD_SIDO_NM'].isin(['서울', '경기', '제주']) & (df['year'] == 2020) & (df['month'] == 3)].index"
   ]
  },
  {
   "cell_type": "code",
   "execution_count": 29,
   "metadata": {},
   "outputs": [],
   "source": [
    "x_s_train = x.iloc[s_train_ind]\n",
    "x_s_val = x.iloc[s_valid_ind]\n",
    "y_s_train = y.iloc[s_train_ind]\n",
    "y_s_val = y.iloc[s_valid_ind]\n",
    "\n",
    "x_k_train = x.iloc[k_train_ind]\n",
    "x_k_val = x.iloc[k_valid_ind]\n",
    "y_k_train = y.iloc[k_train_ind]\n",
    "y_k_val = y.iloc[k_valid_ind]\n",
    "\n",
    "x_j_train = x.iloc[j_train_ind]\n",
    "x_j_val = x.iloc[j_valid_ind]\n",
    "y_j_train = y.iloc[j_train_ind]\n",
    "y_j_val = y.iloc[j_valid_ind]\n",
    "\n",
    "x_oth_train = x.iloc[other_train_ind]\n",
    "x_oth_val = x.iloc[other_valid_ind]\n",
    "y_oth_train = y.iloc[other_train_ind]\n",
    "y_oth_val = y.iloc[other_valid_ind]"
   ]
  },
  {
   "cell_type": "code",
   "execution_count": 30,
   "metadata": {},
   "outputs": [
    {
     "name": "stdout",
     "output_type": "stream",
     "text": [
      "2710\n",
      "2710\n",
      "192\n",
      "192\n"
     ]
    }
   ],
   "source": [
    "print(len(x_s_train))\n",
    "print(len(y_s_train))\n",
    "print(len(x_s_val))\n",
    "print(len(y_s_val))"
   ]
  },
  {
   "cell_type": "code",
   "execution_count": 31,
   "metadata": {},
   "outputs": [],
   "source": [
    "XGB_model = XGBRegressor(learning_rate=0.3, max_depth=6, n_estimators=500)\n",
    "XGB_model.fit(x_s_train, y_s_train)\n",
    "y_XGB_predict = XGB_model.predict(x_s_val)"
   ]
  },
  {
   "cell_type": "code",
   "execution_count": 32,
   "metadata": {},
   "outputs": [
    {
     "data": {
      "text/plain": [
       "0.171100881231924"
      ]
     },
     "execution_count": 32,
     "metadata": {},
     "output_type": "execute_result"
    }
   ],
   "source": [
    "mean_squared_error(y_XGB_predict, y_s_val)"
   ]
  },
  {
   "cell_type": "code",
   "execution_count": 33,
   "metadata": {},
   "outputs": [
    {
     "data": {
      "text/plain": [
       "array([16.310707, 18.414347, 18.418999, 19.402185, 19.560858, 13.849648,\n",
       "       16.632502, 18.033276, 19.030632, 18.521885, 19.84083 , 21.435293,\n",
       "       21.13557 , 22.166647, 22.059439, 16.475061, 16.8193  , 15.8172  ,\n",
       "       16.223171, 16.546776, 14.71153 , 14.732451, 14.889422, 13.897188,\n",
       "       11.803713, 21.707321, 23.529276, 22.782612, 22.835949, 22.391802,\n",
       "       22.822538, 23.705297, 23.203386, 23.759031, 23.218279, 14.625119,\n",
       "       14.004339, 13.283588, 11.064463, 21.01227 , 21.298172, 21.039614,\n",
       "       21.570726, 20.755268, 18.728514, 19.185207, 18.714361, 20.063076,\n",
       "       19.697653, 23.439865, 22.734674, 21.431362, 22.006685, 20.989592,\n",
       "       18.438498, 19.297857, 19.244724, 20.035732, 19.438349, 16.42789 ,\n",
       "       17.42209 , 17.2213  , 17.0502  , 16.750021, 15.216626, 17.032782,\n",
       "       16.159264, 15.991626, 20.822563, 20.461645, 20.187824, 20.515354,\n",
       "       20.781752, 22.913118, 22.749744, 22.214422, 22.093842, 21.780527,\n",
       "       21.57746 , 22.162842, 21.850693, 21.657724, 21.71022 , 23.244875,\n",
       "       23.101578, 22.227165, 22.439186, 21.898544, 18.847925, 19.958382,\n",
       "       19.983274, 20.53829 , 20.685638, 22.474516, 23.500822, 23.355522,\n",
       "       23.891336, 23.830688, 21.769348, 22.072044, 21.31561 , 21.993805,\n",
       "       21.312607, 20.15584 , 20.275846, 19.221327, 19.604137, 18.884594,\n",
       "       16.337368, 17.740942, 17.070824, 17.95601 , 19.349426, 18.446241,\n",
       "       18.825092, 19.202982, 20.10192 , 19.963985, 20.2694  , 21.58969 ,\n",
       "       21.43589 , 22.202566, 22.226398, 20.40867 , 20.386   , 19.551508,\n",
       "       19.65054 , 18.428493, 21.828232, 21.945517, 21.287273, 21.588715,\n",
       "       20.939968, 17.199114, 17.680048, 17.163292, 17.798038, 18.649849,\n",
       "       18.333166, 17.86448 , 17.794525, 16.167774, 19.593307, 19.762455,\n",
       "       19.334196, 20.475185, 19.284298, 21.753195, 22.04091 , 21.749287,\n",
       "       21.973854, 21.156473, 16.775396, 18.444084, 18.832989, 18.986822,\n",
       "       19.333908, 21.289713, 22.700727, 22.702425, 23.041239, 22.482662,\n",
       "       23.83951 , 23.914843, 23.572422, 23.52092 , 23.426395, 23.911394,\n",
       "       23.833054, 23.330576, 23.590149, 23.027637, 22.5136  , 22.519796,\n",
       "       22.27651 , 21.92214 , 21.565529, 24.226223, 24.496851, 23.665773,\n",
       "       24.210936, 23.861393, 20.186026, 21.3025  , 20.546995, 20.958498,\n",
       "       20.035328, 21.155098, 21.82511 , 21.845901, 22.246666, 21.843328],\n",
       "      dtype=float32)"
      ]
     },
     "execution_count": 33,
     "metadata": {},
     "output_type": "execute_result"
    }
   ],
   "source": [
    "y_XGB_predict"
   ]
  },
  {
   "cell_type": "markdown",
   "metadata": {
    "colab_type": "text",
    "id": "i65pA5uEBFnQ"
   },
   "source": [
    "  ## 5. 모델 학습 및 검증\n",
    "## Model Tuning & Evaluation"
   ]
  },
  {
   "cell_type": "code",
   "execution_count": 177,
   "metadata": {
    "colab": {},
    "colab_type": "code",
    "id": "uSZF4S-OBFnR"
   },
   "outputs": [],
   "source": [
    "import lightgbm as lgb"
   ]
  },
  {
   "cell_type": "code",
   "execution_count": 185,
   "metadata": {},
   "outputs": [],
   "source": [
    "def rmsle_lgbm(y_pred, data):\n",
    "    y_true = np.array(data.get_label())\n",
    "    score = np.sqrt(np.mean(np.power(np.log1p(y_pred) - np.log1p(y_true), 2)))\n",
    "  \n",
    "    return 'rmsle', score, False"
   ]
  },
  {
   "cell_type": "code",
   "execution_count": 202,
   "metadata": {},
   "outputs": [],
   "source": [
    "params = {\n",
    "            'learning_rate' : 0.05,\n",
    "            'boosting_type': 'gbdt',\n",
    "            'objective': 'tweedie',\n",
    "            'tweedie_variance_power': 1.1,\n",
    "            'metric': 'rmse',\n",
    "            'sub_row' : 0.75,\n",
    "          # 'lambda_l1' : 0.1,\n",
    "            'lambda_l2' : 0.1,\n",
    "          # 'max_depth' : -1,\n",
    "          # 'bagging_freq' : 5,\n",
    "          # 'max_bin': 128\n",
    "        }"
   ]
  },
  {
   "cell_type": "code",
   "execution_count": 203,
   "metadata": {
    "colab": {},
    "colab_type": "code",
    "id": "A3G6bo7JBFnT"
   },
   "outputs": [],
   "source": [
    "# 서울\n",
    "categorical_features = list(df.dtypes[df.dtypes=='object'].index)\n",
    "train_s = lgb.Dataset(x_s_train, label=y_s_train, categorical_feature=categorical_features)\n",
    "val_s = lgb.Dataset(x_s_val, label=y_s_val)"
   ]
  },
  {
   "cell_type": "code",
   "execution_count": 204,
   "metadata": {},
   "outputs": [
    {
     "name": "stdout",
     "output_type": "stream",
     "text": [
      "Training until validation scores don't improve for 100 rounds\n",
      "[100]\tvalid_0's rmse: 0.581347\tvalid_0's rmsle: 0.0307954\n",
      "[200]\tvalid_0's rmse: 0.539808\tvalid_0's rmsle: 0.0287269\n",
      "[300]\tvalid_0's rmse: 0.535693\tvalid_0's rmsle: 0.028477\n",
      "[400]\tvalid_0's rmse: 0.535967\tvalid_0's rmsle: 0.0285085\n",
      "[500]\tvalid_0's rmse: 0.535819\tvalid_0's rmsle: 0.0284761\n",
      "Early stopping, best iteration is:\n",
      "[429]\tvalid_0's rmse: 0.534556\tvalid_0's rmsle: 0.0284377\n"
     ]
    }
   ],
   "source": [
    "model_s = lgb.train(params,\n",
    "                  train_s,\n",
    "                  20000,\n",
    "                  val_s,\n",
    "                  verbose_eval = 100,\n",
    "                  early_stopping_rounds = 100,\n",
    "                  feval=rmsle_lgbm\n",
    "                 )"
   ]
  },
  {
   "cell_type": "code",
   "execution_count": 205,
   "metadata": {},
   "outputs": [],
   "source": [
    "# 경기\n",
    "categorical_features = list(df.dtypes[df.dtypes=='object'].index)\n",
    "train_k = lgb.Dataset(x_k_train, label=y_k_train, categorical_feature=categorical_features)\n",
    "val_k = lgb.Dataset(x_k_val, label=y_k_val)"
   ]
  },
  {
   "cell_type": "code",
   "execution_count": 206,
   "metadata": {},
   "outputs": [
    {
     "name": "stdout",
     "output_type": "stream",
     "text": [
      "Training until validation scores don't improve for 100 rounds\n",
      "[100]\tvalid_0's rmse: 0.370306\tvalid_0's rmsle: 0.0215524\n",
      "[200]\tvalid_0's rmse: 0.363244\tvalid_0's rmsle: 0.0212331\n",
      "[300]\tvalid_0's rmse: 0.360985\tvalid_0's rmsle: 0.0212317\n",
      "Early stopping, best iteration is:\n",
      "[219]\tvalid_0's rmse: 0.361739\tvalid_0's rmsle: 0.0211595\n"
     ]
    }
   ],
   "source": [
    "model_k = lgb.train(params,\n",
    "                  train_k,\n",
    "                  20000,\n",
    "                  val_k,\n",
    "                  verbose_eval = 100,\n",
    "                  early_stopping_rounds = 100,\n",
    "                  feval=rmsle_lgbm\n",
    "                 )"
   ]
  },
  {
   "cell_type": "code",
   "execution_count": 207,
   "metadata": {},
   "outputs": [],
   "source": [
    "# 제주\n",
    "categorical_features = list(df.dtypes[df.dtypes=='object'].index)\n",
    "train_j = lgb.Dataset(x_j_train, label=y_j_train, categorical_feature=categorical_features)\n",
    "val_j = lgb.Dataset(x_j_val, label=y_j_val)"
   ]
  },
  {
   "cell_type": "code",
   "execution_count": 208,
   "metadata": {},
   "outputs": [
    {
     "name": "stdout",
     "output_type": "stream",
     "text": [
      "Training until validation scores don't improve for 100 rounds\n",
      "[100]\tvalid_0's rmse: 0.53614\tvalid_0's rmsle: 0.0311135\n",
      "[200]\tvalid_0's rmse: 0.470563\tvalid_0's rmsle: 0.028472\n",
      "[300]\tvalid_0's rmse: 0.444586\tvalid_0's rmsle: 0.0270741\n",
      "[400]\tvalid_0's rmse: 0.436168\tvalid_0's rmsle: 0.0265152\n",
      "[500]\tvalid_0's rmse: 0.431651\tvalid_0's rmsle: 0.0262495\n",
      "[600]\tvalid_0's rmse: 0.428663\tvalid_0's rmsle: 0.026081\n",
      "[700]\tvalid_0's rmse: 0.425419\tvalid_0's rmsle: 0.0258633\n",
      "[800]\tvalid_0's rmse: 0.42364\tvalid_0's rmsle: 0.0257863\n",
      "[900]\tvalid_0's rmse: 0.421449\tvalid_0's rmsle: 0.0256217\n",
      "[1000]\tvalid_0's rmse: 0.420491\tvalid_0's rmsle: 0.0255487\n",
      "[1100]\tvalid_0's rmse: 0.418918\tvalid_0's rmsle: 0.0254653\n",
      "[1200]\tvalid_0's rmse: 0.417848\tvalid_0's rmsle: 0.0253899\n",
      "[1300]\tvalid_0's rmse: 0.416861\tvalid_0's rmsle: 0.0253345\n",
      "[1400]\tvalid_0's rmse: 0.416766\tvalid_0's rmsle: 0.0253179\n",
      "[1500]\tvalid_0's rmse: 0.415616\tvalid_0's rmsle: 0.0252608\n",
      "[1600]\tvalid_0's rmse: 0.415911\tvalid_0's rmsle: 0.0252985\n",
      "Early stopping, best iteration is:\n",
      "[1511]\tvalid_0's rmse: 0.41537\tvalid_0's rmsle: 0.0252479\n"
     ]
    }
   ],
   "source": [
    "model_j = lgb.train(params,\n",
    "                  train_j,\n",
    "                  20000,\n",
    "                  val_j,\n",
    "                  verbose_eval = 100,\n",
    "                  early_stopping_rounds = 100,\n",
    "                  feval=rmsle_lgbm\n",
    "                 )"
   ]
  },
  {
   "cell_type": "code",
   "execution_count": 209,
   "metadata": {},
   "outputs": [],
   "source": [
    "# 그 외 지역\n",
    "categorical_features = list(df.dtypes[df.dtypes=='object'].index)\n",
    "train_oth = lgb.Dataset(x_oth_train, label=y_oth_train, categorical_feature=categorical_features)\n",
    "val_oth = lgb.Dataset(x_oth_val, label=y_oth_val)"
   ]
  },
  {
   "cell_type": "code",
   "execution_count": 210,
   "metadata": {
    "colab": {
     "base_uri": "https://localhost:8080/",
     "height": 269
    },
    "colab_type": "code",
    "id": "-1GekflSl_t6",
    "outputId": "759d4e3d-db56-4a25-af6d-bc4ba329e832",
    "scrolled": true
   },
   "outputs": [
    {
     "name": "stdout",
     "output_type": "stream",
     "text": [
      "Training until validation scores don't improve for 100 rounds\n",
      "[100]\tvalid_0's rmse: 0.413954\tvalid_0's rmsle: 0.0256424\n",
      "[200]\tvalid_0's rmse: 0.381746\tvalid_0's rmsle: 0.023897\n",
      "[300]\tvalid_0's rmse: 0.366914\tvalid_0's rmsle: 0.0231998\n",
      "[400]\tvalid_0's rmse: 0.364619\tvalid_0's rmsle: 0.0232819\n",
      "Early stopping, best iteration is:\n",
      "[333]\tvalid_0's rmse: 0.36533\tvalid_0's rmsle: 0.0231604\n"
     ]
    }
   ],
   "source": [
    "model_oth = lgb.train(params,\n",
    "                  train_oth,\n",
    "                  20000,\n",
    "                  val_oth,\n",
    "                  verbose_eval = 100,\n",
    "                  early_stopping_rounds = 100,\n",
    "                  feval=rmsle_lgbm\n",
    "                 )"
   ]
  },
  {
   "cell_type": "markdown",
   "metadata": {
    "colab_type": "text",
    "id": "UZyQNRrEBFnd"
   },
   "source": [
    "## 6. 결과 및 결언\n",
    "## Conclusion & Discussion"
   ]
  },
  {
   "cell_type": "code",
   "execution_count": 211,
   "metadata": {
    "colab": {
     "base_uri": "https://localhost:8080/",
     "height": 71
    },
    "colab_type": "code",
    "id": "PA5YbRf0BEKA",
    "outputId": "ff45557a-19e9-41fb-cc43-8263416eac03"
   },
   "outputs": [
    {
     "data": {
      "text/plain": [
       "Index(['CARD_SIDO_NM', 'STD_CLSS_NM', 'FLC', 'year', 'month', 'CV', 'std_cnt',\n",
       "       'regular_power', 'Season'],\n",
       "      dtype='object')"
      ]
     },
     "execution_count": 211,
     "metadata": {},
     "output_type": "execute_result"
    }
   ],
   "source": [
    "x.columns"
   ]
  },
  {
   "cell_type": "code",
   "execution_count": 222,
   "metadata": {
    "colab": {},
    "colab_type": "code",
    "id": "BQD-71hMUBVV"
   },
   "outputs": [],
   "source": [
    "# 예측 템플릿 만들기\n",
    "CARD_SIDO_NMs = df_num['CARD_SIDO_NM'].unique()\n",
    "STD_CLSS_NMs  = df_num['STD_CLSS_NM'].unique()\n",
    "FLCs          = df_num['FLC'].unique()\n",
    "CVs           = [3]\n",
    "Seasons       = df_num['Season'].unique()\n",
    "years         = [2020]\n",
    "months        = [3, 6]\n",
    "\n",
    "temp = []\n",
    "from itertools import product\n",
    "comb_list = [CARD_SIDO_NMs, STD_CLSS_NMs, FLCs, years, months, CVs, Seasons]\n",
    "temp = np.array(list(product(*comb_list)))\n",
    "temp = pd.DataFrame(data=temp, columns=x.columns[:7])"
   ]
  },
  {
   "cell_type": "code",
   "execution_count": 223,
   "metadata": {},
   "outputs": [],
   "source": [
    "temp.drop(['std_cnt'], axis=1, inplace=True)"
   ]
  },
  {
   "cell_type": "code",
   "execution_count": 224,
   "metadata": {},
   "outputs": [
    {
     "data": {
      "text/html": [
       "<div>\n",
       "<style scoped>\n",
       "    .dataframe tbody tr th:only-of-type {\n",
       "        vertical-align: middle;\n",
       "    }\n",
       "\n",
       "    .dataframe tbody tr th {\n",
       "        vertical-align: top;\n",
       "    }\n",
       "\n",
       "    .dataframe thead th {\n",
       "        text-align: right;\n",
       "    }\n",
       "</style>\n",
       "<table border=\"1\" class=\"dataframe\">\n",
       "  <thead>\n",
       "    <tr style=\"text-align: right;\">\n",
       "      <th></th>\n",
       "      <th>CARD_SIDO_NM</th>\n",
       "      <th>STD_CLSS_NM</th>\n",
       "      <th>FLC</th>\n",
       "      <th>month</th>\n",
       "      <th>std_cnt</th>\n",
       "      <th>regular_power</th>\n",
       "    </tr>\n",
       "  </thead>\n",
       "  <tbody>\n",
       "    <tr>\n",
       "      <th>0</th>\n",
       "      <td>0</td>\n",
       "      <td>0</td>\n",
       "      <td>0</td>\n",
       "      <td>3</td>\n",
       "      <td>1</td>\n",
       "      <td>1</td>\n",
       "    </tr>\n",
       "    <tr>\n",
       "      <th>1</th>\n",
       "      <td>0</td>\n",
       "      <td>0</td>\n",
       "      <td>0</td>\n",
       "      <td>6</td>\n",
       "      <td>3</td>\n",
       "      <td>1</td>\n",
       "    </tr>\n",
       "    <tr>\n",
       "      <th>2</th>\n",
       "      <td>0</td>\n",
       "      <td>0</td>\n",
       "      <td>1</td>\n",
       "      <td>3</td>\n",
       "      <td>9</td>\n",
       "      <td>1</td>\n",
       "    </tr>\n",
       "    <tr>\n",
       "      <th>3</th>\n",
       "      <td>0</td>\n",
       "      <td>0</td>\n",
       "      <td>1</td>\n",
       "      <td>6</td>\n",
       "      <td>8</td>\n",
       "      <td>1</td>\n",
       "    </tr>\n",
       "    <tr>\n",
       "      <th>4</th>\n",
       "      <td>0</td>\n",
       "      <td>0</td>\n",
       "      <td>2</td>\n",
       "      <td>3</td>\n",
       "      <td>8</td>\n",
       "      <td>1</td>\n",
       "    </tr>\n",
       "  </tbody>\n",
       "</table>\n",
       "</div>"
      ],
      "text/plain": [
       "   CARD_SIDO_NM  STD_CLSS_NM  FLC  month  std_cnt  regular_power\n",
       "0             0            0    0      3        1              1\n",
       "1             0            0    0      6        3              1\n",
       "2             0            0    1      3        9              1\n",
       "3             0            0    1      6        8              1\n",
       "4             0            0    2      3        8              1"
      ]
     },
     "execution_count": 224,
     "metadata": {},
     "output_type": "execute_result"
    }
   ],
   "source": [
    "# 7월은 // 2하면 안됨. 수정 필요\n",
    "import math\n",
    "\n",
    "tmp = df_num.groupby(['CARD_SIDO_NM', 'STD_CLSS_NM', 'FLC', 'month'])[['CSTMR_CNT', 'CNT', 'std_cnt']].sum().reset_index(drop=False)\n",
    "tmp['regular_power'] = tmp.apply(lambda x : math.ceil(regular(x['CSTMR_CNT'], x['CNT'])/2), axis=1)\n",
    "tmp['std_cnt'] = tmp['std_cnt'] // 2 + 1\n",
    "tmp = tmp[tmp['month'].isin(months)].reset_index(drop=True)\n",
    "tmp.drop(['CSTMR_CNT', 'CNT'], axis=1, inplace=True)\n",
    "tmp.head()"
   ]
  },
  {
   "cell_type": "code",
   "execution_count": 225,
   "metadata": {},
   "outputs": [],
   "source": [
    "temp = temp.merge(tmp, on=['CARD_SIDO_NM', 'STD_CLSS_NM', 'FLC', 'month'], how='left')\n",
    "temp.fillna(1.0, inplace=True)"
   ]
  },
  {
   "cell_type": "code",
   "execution_count": 228,
   "metadata": {},
   "outputs": [
    {
     "data": {
      "text/html": [
       "<div>\n",
       "<style scoped>\n",
       "    .dataframe tbody tr th:only-of-type {\n",
       "        vertical-align: middle;\n",
       "    }\n",
       "\n",
       "    .dataframe tbody tr th {\n",
       "        vertical-align: top;\n",
       "    }\n",
       "\n",
       "    .dataframe thead th {\n",
       "        text-align: right;\n",
       "    }\n",
       "</style>\n",
       "<table border=\"1\" class=\"dataframe\">\n",
       "  <thead>\n",
       "    <tr style=\"text-align: right;\">\n",
       "      <th></th>\n",
       "      <th>CARD_SIDO_NM</th>\n",
       "      <th>STD_CLSS_NM</th>\n",
       "      <th>FLC</th>\n",
       "      <th>year</th>\n",
       "      <th>month</th>\n",
       "      <th>CV</th>\n",
       "      <th>std_cnt</th>\n",
       "      <th>regular_power</th>\n",
       "    </tr>\n",
       "  </thead>\n",
       "  <tbody>\n",
       "    <tr>\n",
       "      <th>0</th>\n",
       "      <td>0</td>\n",
       "      <td>0</td>\n",
       "      <td>0</td>\n",
       "      <td>2020</td>\n",
       "      <td>3</td>\n",
       "      <td>3</td>\n",
       "      <td>1.0</td>\n",
       "      <td>1.0</td>\n",
       "    </tr>\n",
       "    <tr>\n",
       "      <th>1</th>\n",
       "      <td>0</td>\n",
       "      <td>0</td>\n",
       "      <td>0</td>\n",
       "      <td>2020</td>\n",
       "      <td>3</td>\n",
       "      <td>3</td>\n",
       "      <td>1.0</td>\n",
       "      <td>1.0</td>\n",
       "    </tr>\n",
       "    <tr>\n",
       "      <th>2</th>\n",
       "      <td>0</td>\n",
       "      <td>0</td>\n",
       "      <td>0</td>\n",
       "      <td>2020</td>\n",
       "      <td>3</td>\n",
       "      <td>3</td>\n",
       "      <td>1.0</td>\n",
       "      <td>1.0</td>\n",
       "    </tr>\n",
       "    <tr>\n",
       "      <th>3</th>\n",
       "      <td>0</td>\n",
       "      <td>0</td>\n",
       "      <td>0</td>\n",
       "      <td>2020</td>\n",
       "      <td>3</td>\n",
       "      <td>3</td>\n",
       "      <td>1.0</td>\n",
       "      <td>1.0</td>\n",
       "    </tr>\n",
       "    <tr>\n",
       "      <th>4</th>\n",
       "      <td>0</td>\n",
       "      <td>0</td>\n",
       "      <td>0</td>\n",
       "      <td>2020</td>\n",
       "      <td>6</td>\n",
       "      <td>3</td>\n",
       "      <td>3.0</td>\n",
       "      <td>1.0</td>\n",
       "    </tr>\n",
       "    <tr>\n",
       "      <th>...</th>\n",
       "      <td>...</td>\n",
       "      <td>...</td>\n",
       "      <td>...</td>\n",
       "      <td>...</td>\n",
       "      <td>...</td>\n",
       "      <td>...</td>\n",
       "      <td>...</td>\n",
       "      <td>...</td>\n",
       "    </tr>\n",
       "    <tr>\n",
       "      <th>27875</th>\n",
       "      <td>16</td>\n",
       "      <td>30</td>\n",
       "      <td>4</td>\n",
       "      <td>2020</td>\n",
       "      <td>3</td>\n",
       "      <td>3</td>\n",
       "      <td>1.0</td>\n",
       "      <td>1.0</td>\n",
       "    </tr>\n",
       "    <tr>\n",
       "      <th>27876</th>\n",
       "      <td>16</td>\n",
       "      <td>30</td>\n",
       "      <td>4</td>\n",
       "      <td>2020</td>\n",
       "      <td>6</td>\n",
       "      <td>3</td>\n",
       "      <td>1.0</td>\n",
       "      <td>1.0</td>\n",
       "    </tr>\n",
       "    <tr>\n",
       "      <th>27877</th>\n",
       "      <td>16</td>\n",
       "      <td>30</td>\n",
       "      <td>4</td>\n",
       "      <td>2020</td>\n",
       "      <td>6</td>\n",
       "      <td>3</td>\n",
       "      <td>1.0</td>\n",
       "      <td>1.0</td>\n",
       "    </tr>\n",
       "    <tr>\n",
       "      <th>27878</th>\n",
       "      <td>16</td>\n",
       "      <td>30</td>\n",
       "      <td>4</td>\n",
       "      <td>2020</td>\n",
       "      <td>6</td>\n",
       "      <td>3</td>\n",
       "      <td>1.0</td>\n",
       "      <td>1.0</td>\n",
       "    </tr>\n",
       "    <tr>\n",
       "      <th>27879</th>\n",
       "      <td>16</td>\n",
       "      <td>30</td>\n",
       "      <td>4</td>\n",
       "      <td>2020</td>\n",
       "      <td>6</td>\n",
       "      <td>3</td>\n",
       "      <td>1.0</td>\n",
       "      <td>1.0</td>\n",
       "    </tr>\n",
       "  </tbody>\n",
       "</table>\n",
       "<p>27880 rows × 8 columns</p>\n",
       "</div>"
      ],
      "text/plain": [
       "       CARD_SIDO_NM  STD_CLSS_NM  FLC  year  month  CV  std_cnt  regular_power\n",
       "0                 0            0    0  2020      3   3      1.0            1.0\n",
       "1                 0            0    0  2020      3   3      1.0            1.0\n",
       "2                 0            0    0  2020      3   3      1.0            1.0\n",
       "3                 0            0    0  2020      3   3      1.0            1.0\n",
       "4                 0            0    0  2020      6   3      3.0            1.0\n",
       "...             ...          ...  ...   ...    ...  ..      ...            ...\n",
       "27875            16           30    4  2020      3   3      1.0            1.0\n",
       "27876            16           30    4  2020      6   3      1.0            1.0\n",
       "27877            16           30    4  2020      6   3      1.0            1.0\n",
       "27878            16           30    4  2020      6   3      1.0            1.0\n",
       "27879            16           30    4  2020      6   3      1.0            1.0\n",
       "\n",
       "[27880 rows x 8 columns]"
      ]
     },
     "execution_count": 228,
     "metadata": {},
     "output_type": "execute_result"
    }
   ],
   "source": [
    "temp"
   ]
  },
  {
   "cell_type": "code",
   "execution_count": 229,
   "metadata": {},
   "outputs": [
    {
     "data": {
      "text/plain": [
       "array(['강원', '경기', '경남', '경북', '광주', '대구', '대전', '부산', '서울', '세종', '울산',\n",
       "       '인천', '전남', '전북', '제주', '충남', '충북'], dtype=object)"
      ]
     },
     "execution_count": 229,
     "metadata": {},
     "output_type": "execute_result"
    }
   ],
   "source": [
    "df.CARD_SIDO_NM.unique()"
   ]
  },
  {
   "cell_type": "code",
   "execution_count": 230,
   "metadata": {},
   "outputs": [],
   "source": [
    "# 예측\n",
    "pred_s = model_s.predict(temp[temp['CARD_SIDO_NM'] == 8])\n",
    "pred_s = np.expm1(pred_s)\n",
    "\n",
    "pred_k = model_k.predict(temp[temp['CARD_SIDO_NM'] == 1])\n",
    "pred_k = np.expm1(pred_k)\n",
    "\n",
    "pred_j = model_j.predict(temp[temp['CARD_SIDO_NM'] == 14])\n",
    "pred_j = np.expm1(pred_j)\n",
    "\n",
    "pred_oth = model_oth.predict(temp[~temp['CARD_SIDO_NM'].isin([1,8,14])])\n",
    "pred_oth = np.expm1(pred_oth)"
   ]
  },
  {
   "cell_type": "code",
   "execution_count": 231,
   "metadata": {},
   "outputs": [],
   "source": [
    "# 디코딩\n",
    "temp.loc[temp['CARD_SIDO_NM'] == 8, 'AMT'] = np.round(pred_s, 0)\n",
    "temp.loc[temp['CARD_SIDO_NM'] == 1, 'AMT'] = np.round(pred_k, 0)\n",
    "temp.loc[temp['CARD_SIDO_NM'] == 14, 'AMT'] = np.round(pred_j, 0)\n",
    "temp.loc[~temp['CARD_SIDO_NM'].isin([1,8,14]), 'AMT'] = np.round(pred_oth, 0)\n",
    "\n",
    "temp['REG_YYMM'] = temp['year']*100 + temp['month'] + 1\n",
    "temp = temp.groupby(['REG_YYMM', 'CARD_SIDO_NM', 'STD_CLSS_NM'])['AMT'].sum().reset_index(drop=False)\n",
    "temp['CARD_SIDO_NM'] = encoders['CARD_SIDO_NM'].inverse_transform(temp['CARD_SIDO_NM'])\n",
    "temp['STD_CLSS_NM'] = encoders['STD_CLSS_NM'].inverse_transform(temp['STD_CLSS_NM'])"
   ]
  },
  {
   "cell_type": "code",
   "execution_count": 232,
   "metadata": {},
   "outputs": [
    {
     "data": {
      "text/html": [
       "<div>\n",
       "<style scoped>\n",
       "    .dataframe tbody tr th:only-of-type {\n",
       "        vertical-align: middle;\n",
       "    }\n",
       "\n",
       "    .dataframe tbody tr th {\n",
       "        vertical-align: top;\n",
       "    }\n",
       "\n",
       "    .dataframe thead th {\n",
       "        text-align: right;\n",
       "    }\n",
       "</style>\n",
       "<table border=\"1\" class=\"dataframe\">\n",
       "  <thead>\n",
       "    <tr style=\"text-align: right;\">\n",
       "      <th></th>\n",
       "      <th>REG_YYMM</th>\n",
       "      <th>CARD_SIDO_NM</th>\n",
       "      <th>STD_CLSS_NM</th>\n",
       "      <th>AMT</th>\n",
       "    </tr>\n",
       "  </thead>\n",
       "  <tbody>\n",
       "    <tr>\n",
       "      <th>0</th>\n",
       "      <td>202004</td>\n",
       "      <td>강원</td>\n",
       "      <td>건강보조식품 소매업</td>\n",
       "      <td>2.139321e+08</td>\n",
       "    </tr>\n",
       "    <tr>\n",
       "      <th>1</th>\n",
       "      <td>202004</td>\n",
       "      <td>강원</td>\n",
       "      <td>골프장 운영업</td>\n",
       "      <td>3.432951e+09</td>\n",
       "    </tr>\n",
       "    <tr>\n",
       "      <th>2</th>\n",
       "      <td>202004</td>\n",
       "      <td>강원</td>\n",
       "      <td>과실 및 채소 소매업</td>\n",
       "      <td>2.099542e+09</td>\n",
       "    </tr>\n",
       "    <tr>\n",
       "      <th>3</th>\n",
       "      <td>202004</td>\n",
       "      <td>강원</td>\n",
       "      <td>관광 민예품 및 선물용품 소매업</td>\n",
       "      <td>2.822536e+07</td>\n",
       "    </tr>\n",
       "    <tr>\n",
       "      <th>4</th>\n",
       "      <td>202004</td>\n",
       "      <td>강원</td>\n",
       "      <td>그외 기타 분류안된 오락관련 서비스업</td>\n",
       "      <td>2.492472e+06</td>\n",
       "    </tr>\n",
       "    <tr>\n",
       "      <th>...</th>\n",
       "      <td>...</td>\n",
       "      <td>...</td>\n",
       "      <td>...</td>\n",
       "      <td>...</td>\n",
       "    </tr>\n",
       "    <tr>\n",
       "      <th>1389</th>\n",
       "      <td>202007</td>\n",
       "      <td>충북</td>\n",
       "      <td>피자 햄버거 샌드위치 및 유사 음식점업</td>\n",
       "      <td>2.981553e+09</td>\n",
       "    </tr>\n",
       "    <tr>\n",
       "      <th>1390</th>\n",
       "      <td>202007</td>\n",
       "      <td>충북</td>\n",
       "      <td>한식 음식점업</td>\n",
       "      <td>5.796735e+10</td>\n",
       "    </tr>\n",
       "    <tr>\n",
       "      <th>1391</th>\n",
       "      <td>202007</td>\n",
       "      <td>충북</td>\n",
       "      <td>호텔업</td>\n",
       "      <td>5.042792e+07</td>\n",
       "    </tr>\n",
       "    <tr>\n",
       "      <th>1392</th>\n",
       "      <td>202007</td>\n",
       "      <td>충북</td>\n",
       "      <td>화장품 및 방향제 소매업</td>\n",
       "      <td>1.201859e+09</td>\n",
       "    </tr>\n",
       "    <tr>\n",
       "      <th>1393</th>\n",
       "      <td>202007</td>\n",
       "      <td>충북</td>\n",
       "      <td>휴양콘도 운영업</td>\n",
       "      <td>2.738536e+08</td>\n",
       "    </tr>\n",
       "  </tbody>\n",
       "</table>\n",
       "<p>1394 rows × 4 columns</p>\n",
       "</div>"
      ],
      "text/plain": [
       "      REG_YYMM CARD_SIDO_NM            STD_CLSS_NM           AMT\n",
       "0       202004           강원             건강보조식품 소매업  2.139321e+08\n",
       "1       202004           강원                골프장 운영업  3.432951e+09\n",
       "2       202004           강원            과실 및 채소 소매업  2.099542e+09\n",
       "3       202004           강원      관광 민예품 및 선물용품 소매업  2.822536e+07\n",
       "4       202004           강원   그외 기타 분류안된 오락관련 서비스업  2.492472e+06\n",
       "...        ...          ...                    ...           ...\n",
       "1389    202007           충북  피자 햄버거 샌드위치 및 유사 음식점업  2.981553e+09\n",
       "1390    202007           충북                한식 음식점업  5.796735e+10\n",
       "1391    202007           충북                    호텔업  5.042792e+07\n",
       "1392    202007           충북          화장품 및 방향제 소매업  1.201859e+09\n",
       "1393    202007           충북               휴양콘도 운영업  2.738536e+08\n",
       "\n",
       "[1394 rows x 4 columns]"
      ]
     },
     "execution_count": 232,
     "metadata": {},
     "output_type": "execute_result"
    }
   ],
   "source": [
    "temp"
   ]
  },
  {
   "cell_type": "code",
   "execution_count": 233,
   "metadata": {},
   "outputs": [],
   "source": [
    "# 2020년 3월 기준 특정 업종이 없는 지역\n",
    "sido = df['CARD_SIDO_NM'].unique()\n",
    "std = df['STD_CLSS_NM'].unique()\n",
    "\n",
    "tmp = df[(df['month'] == 3) & (df['year'] == 2020)]\n",
    "tmp = tmp[['CARD_SIDO_NM', 'STD_CLSS_NM']]\n",
    "tmp = tmp.drop_duplicates(['CARD_SIDO_NM', 'STD_CLSS_NM'], keep='first').reset_index(drop=True)\n",
    "\n",
    "d = {}\n",
    "\n",
    "for s in sido:\n",
    "    d[s] = []\n",
    "    for c in std:\n",
    "        d[s].append(c)\n",
    "\n",
    "for i in tmp.index:\n",
    "    d[tmp.loc[i, 'CARD_SIDO_NM']].remove(tmp.loc[i, 'STD_CLSS_NM'])"
   ]
  },
  {
   "cell_type": "code",
   "execution_count": 234,
   "metadata": {},
   "outputs": [],
   "source": [
    "for i in temp.index:\n",
    "    for k, v in d.items():\n",
    "        if k == temp.loc[i, 'CARD_SIDO_NM']:\n",
    "            if temp.loc[i, 'STD_CLSS_NM'] in v:\n",
    "                temp.loc[i, 'AMT'] = 0"
   ]
  },
  {
   "cell_type": "code",
   "execution_count": 237,
   "metadata": {},
   "outputs": [],
   "source": [
    "# 제출 파일 만들기\n",
    "submission = pd.read_csv('../data/jeju_data_ver1/submission.csv', index_col=0)\n",
    "submission = submission.drop(['AMT'], axis=1)\n",
    "submission = submission.merge(temp, left_on=['REG_YYMM', 'CARD_SIDO_NM', 'STD_CLSS_NM'], right_on=['REG_YYMM', 'CARD_SIDO_NM', 'STD_CLSS_NM'], how='left')\n",
    "submission.index.name = 'id'"
   ]
  },
  {
   "cell_type": "code",
   "execution_count": 238,
   "metadata": {},
   "outputs": [
    {
     "data": {
      "text/html": [
       "<div>\n",
       "<style scoped>\n",
       "    .dataframe tbody tr th:only-of-type {\n",
       "        vertical-align: middle;\n",
       "    }\n",
       "\n",
       "    .dataframe tbody tr th {\n",
       "        vertical-align: top;\n",
       "    }\n",
       "\n",
       "    .dataframe thead th {\n",
       "        text-align: right;\n",
       "    }\n",
       "</style>\n",
       "<table border=\"1\" class=\"dataframe\">\n",
       "  <thead>\n",
       "    <tr style=\"text-align: right;\">\n",
       "      <th></th>\n",
       "      <th>REG_YYMM</th>\n",
       "      <th>CARD_SIDO_NM</th>\n",
       "      <th>STD_CLSS_NM</th>\n",
       "      <th>AMT</th>\n",
       "    </tr>\n",
       "    <tr>\n",
       "      <th>id</th>\n",
       "      <th></th>\n",
       "      <th></th>\n",
       "      <th></th>\n",
       "      <th></th>\n",
       "    </tr>\n",
       "  </thead>\n",
       "  <tbody>\n",
       "    <tr>\n",
       "      <th>0</th>\n",
       "      <td>202004</td>\n",
       "      <td>강원</td>\n",
       "      <td>건강보조식품 소매업</td>\n",
       "      <td>2.139321e+08</td>\n",
       "    </tr>\n",
       "    <tr>\n",
       "      <th>1</th>\n",
       "      <td>202004</td>\n",
       "      <td>강원</td>\n",
       "      <td>골프장 운영업</td>\n",
       "      <td>3.432951e+09</td>\n",
       "    </tr>\n",
       "    <tr>\n",
       "      <th>2</th>\n",
       "      <td>202004</td>\n",
       "      <td>강원</td>\n",
       "      <td>과실 및 채소 소매업</td>\n",
       "      <td>2.099542e+09</td>\n",
       "    </tr>\n",
       "    <tr>\n",
       "      <th>3</th>\n",
       "      <td>202004</td>\n",
       "      <td>강원</td>\n",
       "      <td>관광 민예품 및 선물용품 소매업</td>\n",
       "      <td>2.822536e+07</td>\n",
       "    </tr>\n",
       "    <tr>\n",
       "      <th>4</th>\n",
       "      <td>202004</td>\n",
       "      <td>강원</td>\n",
       "      <td>그외 기타 분류안된 오락관련 서비스업</td>\n",
       "      <td>0.000000e+00</td>\n",
       "    </tr>\n",
       "    <tr>\n",
       "      <th>...</th>\n",
       "      <td>...</td>\n",
       "      <td>...</td>\n",
       "      <td>...</td>\n",
       "      <td>...</td>\n",
       "    </tr>\n",
       "    <tr>\n",
       "      <th>1389</th>\n",
       "      <td>202007</td>\n",
       "      <td>충북</td>\n",
       "      <td>피자 햄버거 샌드위치 및 유사 음식점업</td>\n",
       "      <td>2.981553e+09</td>\n",
       "    </tr>\n",
       "    <tr>\n",
       "      <th>1390</th>\n",
       "      <td>202007</td>\n",
       "      <td>충북</td>\n",
       "      <td>한식 음식점업</td>\n",
       "      <td>5.796735e+10</td>\n",
       "    </tr>\n",
       "    <tr>\n",
       "      <th>1391</th>\n",
       "      <td>202007</td>\n",
       "      <td>충북</td>\n",
       "      <td>호텔업</td>\n",
       "      <td>5.042792e+07</td>\n",
       "    </tr>\n",
       "    <tr>\n",
       "      <th>1392</th>\n",
       "      <td>202007</td>\n",
       "      <td>충북</td>\n",
       "      <td>화장품 및 방향제 소매업</td>\n",
       "      <td>1.201859e+09</td>\n",
       "    </tr>\n",
       "    <tr>\n",
       "      <th>1393</th>\n",
       "      <td>202007</td>\n",
       "      <td>충북</td>\n",
       "      <td>휴양콘도 운영업</td>\n",
       "      <td>2.738536e+08</td>\n",
       "    </tr>\n",
       "  </tbody>\n",
       "</table>\n",
       "<p>1394 rows × 4 columns</p>\n",
       "</div>"
      ],
      "text/plain": [
       "      REG_YYMM CARD_SIDO_NM            STD_CLSS_NM           AMT\n",
       "id                                                              \n",
       "0       202004           강원             건강보조식품 소매업  2.139321e+08\n",
       "1       202004           강원                골프장 운영업  3.432951e+09\n",
       "2       202004           강원            과실 및 채소 소매업  2.099542e+09\n",
       "3       202004           강원      관광 민예품 및 선물용품 소매업  2.822536e+07\n",
       "4       202004           강원   그외 기타 분류안된 오락관련 서비스업  0.000000e+00\n",
       "...        ...          ...                    ...           ...\n",
       "1389    202007           충북  피자 햄버거 샌드위치 및 유사 음식점업  2.981553e+09\n",
       "1390    202007           충북                한식 음식점업  5.796735e+10\n",
       "1391    202007           충북                    호텔업  5.042792e+07\n",
       "1392    202007           충북          화장품 및 방향제 소매업  1.201859e+09\n",
       "1393    202007           충북               휴양콘도 운영업  2.738536e+08\n",
       "\n",
       "[1394 rows x 4 columns]"
      ]
     },
     "execution_count": 238,
     "metadata": {},
     "output_type": "execute_result"
    }
   ],
   "source": [
    "submission"
   ]
  },
  {
   "cell_type": "code",
   "execution_count": 239,
   "metadata": {},
   "outputs": [
    {
     "data": {
      "text/html": [
       "<div>\n",
       "<style scoped>\n",
       "    .dataframe tbody tr th:only-of-type {\n",
       "        vertical-align: middle;\n",
       "    }\n",
       "\n",
       "    .dataframe tbody tr th {\n",
       "        vertical-align: top;\n",
       "    }\n",
       "\n",
       "    .dataframe thead th {\n",
       "        text-align: right;\n",
       "    }\n",
       "</style>\n",
       "<table border=\"1\" class=\"dataframe\">\n",
       "  <thead>\n",
       "    <tr style=\"text-align: right;\">\n",
       "      <th></th>\n",
       "      <th>REG_YYMM</th>\n",
       "      <th>CARD_SIDO_NM</th>\n",
       "      <th>STD_CLSS_NM</th>\n",
       "      <th>AMT</th>\n",
       "    </tr>\n",
       "    <tr>\n",
       "      <th>id</th>\n",
       "      <th></th>\n",
       "      <th></th>\n",
       "      <th></th>\n",
       "      <th></th>\n",
       "    </tr>\n",
       "  </thead>\n",
       "  <tbody>\n",
       "    <tr>\n",
       "      <th>0</th>\n",
       "      <td>202004</td>\n",
       "      <td>강원</td>\n",
       "      <td>건강보조식품 소매업</td>\n",
       "      <td>2.139321e+08</td>\n",
       "    </tr>\n",
       "    <tr>\n",
       "      <th>1</th>\n",
       "      <td>202004</td>\n",
       "      <td>강원</td>\n",
       "      <td>골프장 운영업</td>\n",
       "      <td>3.432951e+09</td>\n",
       "    </tr>\n",
       "    <tr>\n",
       "      <th>2</th>\n",
       "      <td>202004</td>\n",
       "      <td>강원</td>\n",
       "      <td>과실 및 채소 소매업</td>\n",
       "      <td>2.099542e+09</td>\n",
       "    </tr>\n",
       "    <tr>\n",
       "      <th>3</th>\n",
       "      <td>202004</td>\n",
       "      <td>강원</td>\n",
       "      <td>관광 민예품 및 선물용품 소매업</td>\n",
       "      <td>2.822536e+07</td>\n",
       "    </tr>\n",
       "    <tr>\n",
       "      <th>4</th>\n",
       "      <td>202004</td>\n",
       "      <td>강원</td>\n",
       "      <td>그외 기타 분류안된 오락관련 서비스업</td>\n",
       "      <td>0.000000e+00</td>\n",
       "    </tr>\n",
       "  </tbody>\n",
       "</table>\n",
       "</div>"
      ],
      "text/plain": [
       "    REG_YYMM CARD_SIDO_NM           STD_CLSS_NM           AMT\n",
       "id                                                           \n",
       "0     202004           강원            건강보조식품 소매업  2.139321e+08\n",
       "1     202004           강원               골프장 운영업  3.432951e+09\n",
       "2     202004           강원           과실 및 채소 소매업  2.099542e+09\n",
       "3     202004           강원     관광 민예품 및 선물용품 소매업  2.822536e+07\n",
       "4     202004           강원  그외 기타 분류안된 오락관련 서비스업  0.000000e+00"
      ]
     },
     "execution_count": 239,
     "metadata": {},
     "output_type": "execute_result"
    }
   ],
   "source": [
    "submission.to_csv('submission.csv', encoding='utf-8-sig')\n",
    "submission.head()"
   ]
  },
  {
   "cell_type": "code",
   "execution_count": null,
   "metadata": {},
   "outputs": [],
   "source": []
  }
 ],
 "metadata": {
  "kernelspec": {
   "display_name": "Python 3",
   "language": "python",
   "name": "python3"
  },
  "language_info": {
   "codemirror_mode": {
    "name": "ipython",
    "version": 3
   },
   "file_extension": ".py",
   "mimetype": "text/x-python",
   "name": "python",
   "nbconvert_exporter": "python",
   "pygments_lexer": "ipython3",
   "version": "3.7.3"
  }
 },
 "nbformat": 4,
 "nbformat_minor": 4
}
