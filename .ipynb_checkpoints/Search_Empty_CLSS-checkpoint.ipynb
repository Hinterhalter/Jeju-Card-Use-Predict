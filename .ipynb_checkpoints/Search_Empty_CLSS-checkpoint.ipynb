{
 "cells": [
  {
   "cell_type": "code",
   "execution_count": 3,
   "metadata": {},
   "outputs": [],
   "source": [
    "import pandas as pd\n",
    "from tqdm import tqdm"
   ]
  },
  {
   "cell_type": "code",
   "execution_count": 2,
   "metadata": {},
   "outputs": [],
   "source": [
    "df_raw = pd.read_csv('./data/jeju_data_ver1/201901-202003.csv')"
   ]
  },
  {
   "cell_type": "code",
   "execution_count": 5,
   "metadata": {},
   "outputs": [],
   "source": [
    "df=df_raw"
   ]
  },
  {
   "cell_type": "code",
   "execution_count": 6,
   "metadata": {},
   "outputs": [
    {
     "data": {
      "text/plain": [
       "Index(['REG_YYMM', 'CARD_SIDO_NM', 'CARD_CCG_NM', 'STD_CLSS_NM', 'HOM_SIDO_NM',\n",
       "       'HOM_CCG_NM', 'AGE', 'SEX_CTGO_CD', 'FLC', 'CSTMR_CNT', 'AMT', 'CNT'],\n",
       "      dtype='object')"
      ]
     },
     "execution_count": 6,
     "metadata": {},
     "output_type": "execute_result"
    }
   ],
   "source": [
    "df.columns"
   ]
  },
  {
   "cell_type": "code",
   "execution_count": 36,
   "metadata": {},
   "outputs": [],
   "source": [
    "df1 = df.groupby(['REG_YYMM', 'CARD_SIDO_NM', 'STD_CLSS_NM'])['AMT'].sum().reset_index()"
   ]
  },
  {
   "cell_type": "code",
   "execution_count": 11,
   "metadata": {},
   "outputs": [],
   "source": [
    "sido_list = list(df_raw['CARD_SIDO_NM'].unique())\n",
    "clss_list = list(df_raw['STD_CLSS_NM'].unique())"
   ]
  },
  {
   "cell_type": "code",
   "execution_count": 19,
   "metadata": {
    "collapsed": true,
    "jupyter": {
     "outputs_hidden": true
    }
   },
   "outputs": [
    {
     "data": {
      "text/plain": [
       "{'과실 및 채소 소매업',\n",
       " '관광 민예품 및 선물용품 소매업',\n",
       " '그외 기타 분류안된 오락관련 서비스업',\n",
       " '그외 기타 스포츠시설 운영업',\n",
       " '그외 기타 종합 소매업',\n",
       " '기타 대형 종합 소매업',\n",
       " '기타 수상오락 서비스업',\n",
       " '기타 외국식 음식점업',\n",
       " '기타 주점업',\n",
       " '기타음식료품위주종합소매업',\n",
       " '내항 여객 운송업',\n",
       " '마사지업',\n",
       " '면세점',\n",
       " '버스 운송업',\n",
       " '비알콜 음료점업',\n",
       " '빵 및 과자류 소매업',\n",
       " '서양식 음식점업',\n",
       " '수산물 소매업',\n",
       " '슈퍼마켓',\n",
       " '스포츠 및 레크레이션 용품 임대업',\n",
       " '여관업',\n",
       " '여행사업',\n",
       " '욕탕업',\n",
       " '육류 소매업',\n",
       " '일반유흥 주점업',\n",
       " '일식 음식점업',\n",
       " '자동차 임대업',\n",
       " '전시 및 행사 대행업',\n",
       " '정기 항공 운송업',\n",
       " '중식 음식점업',\n",
       " '차량용 가스 충전업',\n",
       " '차량용 주유소 운영업',\n",
       " '체인화 편의점',\n",
       " '택시 운송업',\n",
       " '피자 햄버거 샌드위치 및 유사 음식점업',\n",
       " '한식 음식점업',\n",
       " '호텔업',\n",
       " '화장품 및 방향제 소매업',\n",
       " '휴양콘도 운영업'}"
      ]
     },
     "execution_count": 19,
     "metadata": {},
     "output_type": "execute_result"
    }
   ],
   "source": [
    "set(clss_list)-set(['건강보조식품 소매업',\n",
    " '골프장 운영업'])"
   ]
  },
  {
   "cell_type": "code",
   "execution_count": 37,
   "metadata": {},
   "outputs": [
    {
     "data": {
      "text/html": [
       "<div>\n",
       "<style scoped>\n",
       "    .dataframe tbody tr th:only-of-type {\n",
       "        vertical-align: middle;\n",
       "    }\n",
       "\n",
       "    .dataframe tbody tr th {\n",
       "        vertical-align: top;\n",
       "    }\n",
       "\n",
       "    .dataframe thead th {\n",
       "        text-align: right;\n",
       "    }\n",
       "</style>\n",
       "<table border=\"1\" class=\"dataframe\">\n",
       "  <thead>\n",
       "    <tr style=\"text-align: right;\">\n",
       "      <th></th>\n",
       "      <th>REG_YYMM</th>\n",
       "      <th>CARD_SIDO_NM</th>\n",
       "      <th>STD_CLSS_NM</th>\n",
       "      <th>AMT</th>\n",
       "    </tr>\n",
       "  </thead>\n",
       "  <tbody>\n",
       "    <tr>\n",
       "      <th>0</th>\n",
       "      <td>201901</td>\n",
       "      <td>강원</td>\n",
       "      <td>건강보조식품 소매업</td>\n",
       "      <td>148354746</td>\n",
       "    </tr>\n",
       "    <tr>\n",
       "      <th>1</th>\n",
       "      <td>201901</td>\n",
       "      <td>강원</td>\n",
       "      <td>골프장 운영업</td>\n",
       "      <td>1229200312</td>\n",
       "    </tr>\n",
       "    <tr>\n",
       "      <th>2</th>\n",
       "      <td>201901</td>\n",
       "      <td>강원</td>\n",
       "      <td>과실 및 채소 소매업</td>\n",
       "      <td>1286979106</td>\n",
       "    </tr>\n",
       "    <tr>\n",
       "      <th>3</th>\n",
       "      <td>201901</td>\n",
       "      <td>강원</td>\n",
       "      <td>관광 민예품 및 선물용품 소매업</td>\n",
       "      <td>30656770</td>\n",
       "    </tr>\n",
       "    <tr>\n",
       "      <th>4</th>\n",
       "      <td>201901</td>\n",
       "      <td>강원</td>\n",
       "      <td>그외 기타 스포츠시설 운영업</td>\n",
       "      <td>13101500</td>\n",
       "    </tr>\n",
       "    <tr>\n",
       "      <th>...</th>\n",
       "      <td>...</td>\n",
       "      <td>...</td>\n",
       "      <td>...</td>\n",
       "      <td>...</td>\n",
       "    </tr>\n",
       "    <tr>\n",
       "      <th>9433</th>\n",
       "      <td>202003</td>\n",
       "      <td>충북</td>\n",
       "      <td>피자 햄버거 샌드위치 및 유사 음식점업</td>\n",
       "      <td>1315245299</td>\n",
       "    </tr>\n",
       "    <tr>\n",
       "      <th>9434</th>\n",
       "      <td>202003</td>\n",
       "      <td>충북</td>\n",
       "      <td>한식 음식점업</td>\n",
       "      <td>16152482704</td>\n",
       "    </tr>\n",
       "    <tr>\n",
       "      <th>9435</th>\n",
       "      <td>202003</td>\n",
       "      <td>충북</td>\n",
       "      <td>호텔업</td>\n",
       "      <td>15248550</td>\n",
       "    </tr>\n",
       "    <tr>\n",
       "      <th>9436</th>\n",
       "      <td>202003</td>\n",
       "      <td>충북</td>\n",
       "      <td>화장품 및 방향제 소매업</td>\n",
       "      <td>428881434</td>\n",
       "    </tr>\n",
       "    <tr>\n",
       "      <th>9437</th>\n",
       "      <td>202003</td>\n",
       "      <td>충북</td>\n",
       "      <td>휴양콘도 운영업</td>\n",
       "      <td>12733490</td>\n",
       "    </tr>\n",
       "  </tbody>\n",
       "</table>\n",
       "<p>9438 rows × 4 columns</p>\n",
       "</div>"
      ],
      "text/plain": [
       "      REG_YYMM CARD_SIDO_NM            STD_CLSS_NM          AMT\n",
       "0       201901           강원             건강보조식품 소매업    148354746\n",
       "1       201901           강원                골프장 운영업   1229200312\n",
       "2       201901           강원            과실 및 채소 소매업   1286979106\n",
       "3       201901           강원      관광 민예품 및 선물용품 소매업     30656770\n",
       "4       201901           강원        그외 기타 스포츠시설 운영업     13101500\n",
       "...        ...          ...                    ...          ...\n",
       "9433    202003           충북  피자 햄버거 샌드위치 및 유사 음식점업   1315245299\n",
       "9434    202003           충북                한식 음식점업  16152482704\n",
       "9435    202003           충북                    호텔업     15248550\n",
       "9436    202003           충북          화장품 및 방향제 소매업    428881434\n",
       "9437    202003           충북               휴양콘도 운영업     12733490\n",
       "\n",
       "[9438 rows x 4 columns]"
      ]
     },
     "execution_count": 37,
     "metadata": {},
     "output_type": "execute_result"
    }
   ],
   "source": [
    "df1"
   ]
  },
  {
   "cell_type": "code",
   "execution_count": 38,
   "metadata": {},
   "outputs": [
    {
     "data": {
      "text/html": [
       "<div>\n",
       "<style scoped>\n",
       "    .dataframe tbody tr th:only-of-type {\n",
       "        vertical-align: middle;\n",
       "    }\n",
       "\n",
       "    .dataframe tbody tr th {\n",
       "        vertical-align: top;\n",
       "    }\n",
       "\n",
       "    .dataframe thead th {\n",
       "        text-align: right;\n",
       "    }\n",
       "</style>\n",
       "<table border=\"1\" class=\"dataframe\">\n",
       "  <thead>\n",
       "    <tr style=\"text-align: right;\">\n",
       "      <th></th>\n",
       "      <th>REG_YYMM</th>\n",
       "      <th>CARD_SIDO_NM</th>\n",
       "      <th>STD_CLSS_NM</th>\n",
       "      <th>AMT</th>\n",
       "    </tr>\n",
       "  </thead>\n",
       "  <tbody>\n",
       "    <tr>\n",
       "      <th>0</th>\n",
       "      <td>201901</td>\n",
       "      <td>강원</td>\n",
       "      <td>건강보조식품 소매업</td>\n",
       "      <td>148354746</td>\n",
       "    </tr>\n",
       "    <tr>\n",
       "      <th>1</th>\n",
       "      <td>201901</td>\n",
       "      <td>강원</td>\n",
       "      <td>골프장 운영업</td>\n",
       "      <td>1229200312</td>\n",
       "    </tr>\n",
       "    <tr>\n",
       "      <th>2</th>\n",
       "      <td>201901</td>\n",
       "      <td>강원</td>\n",
       "      <td>과실 및 채소 소매업</td>\n",
       "      <td>1286979106</td>\n",
       "    </tr>\n",
       "    <tr>\n",
       "      <th>3</th>\n",
       "      <td>201901</td>\n",
       "      <td>강원</td>\n",
       "      <td>관광 민예품 및 선물용품 소매업</td>\n",
       "      <td>30656770</td>\n",
       "    </tr>\n",
       "    <tr>\n",
       "      <th>4</th>\n",
       "      <td>201901</td>\n",
       "      <td>강원</td>\n",
       "      <td>그외 기타 스포츠시설 운영업</td>\n",
       "      <td>13101500</td>\n",
       "    </tr>\n",
       "    <tr>\n",
       "      <th>...</th>\n",
       "      <td>...</td>\n",
       "      <td>...</td>\n",
       "      <td>...</td>\n",
       "      <td>...</td>\n",
       "    </tr>\n",
       "    <tr>\n",
       "      <th>8860</th>\n",
       "      <td>202003</td>\n",
       "      <td>강원</td>\n",
       "      <td>피자 햄버거 샌드위치 및 유사 음식점업</td>\n",
       "      <td>1275528331</td>\n",
       "    </tr>\n",
       "    <tr>\n",
       "      <th>8861</th>\n",
       "      <td>202003</td>\n",
       "      <td>강원</td>\n",
       "      <td>한식 음식점업</td>\n",
       "      <td>18063288995</td>\n",
       "    </tr>\n",
       "    <tr>\n",
       "      <th>8862</th>\n",
       "      <td>202003</td>\n",
       "      <td>강원</td>\n",
       "      <td>호텔업</td>\n",
       "      <td>367560828</td>\n",
       "    </tr>\n",
       "    <tr>\n",
       "      <th>8863</th>\n",
       "      <td>202003</td>\n",
       "      <td>강원</td>\n",
       "      <td>화장품 및 방향제 소매업</td>\n",
       "      <td>452924705</td>\n",
       "    </tr>\n",
       "    <tr>\n",
       "      <th>8864</th>\n",
       "      <td>202003</td>\n",
       "      <td>강원</td>\n",
       "      <td>휴양콘도 운영업</td>\n",
       "      <td>559876015</td>\n",
       "    </tr>\n",
       "  </tbody>\n",
       "</table>\n",
       "<p>572 rows × 4 columns</p>\n",
       "</div>"
      ],
      "text/plain": [
       "      REG_YYMM CARD_SIDO_NM            STD_CLSS_NM          AMT\n",
       "0       201901           강원             건강보조식품 소매업    148354746\n",
       "1       201901           강원                골프장 운영업   1229200312\n",
       "2       201901           강원            과실 및 채소 소매업   1286979106\n",
       "3       201901           강원      관광 민예품 및 선물용품 소매업     30656770\n",
       "4       201901           강원        그외 기타 스포츠시설 운영업     13101500\n",
       "...        ...          ...                    ...          ...\n",
       "8860    202003           강원  피자 햄버거 샌드위치 및 유사 음식점업   1275528331\n",
       "8861    202003           강원                한식 음식점업  18063288995\n",
       "8862    202003           강원                    호텔업    367560828\n",
       "8863    202003           강원          화장품 및 방향제 소매업    452924705\n",
       "8864    202003           강원               휴양콘도 운영업    559876015\n",
       "\n",
       "[572 rows x 4 columns]"
      ]
     },
     "execution_count": 38,
     "metadata": {},
     "output_type": "execute_result"
    }
   ],
   "source": [
    "df1[df1['CARD_SIDO_NM'] =='강원']"
   ]
  },
  {
   "cell_type": "code",
   "execution_count": 51,
   "metadata": {},
   "outputs": [],
   "source": [
    "dict1 = dict()\n",
    "for i in sido_list:\n",
    "    res = df1[df1['CARD_SIDO_NM'] =='{}'.format(i)]['STD_CLSS_NM'].unique()\n",
    "    result = set(clss_list) - set(res)\n",
    "    dict1['{}'.format(i)] = list(result)"
   ]
  },
  {
   "cell_type": "code",
   "execution_count": 52,
   "metadata": {},
   "outputs": [
    {
     "data": {
      "text/plain": [
       "{'강원': ['정기 항공 운송업'],\n",
       " '경기': ['면세점', '정기 항공 운송업'],\n",
       " '경남': ['면세점', '정기 항공 운송업'],\n",
       " '경북': ['면세점', '정기 항공 운송업'],\n",
       " '광주': ['그외 기타 분류안된 오락관련 서비스업', '면세점', '휴양콘도 운영업', '정기 항공 운송업'],\n",
       " '대구': ['그외 기타 분류안된 오락관련 서비스업', '휴양콘도 운영업', '정기 항공 운송업', '내항 여객 운송업'],\n",
       " '대전': ['택시 운송업',\n",
       "  '그외 기타 분류안된 오락관련 서비스업',\n",
       "  '면세점',\n",
       "  '버스 운송업',\n",
       "  '내항 여객 운송업',\n",
       "  '휴양콘도 운영업',\n",
       "  '정기 항공 운송업'],\n",
       " '부산': ['그외 기타 분류안된 오락관련 서비스업'],\n",
       " '서울': ['그외 기타 분류안된 오락관련 서비스업', '휴양콘도 운영업'],\n",
       " '세종': ['여행사업',\n",
       "  '택시 운송업',\n",
       "  '면세점',\n",
       "  '버스 운송업',\n",
       "  '내항 여객 운송업',\n",
       "  '자동차 임대업',\n",
       "  '휴양콘도 운영업',\n",
       "  '호텔업',\n",
       "  '정기 항공 운송업'],\n",
       " '울산': ['휴양콘도 운영업', '정기 항공 운송업', '내항 여객 운송업'],\n",
       " '인천': ['그외 기타 분류안된 오락관련 서비스업', '버스 운송업', '휴양콘도 운영업'],\n",
       " '전남': ['정기 항공 운송업'],\n",
       " '전북': ['그외 기타 분류안된 오락관련 서비스업', '면세점'],\n",
       " '제주': ['버스 운송업'],\n",
       " '충남': ['면세점'],\n",
       " '충북': ['그외 기타 분류안된 오락관련 서비스업', '정기 항공 운송업']}"
      ]
     },
     "execution_count": 52,
     "metadata": {},
     "output_type": "execute_result"
    }
   ],
   "source": [
    "dict1"
   ]
  },
  {
   "cell_type": "code",
   "execution_count": null,
   "metadata": {},
   "outputs": [],
   "source": []
  }
 ],
 "metadata": {
  "kernelspec": {
   "display_name": "Python 3",
   "language": "python",
   "name": "python3"
  },
  "language_info": {
   "codemirror_mode": {
    "name": "ipython",
    "version": 3
   },
   "file_extension": ".py",
   "mimetype": "text/x-python",
   "name": "python",
   "nbconvert_exporter": "python",
   "pygments_lexer": "ipython3",
   "version": "3.7.3"
  }
 },
 "nbformat": 4,
 "nbformat_minor": 4
}
