{
 "cells": [
  {
   "cell_type": "code",
   "execution_count": 3,
   "metadata": {},
   "outputs": [],
   "source": [
    "import pandas as pd\n",
    "from tqdm import tqdm"
   ]
  },
  {
   "cell_type": "code",
   "execution_count": 2,
   "metadata": {},
   "outputs": [],
   "source": [
    "df_raw = pd.read_csv('./data/jeju_data_ver1/201901-202003.csv')"
   ]
  },
  {
   "cell_type": "code",
   "execution_count": 5,
   "metadata": {},
   "outputs": [],
   "source": [
    "df=df_raw"
   ]
  },
  {
   "cell_type": "code",
   "execution_count": 6,
   "metadata": {},
   "outputs": [
    {
     "data": {
      "text/plain": [
       "Index(['REG_YYMM', 'CARD_SIDO_NM', 'CARD_CCG_NM', 'STD_CLSS_NM', 'HOM_SIDO_NM',\n",
       "       'HOM_CCG_NM', 'AGE', 'SEX_CTGO_CD', 'FLC', 'CSTMR_CNT', 'AMT', 'CNT'],\n",
       "      dtype='object')"
      ]
     },
     "execution_count": 6,
     "metadata": {},
     "output_type": "execute_result"
    }
   ],
   "source": [
    "df.columns"
   ]
  },
  {
   "cell_type": "code",
   "execution_count": 36,
   "metadata": {},
   "outputs": [],
   "source": [
    "df1 = df.groupby(['REG_YYMM', 'CARD_SIDO_NM', 'STD_CLSS_NM'])['AMT'].sum().reset_index()"
   ]
  },
  {
   "cell_type": "code",
   "execution_count": 11,
   "metadata": {},
   "outputs": [],
   "source": [
    "sido_list = list(df_raw['CARD_SIDO_NM'].unique())\n",
    "clss_list = list(df_raw['STD_CLSS_NM'].unique())"
   ]
  },
  {
   "cell_type": "code",
   "execution_count": 51,
   "metadata": {},
   "outputs": [],
   "source": [
    "dict1 = dict()\n",
    "for i in sido_list:\n",
    "    res = df1[df1['CARD_SIDO_NM'] =='{}'.format(i)]['STD_CLSS_NM'].unique()\n",
    "    result = set(clss_list) - set(res)\n",
    "    dict1['{}'.format(i)] = list(result)"
   ]
  },
  {
   "cell_type": "code",
   "execution_count": 52,
   "metadata": {},
   "outputs": [
    {
     "data": {
      "text/plain": [
       "{'강원': ['정기 항공 운송업'],\n",
       " '경기': ['면세점', '정기 항공 운송업'],\n",
       " '경남': ['면세점', '정기 항공 운송업'],\n",
       " '경북': ['면세점', '정기 항공 운송업'],\n",
       " '광주': ['그외 기타 분류안된 오락관련 서비스업', '면세점', '휴양콘도 운영업', '정기 항공 운송업'],\n",
       " '대구': ['그외 기타 분류안된 오락관련 서비스업', '휴양콘도 운영업', '정기 항공 운송업', '내항 여객 운송업'],\n",
       " '대전': ['택시 운송업',\n",
       "  '그외 기타 분류안된 오락관련 서비스업',\n",
       "  '면세점',\n",
       "  '버스 운송업',\n",
       "  '내항 여객 운송업',\n",
       "  '휴양콘도 운영업',\n",
       "  '정기 항공 운송업'],\n",
       " '부산': ['그외 기타 분류안된 오락관련 서비스업'],\n",
       " '서울': ['그외 기타 분류안된 오락관련 서비스업', '휴양콘도 운영업'],\n",
       " '세종': ['여행사업',\n",
       "  '택시 운송업',\n",
       "  '면세점',\n",
       "  '버스 운송업',\n",
       "  '내항 여객 운송업',\n",
       "  '자동차 임대업',\n",
       "  '휴양콘도 운영업',\n",
       "  '호텔업',\n",
       "  '정기 항공 운송업'],\n",
       " '울산': ['휴양콘도 운영업', '정기 항공 운송업', '내항 여객 운송업'],\n",
       " '인천': ['그외 기타 분류안된 오락관련 서비스업', '버스 운송업', '휴양콘도 운영업'],\n",
       " '전남': ['정기 항공 운송업'],\n",
       " '전북': ['그외 기타 분류안된 오락관련 서비스업', '면세점'],\n",
       " '제주': ['버스 운송업'],\n",
       " '충남': ['면세점'],\n",
       " '충북': ['그외 기타 분류안된 오락관련 서비스업', '정기 항공 운송업']}"
      ]
     },
     "execution_count": 52,
     "metadata": {},
     "output_type": "execute_result"
    }
   ],
   "source": [
    "dict1"
   ]
  },
  {
   "cell_type": "code",
   "execution_count": null,
   "metadata": {},
   "outputs": [],
   "source": []
  }
 ],
 "metadata": {
  "kernelspec": {
   "display_name": "Python 3",
   "language": "python",
   "name": "python3"
  },
  "language_info": {
   "codemirror_mode": {
    "name": "ipython",
    "version": 3
   },
   "file_extension": ".py",
   "mimetype": "text/x-python",
   "name": "python",
   "nbconvert_exporter": "python",
   "pygments_lexer": "ipython3",
   "version": "3.7.3"
  }
 },
 "nbformat": 4,
 "nbformat_minor": 4
}
